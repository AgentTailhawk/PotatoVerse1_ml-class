{
 "cells": [
  {
   "cell_type": "markdown",
   "metadata": {
    "id": "4xvgavwf4r5H"
   },
   "source": [
    "# Introduction to Clustering\n",
    "\n",
    "\n",
    "## Supervised vs Unsupervised learning\n",
    "\n",
    "Up until now we have been focusing on supervised learning. In supervised learning our training set consists of labeled data. For example, we have images and each image has an associated  label: dog, cat, elephant. And from this labeled data our model is trying to learn how to predict the label from the features. \n",
    "\n",
    "Unsupervised learning is trying to learn patterns from unlabeled data, and one set of models has to do with segmenting a dataset into clusters or groups of related data.\n",
    "\n",
    "![](https://cambridge-intelligence.com/wp-content/uploads/2016/01/clustering-animated.gif)\n",
    "\n",
    "We will cover two main clustering techniques.\n",
    "\n",
    "Let's explore this with a small dog breed dataset.\n",
    "\n",
    "First, we will load the dataset:"
   ]
  },
  {
   "cell_type": "code",
   "execution_count": 21,
   "metadata": {
    "id": "QAQv0rnv4r5N"
   },
   "outputs": [],
   "source": [
    "import pandas as pd\n",
    "dog_data = pd.read_csv('https://raw.githubusercontent.com/zacharski/machine-learning-notebooks/master/data/dogbreeds.csv')\n",
    "dog_data = dog_data.set_index('breed')"
   ]
  },
  {
   "cell_type": "code",
   "execution_count": 22,
   "metadata": {
    "colab": {
     "base_uri": "https://localhost:8080/",
     "height": 131
    },
    "id": "mPnF_WW44r5N",
    "outputId": "2524efbf-ea66-4f4b-c4c1-060062732ebd"
   },
   "outputs": [
    {
     "data": {
      "text/html": [
       "<div>\n",
       "<style scoped>\n",
       "    .dataframe tbody tr th:only-of-type {\n",
       "        vertical-align: middle;\n",
       "    }\n",
       "\n",
       "    .dataframe tbody tr th {\n",
       "        vertical-align: top;\n",
       "    }\n",
       "\n",
       "    .dataframe thead th {\n",
       "        text-align: right;\n",
       "    }\n",
       "</style>\n",
       "<table border=\"1\" class=\"dataframe\">\n",
       "  <thead>\n",
       "    <tr style=\"text-align: right;\">\n",
       "      <th></th>\n",
       "      <th>height (inches)</th>\n",
       "      <th>weight (pounds)</th>\n",
       "    </tr>\n",
       "    <tr>\n",
       "      <th>breed</th>\n",
       "      <th></th>\n",
       "      <th></th>\n",
       "    </tr>\n",
       "  </thead>\n",
       "  <tbody>\n",
       "    <tr>\n",
       "      <th>Border Collie</th>\n",
       "      <td>20</td>\n",
       "      <td>45</td>\n",
       "    </tr>\n",
       "    <tr>\n",
       "      <th>Boston Terrier</th>\n",
       "      <td>16</td>\n",
       "      <td>20</td>\n",
       "    </tr>\n",
       "    <tr>\n",
       "      <th>Brittany Spaniel</th>\n",
       "      <td>18</td>\n",
       "      <td>35</td>\n",
       "    </tr>\n",
       "    <tr>\n",
       "      <th>Bullmastiff</th>\n",
       "      <td>27</td>\n",
       "      <td>120</td>\n",
       "    </tr>\n",
       "    <tr>\n",
       "      <th>Chihuahua</th>\n",
       "      <td>8</td>\n",
       "      <td>8</td>\n",
       "    </tr>\n",
       "    <tr>\n",
       "      <th>German Shepherd</th>\n",
       "      <td>25</td>\n",
       "      <td>78</td>\n",
       "    </tr>\n",
       "    <tr>\n",
       "      <th>Golden Retreiver</th>\n",
       "      <td>23</td>\n",
       "      <td>70</td>\n",
       "    </tr>\n",
       "    <tr>\n",
       "      <th>Great Dane</th>\n",
       "      <td>32</td>\n",
       "      <td>160</td>\n",
       "    </tr>\n",
       "    <tr>\n",
       "      <th>Portuguese Water Dog</th>\n",
       "      <td>21</td>\n",
       "      <td>50</td>\n",
       "    </tr>\n",
       "    <tr>\n",
       "      <th>Standard Poodle</th>\n",
       "      <td>19</td>\n",
       "      <td>65</td>\n",
       "    </tr>\n",
       "    <tr>\n",
       "      <th>Yorkshire Terrier</th>\n",
       "      <td>6</td>\n",
       "      <td>7</td>\n",
       "    </tr>\n",
       "  </tbody>\n",
       "</table>\n",
       "</div>"
      ],
      "text/plain": [
       "                      height (inches)  weight (pounds)\n",
       "breed                                                 \n",
       "Border Collie                      20               45\n",
       "Boston Terrier                     16               20\n",
       "Brittany Spaniel                   18               35\n",
       "Bullmastiff                        27              120\n",
       "Chihuahua                           8                8\n",
       "German Shepherd                    25               78\n",
       "Golden Retreiver                   23               70\n",
       "Great Dane                         32              160\n",
       "Portuguese Water Dog               21               50\n",
       "Standard Poodle                    19               65\n",
       "Yorkshire Terrier                   6                7"
      ]
     },
     "execution_count": 22,
     "metadata": {},
     "output_type": "execute_result"
    }
   ],
   "source": [
    "dog_data"
   ]
  },
  {
   "cell_type": "markdown",
   "metadata": {
    "id": "-JI_WDmv4r5O"
   },
   "source": [
    "Looking at the values in the height and weight columns it looks like we should normalize the data.\n",
    "\n",
    "<img src=\"http://animalfair.com/wp-content/uploads/2014/08/chihuahua-and-great-dane.jpg\" width=\"700\"/>\n"
   ]
  },
  {
   "cell_type": "code",
   "execution_count": 24,
   "metadata": {
    "id": "kBV9waEe4r5P"
   },
   "outputs": [
    {
     "data": {
      "text/plain": [
       "<11x22 sparse matrix of type '<class 'numpy.float64'>'\n",
       "\twith 22 stored elements in Compressed Sparse Row format>"
      ]
     },
     "execution_count": 24,
     "metadata": {},
     "output_type": "execute_result"
    }
   ],
   "source": [
    "## TODO\n",
    "from sklearn.preprocessing import OneHotEncoder\n",
    "enc = OneHotEncoder(handle_unknown='ignore')\n",
    "dog_data = enc.fit_transform(dog_data)\n",
    "dog_data"
   ]
  },
  {
   "cell_type": "markdown",
   "metadata": {
    "id": "eVe08rKB4r5P"
   },
   "source": [
    "And let's visualize that data:"
   ]
  },
  {
   "cell_type": "code",
   "execution_count": 10,
   "metadata": {},
   "outputs": [
    {
     "name": "stdout",
     "output_type": "stream",
     "text": [
      "Requirement already satisfied: bokeh in /Users/raz/opt/anaconda3/lib/python3.9/site-packages (2.4.2)\r\n",
      "Requirement already satisfied: PyYAML>=3.10 in /Users/raz/opt/anaconda3/lib/python3.9/site-packages (from bokeh) (6.0)\r\n",
      "Requirement already satisfied: typing-extensions>=3.10.0 in /Users/raz/opt/anaconda3/lib/python3.9/site-packages (from bokeh) (4.1.1)\r\n",
      "Requirement already satisfied: packaging>=16.8 in /Users/raz/opt/anaconda3/lib/python3.9/site-packages (from bokeh) (21.3)\r\n",
      "Requirement already satisfied: tornado>=5.1 in /Users/raz/opt/anaconda3/lib/python3.9/site-packages (from bokeh) (6.1)\r\n",
      "Requirement already satisfied: Jinja2>=2.9 in /Users/raz/opt/anaconda3/lib/python3.9/site-packages (from bokeh) (2.11.3)\r\n",
      "Requirement already satisfied: pillow>=7.1.0 in /Users/raz/opt/anaconda3/lib/python3.9/site-packages (from bokeh) (9.0.1)\r\n",
      "Requirement already satisfied: numpy>=1.11.3 in /Users/raz/opt/anaconda3/lib/python3.9/site-packages (from bokeh) (1.21.5)\r\n",
      "Requirement already satisfied: MarkupSafe>=0.23 in /Users/raz/opt/anaconda3/lib/python3.9/site-packages (from Jinja2>=2.9->bokeh) (2.0.1)\r\n",
      "Requirement already satisfied: pyparsing!=3.0.5,>=2.0.2 in /Users/raz/opt/anaconda3/lib/python3.9/site-packages (from packaging>=16.8->bokeh) (3.0.4)\r\n"
     ]
    }
   ],
   "source": [
    "!pip install bokeh\n"
   ]
  },
  {
   "cell_type": "code",
   "execution_count": 11,
   "metadata": {
    "id": "9eNnwbZA4r5P",
    "outputId": "e32a34a6-8e6d-4002-9778-9416bb004a5e"
   },
   "outputs": [
    {
     "ename": "ModuleNotFoundError",
     "evalue": "No module named 'bokeh.charts'",
     "output_type": "error",
     "traceback": [
      "\u001b[0;31m---------------------------------------------------------------------------\u001b[0m",
      "\u001b[0;31mModuleNotFoundError\u001b[0m                       Traceback (most recent call last)",
      "Input \u001b[0;32mIn [11]\u001b[0m, in \u001b[0;36m<cell line: 1>\u001b[0;34m()\u001b[0m\n\u001b[0;32m----> 1\u001b[0m \u001b[38;5;28;01mfrom\u001b[39;00m \u001b[38;5;21;01mbokeh\u001b[39;00m\u001b[38;5;21;01m.\u001b[39;00m\u001b[38;5;21;01mcharts\u001b[39;00m \u001b[38;5;28;01mimport\u001b[39;00m Scatter, output_file, show\n\u001b[1;32m      2\u001b[0m \u001b[38;5;28;01mfrom\u001b[39;00m \u001b[38;5;21;01mbokeh\u001b[39;00m\u001b[38;5;21;01m.\u001b[39;00m\u001b[38;5;21;01mio\u001b[39;00m \u001b[38;5;28;01mimport\u001b[39;00m push_notebook, show, output_notebook\n\u001b[1;32m      3\u001b[0m output_notebook()\n",
      "\u001b[0;31mModuleNotFoundError\u001b[0m: No module named 'bokeh.charts'"
     ]
    }
   ],
   "source": [
    "from bokeh.charts import Scatter, output_file, show\n",
    "from bokeh.io import push_notebook, show, output_notebook\n",
    "output_notebook()\n",
    "x = Scatter(dog_data, x='weight (pounds)', y='height (inches)', title=\"Plot of Dog Breeds\",\n",
    "            xlabel=\"Normalized Weight\", ylabel=\"Normalized Height\")\n",
    "\n",
    "output_file(\"dogbreed.html\")\n",
    "\n",
    "show(x)"
   ]
  },
  {
   "cell_type": "markdown",
   "metadata": {
    "id": "wNd0rh6B4r5Q"
   },
   "source": [
    "Gazing at the scatter plot, it looks like we could group the data into three clusters. There are the 2 data points on the bottom left (*Chihuahua* and *Yorkshire Terrier*) The top right group of two (*Bull Mastiff* and *Great Dane*) and the middle group with all the other breeds. \n",
    "\n",
    "\n",
    "## My book\n",
    "![](http://zacharski.org/wp-content/uploads/2010/02/cover.png)\n",
    "\n",
    "Years ago I wrote a book on machine learning.The English version is free, and [the Chinese version is available on Amazon](https://www.amazon.com/%E5%86%99%E7%BB%99%E7%A8%8B%E5%BA%8F%E5%91%98%E7%9A%84%E6%95%B0%E6%8D%AE%E6%8C%96%E6%8E%98%E5%AE%9E%E8%B7%B5%E6%8C%87%E5%8D%97%EF%BC%88%E5%BC%82%E6%AD%A5%E5%9B%BE%E4%B9%A6%EF%BC%89-Chinese-Ron-Zacharski-%E6%89%8E%E5%93%88%E5%B0%94%E6%96%AF%E5%9F%BA-ebook/dp/B01ASYWU2I/ref=sr_1_6?dchild=1&keywords=zacharski&qid=1617035941&sr=8-6). The field has changed so much that most of the book is out of date. However [the general explanation of clustering](http://guidetodatamining.com/assets/guideChapters/DataMining-ch8.pdf) in the related chapter still is current and instead of repeating that here just read the material at the link. The book has the algorithms implemented from scratch but now these algorithms are available in sklearn:\n",
    "\n",
    "\n",
    "## k means clustering\n",
    "\n",
    "Let's divide our dog dataset into 3 clusters:\n"
   ]
  },
  {
   "cell_type": "code",
   "execution_count": 12,
   "metadata": {
    "id": "2skLMP5X4r5Q"
   },
   "outputs": [],
   "source": [
    "from sklearn.cluster import KMeans\n",
    "kmeans = KMeans(n_clusters=3, ).fit(dog_data)\n",
    "labels = kmeans.labels_"
   ]
  },
  {
   "cell_type": "markdown",
   "metadata": {
    "id": "0qTILIqf4r5R"
   },
   "source": [
    "The variable `labels` is an array the specifies which group each dog belongs to:"
   ]
  },
  {
   "cell_type": "code",
   "execution_count": 13,
   "metadata": {
    "id": "77rM5cBM4r5R",
    "outputId": "593c9062-0aca-48ae-a080-082af8fe9d13"
   },
   "outputs": [
    {
     "data": {
      "text/plain": [
       "array([0, 0, 0, 0, 0, 0, 0, 0, 1, 2, 0], dtype=int32)"
      ]
     },
     "execution_count": 13,
     "metadata": {},
     "output_type": "execute_result"
    }
   ],
   "source": [
    "labels"
   ]
  },
  {
   "cell_type": "markdown",
   "metadata": {
    "id": "WSlFYCBr4r5R"
   },
   "source": [
    "My results were:\n",
    "\n",
    "    array([0, 0, 0, 1, 2, 0, 0, 1, 0, 0, 2], dtype=int32)\n",
    "\n",
    "which indicates that the first, second, and third dogs are in group 0, the next one in group 1 and so on  That may be helpful for future computational tasks but is not the helpful if we are trying to visualize the data. Let me munge that a bit into a slightly more useful form:"
   ]
  },
  {
   "cell_type": "code",
   "execution_count": 14,
   "metadata": {
    "id": "8DHfIQVP4r5R",
    "outputId": "26906bfa-2a79-4772-8809-ea8033504942"
   },
   "outputs": [
    {
     "ename": "AttributeError",
     "evalue": "iterrows not found",
     "output_type": "error",
     "traceback": [
      "\u001b[0;31m---------------------------------------------------------------------------\u001b[0m",
      "\u001b[0;31mAttributeError\u001b[0m                            Traceback (most recent call last)",
      "Input \u001b[0;32mIn [14]\u001b[0m, in \u001b[0;36m<cell line: 3>\u001b[0;34m()\u001b[0m\n\u001b[1;32m      1\u001b[0m groups \u001b[38;5;241m=\u001b[39m {\u001b[38;5;241m0\u001b[39m: [], \u001b[38;5;241m1\u001b[39m: [], \u001b[38;5;241m2\u001b[39m: []}\n\u001b[1;32m      2\u001b[0m i \u001b[38;5;241m=\u001b[39m \u001b[38;5;241m0\u001b[39m\n\u001b[0;32m----> 3\u001b[0m \u001b[38;5;28;01mfor\u001b[39;00m index, row \u001b[38;5;129;01min\u001b[39;00m \u001b[43mdog_data\u001b[49m\u001b[38;5;241;43m.\u001b[39;49m\u001b[43miterrows\u001b[49m():\n\u001b[1;32m      4\u001b[0m     groups[labels[i]]\u001b[38;5;241m.\u001b[39mappend(index)\n\u001b[1;32m      5\u001b[0m     i \u001b[38;5;241m+\u001b[39m\u001b[38;5;241m=\u001b[39m \u001b[38;5;241m1\u001b[39m\n",
      "File \u001b[0;32m~/opt/anaconda3/lib/python3.9/site-packages/scipy/sparse/base.py:687\u001b[0m, in \u001b[0;36mspmatrix.__getattr__\u001b[0;34m(self, attr)\u001b[0m\n\u001b[1;32m    685\u001b[0m     \u001b[38;5;28;01mreturn\u001b[39;00m \u001b[38;5;28mself\u001b[39m\u001b[38;5;241m.\u001b[39mgetnnz()\n\u001b[1;32m    686\u001b[0m \u001b[38;5;28;01melse\u001b[39;00m:\n\u001b[0;32m--> 687\u001b[0m     \u001b[38;5;28;01mraise\u001b[39;00m \u001b[38;5;167;01mAttributeError\u001b[39;00m(attr \u001b[38;5;241m+\u001b[39m \u001b[38;5;124m\"\u001b[39m\u001b[38;5;124m not found\u001b[39m\u001b[38;5;124m\"\u001b[39m)\n",
      "\u001b[0;31mAttributeError\u001b[0m: iterrows not found"
     ]
    }
   ],
   "source": [
    "groups = {0: [], 1: [], 2: []}\n",
    "i = 0\n",
    "for index, row in dog_data.iterrows():\n",
    "    groups[labels[i]].append(index)\n",
    "    i += 1\n",
    "## Now I will print it in a nice way:\n",
    "\n",
    "for key, value in groups.items():\n",
    "    print ('CLUSTER %i' % key)\n",
    "    for breed in value:\n",
    "        print(\"    %s\" % breed)\n",
    "    print('\\n')"
   ]
  },
  {
   "cell_type": "markdown",
   "metadata": {
    "id": "n_OMZ5HL4r5S"
   },
   "source": [
    "keep in mind that since they initial centroids are selected somewhat randomly it is possible that you get a different answer than I do. The answer I got was:\n",
    "\n",
    "    CLUSTER 0\n",
    "        Border Collie\n",
    "        Boston Terrier\n",
    "        Brittany Spaniel\n",
    "        German Shepherd\n",
    "        Golden Retreiver\n",
    "        Portuguese Water Dog\n",
    "        Standard Poodle\n",
    "    \n",
    "\n",
    "    CLUSTER 1\n",
    "        Bullmastiff\n",
    "        Great Dane\n",
    "\n",
    "\n",
    "    CLUSTER 2\n",
    "        Chihuahua\n",
    "        Yorkshire Terrier\n",
    "\n",
    "\n",
    "## Hierarchical Clustering\n",
    "\n",
    "For the basics on hierarchical clustering consult [the fine chapter I mentioned](http://guidetodatamining.com/assets/guideChapters/DataMining-ch8.pdf). Here is how to do hierarchical clustering in sklearn."
   ]
  },
  {
   "cell_type": "code",
   "execution_count": 16,
   "metadata": {
    "id": "jTNxpY1J4r5S",
    "outputId": "001f3e27-6184-4b6c-ecec-57558ae2e1e8"
   },
   "outputs": [
    {
     "data": {
      "text/plain": [
       "AgglomerativeClustering()"
      ]
     },
     "execution_count": 16,
     "metadata": {},
     "output_type": "execute_result"
    }
   ],
   "source": [
    "\n",
    "from sklearn.cluster import AgglomerativeClustering\n",
    "clusterer = AgglomerativeClustering(affinity='euclidean', linkage='ward')\n",
    "clusterer.fit(dog_data.toarray())"
   ]
  },
  {
   "cell_type": "markdown",
   "metadata": {
    "id": "F2bA4cgu4r5T"
   },
   "source": [
    "we can get the highest level division by viewing the `.labels_`:\n"
   ]
  },
  {
   "cell_type": "code",
   "execution_count": 18,
   "metadata": {
    "id": "FYTJpb6-4r5T",
    "outputId": "1e3fed98-9d68-4507-b865-590b1d46a6c4"
   },
   "outputs": [
    {
     "data": {
      "text/plain": [
       "array([0, 0, 0, 0, 1, 1, 1, 1, 1, 1, 1])"
      ]
     },
     "execution_count": 18,
     "metadata": {},
     "output_type": "execute_result"
    }
   ],
   "source": [
    "clusterer.labels_"
   ]
  },
  {
   "cell_type": "markdown",
   "metadata": {
    "id": "i_J85yFr4r5T"
   },
   "source": [
    "So here the first dog breed, Border Collie belongs to cluster 0. Keep in mind that in kmeans there is a random element--the selection of the initial centroids, but in hierarchical clustering there is no randomness so you should get the exact same answer I do. so that is the high level division but the hierarchical clustering algorithm constructs a tree - specifically, a dendrogram. To view that requires some imagination.  I can print a representation of the tree by:"
   ]
  },
  {
   "cell_type": "code",
   "execution_count": 19,
   "metadata": {
    "id": "rGdrv0Kq4r5T",
    "outputId": "0cabe066-0513-4f6b-8da1-441d821f23da"
   },
   "outputs": [
    {
     "data": {
      "text/plain": [
       "[{'node_id': 11, 'left': 7, 'right': 8},\n",
       " {'node_id': 12, 'left': 9, 'right': 11},\n",
       " {'node_id': 13, 'left': 4, 'right': 5},\n",
       " {'node_id': 14, 'left': 6, 'right': 13},\n",
       " {'node_id': 15, 'left': 12, 'right': 14},\n",
       " {'node_id': 16, 'left': 10, 'right': 15},\n",
       " {'node_id': 17, 'left': 0, 'right': 1},\n",
       " {'node_id': 18, 'left': 2, 'right': 17},\n",
       " {'node_id': 19, 'left': 3, 'right': 18},\n",
       " {'node_id': 20, 'left': 16, 'right': 19}]"
      ]
     },
     "execution_count": 19,
     "metadata": {},
     "output_type": "execute_result"
    }
   ],
   "source": [
    "import itertools\n",
    "ii = itertools.count(dog_data.shape[0])\n",
    "[{'node_id': next(ii), 'left': x[0], 'right':x[1]} for x in clusterer.children_]"
   ]
  },
  {
   "cell_type": "markdown",
   "metadata": {
    "id": "336xIjIv4r5U"
   },
   "source": [
    "The first line `{'left': 0, 'node_id': 11, 'right': 8}` reads that we combine cluster 0 *Border Collie* with cluster 8 *Portuguese Water Dog* to create Cluster 11. The next line says we  combine 4 *Chihuahua* with 10 *Yorkshire Terrier* to create cluster 12.  Let's associate index numbers with the dog breed names so that structure is easier to parse:\n"
   ]
  },
  {
   "cell_type": "code",
   "execution_count": 23,
   "metadata": {
    "id": "5o2v0-cT4r5U",
    "outputId": "4aa75247-6b01-4271-dd38-d1ca51b6d6de"
   },
   "outputs": [
    {
     "data": {
      "text/html": [
       "<div>\n",
       "<style scoped>\n",
       "    .dataframe tbody tr th:only-of-type {\n",
       "        vertical-align: middle;\n",
       "    }\n",
       "\n",
       "    .dataframe tbody tr th {\n",
       "        vertical-align: top;\n",
       "    }\n",
       "\n",
       "    .dataframe thead th {\n",
       "        text-align: right;\n",
       "    }\n",
       "</style>\n",
       "<table border=\"1\" class=\"dataframe\">\n",
       "  <thead>\n",
       "    <tr style=\"text-align: right;\">\n",
       "      <th></th>\n",
       "      <th>breeds</th>\n",
       "    </tr>\n",
       "  </thead>\n",
       "  <tbody>\n",
       "    <tr>\n",
       "      <th>0</th>\n",
       "      <td>Border Collie</td>\n",
       "    </tr>\n",
       "    <tr>\n",
       "      <th>1</th>\n",
       "      <td>Boston Terrier</td>\n",
       "    </tr>\n",
       "    <tr>\n",
       "      <th>2</th>\n",
       "      <td>Brittany Spaniel</td>\n",
       "    </tr>\n",
       "    <tr>\n",
       "      <th>3</th>\n",
       "      <td>Bullmastiff</td>\n",
       "    </tr>\n",
       "    <tr>\n",
       "      <th>4</th>\n",
       "      <td>Chihuahua</td>\n",
       "    </tr>\n",
       "    <tr>\n",
       "      <th>5</th>\n",
       "      <td>German Shepherd</td>\n",
       "    </tr>\n",
       "    <tr>\n",
       "      <th>6</th>\n",
       "      <td>Golden Retreiver</td>\n",
       "    </tr>\n",
       "    <tr>\n",
       "      <th>7</th>\n",
       "      <td>Great Dane</td>\n",
       "    </tr>\n",
       "    <tr>\n",
       "      <th>8</th>\n",
       "      <td>Portuguese Water Dog</td>\n",
       "    </tr>\n",
       "    <tr>\n",
       "      <th>9</th>\n",
       "      <td>Standard Poodle</td>\n",
       "    </tr>\n",
       "    <tr>\n",
       "      <th>10</th>\n",
       "      <td>Yorkshire Terrier</td>\n",
       "    </tr>\n",
       "  </tbody>\n",
       "</table>\n",
       "</div>"
      ],
      "text/plain": [
       "                  breeds\n",
       "0          Border Collie\n",
       "1         Boston Terrier\n",
       "2       Brittany Spaniel\n",
       "3            Bullmastiff\n",
       "4              Chihuahua\n",
       "5        German Shepherd\n",
       "6       Golden Retreiver\n",
       "7             Great Dane\n",
       "8   Portuguese Water Dog\n",
       "9        Standard Poodle\n",
       "10     Yorkshire Terrier"
      ]
     },
     "execution_count": 23,
     "metadata": {},
     "output_type": "execute_result"
    }
   ],
   "source": [
    "dog_names = pd.DataFrame({'breeds': dog_data.index.values})\n",
    "dog_names"
   ]
  },
  {
   "cell_type": "markdown",
   "metadata": {
    "id": "jVSLZcCN4r5V"
   },
   "source": [
    "That makes it easier to interpret lines like:\n",
    "\n",
    "    {'left': 1, 'node_id': 14, 'right': 2},\n",
    "    \n",
    "We are combining `1` *Boston Terrier* and `2` *Brittany Spaniel*\n",
    "\n",
    "So when we draw this out we get:\n",
    "\n",
    "<img src=\"http://zacharski.org/files/courses/cs419/dendro.png\" width=\"700\"/>\n",
    "\n",
    "\n",
    "<h1 style=\"color:red\">Tasks</h1>\n",
    "\n",
    "<h2 style=\"color:red\">Task 1: Breakfast Cereals</h2>\n",
    "I would like you to create 4 clusters of the data in:\n",
    "\n",
    "    https://raw.githubusercontent.com/zacharski/pg2dm-python/master/data/ch8/cereal.csv\n",
    "    \n",
    "For clustering use the features calories, sugar, protein, and fiber.\n",
    "\n",
    "Print out the results as we did for the dog breed data:\n",
    "\n",
    "\n",
    "    CLUSTER 0\n",
    "    Bullmastiff\n",
    "    Great Dane\n",
    "    \n",
    "\n",
    "    CLUSTER 1\n",
    "        Chihuahua\n",
    "        Yorkshire Terrier\n",
    "    \n",
    "\n",
    "    CLUSTER 2\n",
    "        Border Collie\n",
    "        Boston Terrier\n",
    "        Brittany Spaniel\n",
    "        German Shepherd\n",
    "        Golden Retreiver\n",
    "        Portuguese Water Dog\n",
    "        Standard Poodle\n",
    "        \n",
    "Because the initial centroids are random, by default the sklearn kmeans agorithm runs the algorithm 10 times and picks the best results (based on some of squares error). I would like you to change that parameter so it runs the algorithm 100 times.   Just google `sklearn kmeans` to get documentation on the parameters."
   ]
  },
  {
   "cell_type": "code",
   "execution_count": null,
   "metadata": {
    "collapsed": true,
    "id": "K2RR8kwx4r5V"
   },
   "outputs": [],
   "source": []
  },
  {
   "cell_type": "markdown",
   "metadata": {
    "id": "HkQoS43x4r5W"
   },
   "source": [
    "\n",
    "<h2 style=\"color:red\">Task 2: Hierarchical</h2>\n",
    "I would like you to use the hierarchical clustering algorithm on the cereal data.\n"
   ]
  },
  {
   "cell_type": "code",
   "execution_count": null,
   "metadata": {
    "collapsed": true,
    "id": "H9Ye84l-4r5W"
   },
   "outputs": [],
   "source": []
  },
  {
   "cell_type": "markdown",
   "metadata": {
    "id": "zRKqUn9p4r5W"
   },
   "source": [
    "And here is a question. What clusters with *Fruity Pebbles*?"
   ]
  },
  {
   "cell_type": "code",
   "execution_count": null,
   "metadata": {
    "collapsed": true,
    "id": "BTxVp-rX4r5W"
   },
   "outputs": [],
   "source": []
  },
  {
   "cell_type": "markdown",
   "metadata": {
    "id": "NVZNNl3X8_hQ"
   },
   "source": [
    "## A non-programming question\n",
    "\n",
    "The following is a table of the weights of some world-class female athletes.\n",
    "\n",
    "\n",
    "name | weight in pounds\n",
    ":--- | ---:\n",
    "Asuka Teramoto\t|\t66\n",
    "Linlin Deng\t |\t68\n",
    "Rebecca Tunney\t|\t76\n",
    "Helalia Johannes\t|\t99\n",
    "Kara Goucher\t|\t123\n",
    "Brittainey Raven |\t162\n",
    "Jennifer Lacy\t|\t175\n",
    "Nakia Sanford\t|\t200\n",
    "Chen Nan\t|\t204\n",
    "\n",
    "\n",
    "In Single Linkage Hierarchical Clustering, what is the first cluster made?\n",
    "\n",
    "\n",
    "Note: You can indicate hiearchies with sub-lists: \n",
    "\n",
    "```\n",
    "  [['acoustic guitar', 'electric guitar'], 'dobro']\n",
    "```\n",
    "\n",
    "\n"
   ]
  },
  {
   "cell_type": "code",
   "execution_count": 4,
   "metadata": {
    "id": "JT13DrJbEGUL"
   },
   "outputs": [],
   "source": [
    "athletes = ['Asuka Teramoto', 'Linlin Deng', 'Rebecca Tunney', 'Helalia Johannes', 'Kara Goucher', 'Brittainey Raven', 'Jennifer Lacy', 'Nakia Sanford', 'Chen Nan']\n",
    "\n",
    "# TO DO\n",
    "first_cluster = []"
   ]
  },
  {
   "cell_type": "markdown",
   "metadata": {
    "id": "wtHU06uzGscP"
   },
   "source": [
    "What is the second cluster made?"
   ]
  },
  {
   "cell_type": "code",
   "execution_count": null,
   "metadata": {
    "id": "lnvJ32j5FCxf"
   },
   "outputs": [],
   "source": [
    "# TO DO"
   ]
  },
  {
   "cell_type": "markdown",
   "metadata": {
    "id": "aIgk1cE5Gwnj"
   },
   "source": [
    "What is the third?"
   ]
  },
  {
   "cell_type": "code",
   "execution_count": null,
   "metadata": {
    "id": "K0Cyj93eGx9M"
   },
   "outputs": [],
   "source": []
  }
 ],
 "metadata": {
  "colab": {
   "name": "clustering.ipynb",
   "provenance": []
  },
  "kernelspec": {
   "display_name": "Python 3 (ipykernel)",
   "language": "python",
   "name": "python3"
  },
  "language_info": {
   "codemirror_mode": {
    "name": "ipython",
    "version": 3
   },
   "file_extension": ".py",
   "mimetype": "text/x-python",
   "name": "python",
   "nbconvert_exporter": "python",
   "pygments_lexer": "ipython3",
   "version": "3.9.12"
  }
 },
 "nbformat": 4,
 "nbformat_minor": 1
}
