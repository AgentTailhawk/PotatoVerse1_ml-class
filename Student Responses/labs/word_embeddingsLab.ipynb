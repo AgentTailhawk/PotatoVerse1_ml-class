{
  "cells": [
    {
      "cell_type": "code",
      "execution_count": 1,
      "metadata": {
        "id": "L8bIz-dx6t3l",
        "colab": {
          "base_uri": "https://localhost:8080/",
          "height": 36
        },
        "outputId": "3253b179-41cc-493f-d868-f9a6e1e8cc52"
      },
      "outputs": [
        {
          "output_type": "execute_result",
          "data": {
            "text/plain": [
              "'2.12.0'"
            ],
            "application/vnd.google.colaboratory.intrinsic+json": {
              "type": "string"
            }
          },
          "metadata": {},
          "execution_count": 1
        }
      ],
      "source": [
        "import keras\n",
        "keras.__version__"
      ]
    },
    {
      "cell_type": "markdown",
      "metadata": {
        "id": "fcwCWVoR6t3q"
      },
      "source": [
        "# Using word embeddings\n",
        "![](https://raw.githubusercontent.com/zacharski/ml-class/master/labs/pics/wordEmbeddingsPic.png)\n",
        "#\n",
        "\n",
        "## Meaning\n",
        "For hundreds of years linguists have been investigating how to encode the semantic information of a word. Some believe that there is a universal mental concept, for example `MOON`, with some universal representation in our brains that gets represented in English as *moon*, in Uyghur as ئاي, as *Hanhepi wi* in Lakota, and as \n",
        "月 in Japanese. It is also believed that  concepts such as `MOON` and `SUN` share some common semantic features. Similar words would cluster together in semantic space. For example, moon, sun, Mars, Neptune, the Milky Way Galaxy seem to have some similarities and form a group as does a group we could label domestic animals that might include horses, dogs, and cats, which in turn are different from wild animals. So words like *dog*, *cat*, *horse*, have, as part of their semantic meaning, some feature that is the same among these words  and that feature is not present in the representations for the words *moon* or *sun*. \n",
        "\n",
        "We might consider doing this by hand. For example, consider the words:\n",
        "\n",
        "* astronaut\n",
        "* cat\n",
        "* chair\n",
        "* dog\n",
        "* donkey\n",
        "* owl\n",
        "\n",
        "We might represent the semantic closeness of the words by distance. So dog and cat are the most similar:\n",
        "\n",
        "![](https://raw.githubusercontent.com/zacharski/ml-class/master/labs/pics/semantics2.png)\n",
        "\n",
        "From there we can decide on a list of semantic features and represent each word as a collection of these features, \n",
        "\n",
        "![](https://raw.githubusercontent.com/zacharski/ml-class/master/labs/pics/semantics3.png) \n",
        "\n",
        "As you can imagine, coming up with this feature list, and then labeling each word, is extremely difficult. Linguists have been struggling with this for centuries.\n",
        "\n",
        "But we can have a computer do it.\n",
        "\n",
        "\n",
        "## Latent Features\n",
        "Latent features are simply features that are hidden---we don't know what they are but we know words share some features. These semantic features impact how a word occurs in different contexts. \n",
        "\n",
        "\n",
        "For example, it would be rare for a verb to follow the word *the*:\n",
        "\n",
        "* *The says ...\n",
        "* *The haven't\n",
        "* *The see\n",
        "\n",
        "(Here the asterisk * represents a sentence most people would find odd). And again, this is just probability. Certainly, you can construct sentences that have these sequences that are perfectly fine (*The says who questioning method .*, *Just experimenting with the Says Who basics on myself or with clients*, *The haven't had time excuse*). But the likelihood of the word *says* following *the* is extremely rare. \n",
        "\n",
        "Similarly, sentences like\n",
        "\n",
        "* I fed my ___\n",
        "* I fed my dog\n",
        "* I fed my poodle\n",
        "* I fed my cat\n",
        "* I fed my horse\n",
        "\n",
        "occur much more frequently than\n",
        "\n",
        "* I fed my ___\n",
        "* I fed my moon\n",
        "* I fed my sun\n",
        "* I fed my Neptune\n",
        "* I fed my Milky Way Galaxy.\n",
        "\n",
        "So, we come to the quote by Firth:\n",
        "\n",
        "> You shall know a word by the company it keeps - John Rupert Firth\n",
        "\n",
        "The idea is a simple one and is based on counting and statistics. If we find a bunch of words that occur in the same context, we can assume that they share some semantic feature. And, if we didn't know a language we could still do this analysis. Considier:\n",
        "\n",
        "* le di de comer a mi gato\n",
        "* le di de comer a mi perro\n",
        "* le di de comer a mi burro\n",
        "* le di de comer a mi caballo\n",
        "\n",
        "* el perro comió la carne\n",
        "* el burro comió el grano\n",
        "* el gato comió pescado en el almuerzo\n",
        "* el caballo comio la hierba\n",
        "\n",
        "> NOTE: These sentences may not be correct Spanish sentence as I used Google Translate. If you are a Spanish speaker and notice an error, please let me know.\n",
        "\n",
        "In these examples, since the words *gato, perro, burro, cabello*, occur in the same contexts we can assume they share some semantic feature.  We wouldn't know that the feature is animal but we would know that they share some feature, let's call it x29. This, as we talked about is a latent feature.\n",
        "\n",
        "Now, without going into any detail whatsoever, we can imagine giving an algorithm a gigaword corpus and telling it to come up with 100 semantic features that explain the distribution of the words in the corpus. \n",
        "\n",
        "That is what **word embeddings** are in their simplist form. \n",
        "\n",
        "\n",
        "### Sparse vs. dense dimensions.\n",
        "In our previous work with text, we determined the size of our vocabulary, say 10,000 words, and created a vector where each column represented a different word in the vocabulary. So let's say column 1 was *a* and 2 *the*, and 7,253 *computer* and so on. If we encode a sentence that starts *the computer*, the word *the* would be represented by a '1' in column 1 and zeroes in the other 9,999 columns. The word *computer* would have a '1' in column 7,253 and zeroes in the other 9,999. That is an awful lot of zeroes, and this vector is called **sparse**. This looks like the first image below, where the blue square represents a '1' and the black represents all zeroes. \n",
        "\n"
      ]
    },
    {
      "cell_type": "markdown",
      "metadata": {
        "id": "cH3xchp86t3r"
      },
      "source": [
        "![word embeddings vs. one hot encoding](https://raw.githubusercontent.com/zacharski/ml-class/master/labs/pics/wordEmbeddings.png)"
      ]
    },
    {
      "cell_type": "markdown",
      "metadata": {
        "id": "M3l4_QvP6t3r"
      },
      "source": [
        "With word embeddings we determine a feature size, 100, 200, 300 dimensions, and then each word is represented by a vector with values between 0 and 1. This is shown in the dense diagram above where the different colors represent different fractional values. \n",
        "\n",
        "In the one-hot-encoding method, each word was represented by a sparse vector the size of the vocabulary and vectors of 10,000 or 20,000 entries are not uncommon. In contrast, in the word embedding method, each word is represented by a dense vector of only 100 or 300 values. Thus, in the word embedding approach information is packed into a much smaller vector. \n",
        "\n",
        "In addition, in the one-hot encoding method there were no relationships between words. For example, *poodle* might be word 9,712 and *dog* 1,797, and they were treated completely separately. In the word embedding approach, the similarities of *poodle* and *dog* are represented within the word embeddings. \n",
        "\n",
        "\n",
        "#### Once again for emphasis\n",
        "While the vectors obtained through one-hot encoding are binary, sparse (mostly made of zeros) and very high-dimensional (same dimensionality as the \n",
        "number of words in the vocabulary), \"word embeddings\" are low-dimensional floating point vectors \n",
        "\n",
        "\n",
        "#### Note\n",
        "The following notebook is a remix of one by Francis Cholet (see the end of the notebook for more information)\n",
        "\n",
        "\n",
        "### Obtaining word embeddings\n",
        "There are two ways to obtain word embeddings:\n",
        "\n",
        "* Learn word embeddings jointly with the main task you care about (e.g. document classification or sentiment prediction). \n",
        "In this setup, you would start with random word vectors, then learn your word vectors in the same way that you learn the weights of a neural network.\n",
        "* Load into your model word embeddings that were pre-computed using a different machine learning task than the one you are trying to solve. \n",
        "These are called \"pre-trained word embeddings\". \n",
        "\n",
        "Let's take a look at both."
      ]
    },
    {
      "cell_type": "markdown",
      "metadata": {
        "id": "NbhGdm0e6t3s"
      },
      "source": [
        "## Learning word embeddings with the `Embedding` layer\n",
        "\n",
        "\n",
        "The simplest way to associate a dense vector to a word would be to pick the vector at random. For example, we could assign binary numbers to each word randomly.\n",
        "\n",
        "index | binary | word\n",
        "--: | --: | :---\n",
        "1 | 00000001 | dog\n",
        "2 | 00000010 | moon\n",
        "3 | 00000011 | chair\n",
        "... | ... | ...\n",
        "238 | 11101110 | standard poodle\n",
        "239 | 11101111 | smart phone\n",
        "\n",
        "\n",
        "The problem with this approach is that the \n",
        "resulting embedding space would have no structure. For instance, the words \"accurate\" and \"exact\" may end up with completely different \n",
        "embeddings, even though they are interchangeable in most sentences. It would be very difficult for a deep neural network to make sense of \n",
        "such a noisy, unstructured embedding space. \n",
        "\n",
        "To get a bit more abstract: the geometric relationships between word vectors should reflect the semantic relationships between these words. \n",
        "Word embeddings are meant to map human language into a geometric space. For instance, in a reasonable embedding space, we would expect \n",
        "synonyms to be embedded into similar word vectors, and in general we would expect the geometric distance (e.g. L2 distance) between any two \n",
        "word vectors to relate to the semantic distance of the associated words (words meaning very different things would be embedded to points \n",
        "far away from each other, while related words would be closer). Even beyond mere distance, we may want specific __directions__ in the \n",
        "embedding space to be meaningful. \n",
        "\n",
        "\n",
        "\n",
        "In real-world word embedding spaces, common examples of meaningful geometric transformations are \"gender vectors\" and \"plural vector\". For \n",
        "instance, by adding a \"female vector\" to the vector \"king\", one obtain the vector \"queen\". By adding a \"plural vector\", one obtain \"kings\". \n",
        "Word embedding spaces typically feature thousands of such interpretable and potentially useful vectors.\n",
        "\n",
        "Is there some \"ideal\" word embedding space that would perfectly map human language and could be used for any natural language processing \n",
        "task? Possibly, but in any case, we have yet to compute anything of the sort. Also, there isn't such a thing as \"human language\", there are \n",
        "many different languages and they are not isomorphic, as a language is the reflection of a specific culture and a specific context. But more \n",
        "pragmatically, what makes a good word embedding space depends heavily on your task: the perfect word embedding space for an \n",
        "English-language movie review sentiment analysis model may look very different from the perfect embedding space for an English-language \n",
        "legal document classification model, because the importance of certain semantic relationships varies from task to task.\n",
        "\n",
        "It is thus reasonable to __learn__ a new embedding space with every new task. Thankfully, backpropagation makes this really easy, and Keras makes it \n",
        "even easier. It's just about learning the weights of a layer: the `Embedding` layer."
      ]
    },
    {
      "cell_type": "code",
      "execution_count": 2,
      "metadata": {
        "id": "81dFNJsz6t3s"
      },
      "outputs": [],
      "source": [
        "from keras.layers import Embedding\n",
        "\n",
        "# The Embedding layer takes at least two arguments:\n",
        "# the number of possible tokens, here 1000 (1 + maximum word index),\n",
        "# and the dimensionality of the embeddings, here 64.\n",
        "embedding_layer = Embedding(1000, 64)"
      ]
    },
    {
      "cell_type": "markdown",
      "metadata": {
        "id": "OUqdtrTj6t3v"
      },
      "source": [
        "\n",
        "The `Embedding` layer is best understood as a dictionary mapping integer indices (which stand for specific words) to dense vectors. It takes \n",
        "as input integers, it looks up these integers into an internal dictionary, and it returns the associated vectors. It's effectively a dictionary lookup."
      ]
    },
    {
      "cell_type": "markdown",
      "metadata": {
        "id": "-tPFE8U-6t3w"
      },
      "source": [
        "\n",
        "The `Embedding` layer takes as input a 2D tensor of integers, of shape `(samples, sequence_length)`, where each entry is a sequence of \n",
        "integers. So, for example, we may have a dataset of 10,000 tweets so that 10,000 is the `samples` and each sample consists of a sequence of integers representing the words in the tweet. It can embed sequences of variable lengths, so for instance we could feed into our embedding layer above batches that could have \n",
        "shapes `(32, 10)` (batch of 32 sequences of length 10) or `(64, 15)` (batch of 64 sequences of length 15). All sequences in a batch must \n",
        "have the same length, though (since we need to pack them into a single tensor), so sequences that are shorter than others should be padded \n",
        "with zeros, and sequences that are longer should be truncated.\n",
        "\n",
        "This layer returns a 3D floating point tensor, of shape `(samples, sequence_length, embedding_dimensionality)`. \n",
        "\n",
        "When you instantiate an `Embedding` layer, its weights (its internal dictionary of token vectors) are initially random, just like with any \n",
        "other layer. During training, these word vectors will be gradually adjusted via backpropagation, structuring the space into something that the \n",
        "downstream model can exploit. Once fully trained, your embedding space will show a lot of structure -- a kind of structure specialized for \n",
        "the specific problem you were training your model for.\n",
        "\n",
        "Let's apply this idea to the IMDB movie review sentiment prediction task that you are already familiar with. Let's quickly prepare \n",
        "the data. We will restrict the movie reviews to the top 20,000 most common words \n",
        "and cut the reviews after only 50 words. Our network will simply learn 50-dimensional embeddings for each of the 20,000 words, turn the \n",
        "input integer sequences (2D integer tensor) into embedded sequences (3D float tensor), flatten the tensor to 2D, and train a single `Dense` \n",
        "layer on top for classification."
      ]
    },
    {
      "cell_type": "code",
      "execution_count": 3,
      "metadata": {
        "id": "h3ORYjSkkdo9",
        "colab": {
          "base_uri": "https://localhost:8080/"
        },
        "outputId": "669f89d0-109d-4944-bc70-b5bd44401a7a"
      },
      "outputs": [
        {
          "output_type": "stream",
          "name": "stdout",
          "text": [
            "--2023-04-23 19:55:52--  http://zacharski.org/files/courses/cs419/imdb.zip\n",
            "Resolving zacharski.org (zacharski.org)... 198.199.65.227\n",
            "Connecting to zacharski.org (zacharski.org)|198.199.65.227|:80... connected.\n",
            "HTTP request sent, awaiting response... 200 OK\n",
            "Length: 26559010 (25M) [application/zip]\n",
            "Saving to: ‘imdb.zip’\n",
            "\n",
            "imdb.zip            100%[===================>]  25.33M  54.1MB/s    in 0.5s    \n",
            "\n",
            "2023-04-23 19:55:53 (54.1 MB/s) - ‘imdb.zip’ saved [26559010/26559010]\n",
            "\n"
          ]
        }
      ],
      "source": [
        "!wget http://zacharski.org/files/courses/cs419/imdb.zip\n"
      ]
    },
    {
      "cell_type": "code",
      "execution_count": 4,
      "metadata": {
        "id": "Sc_HJW6lov9Q",
        "colab": {
          "base_uri": "https://localhost:8080/",
          "height": 423
        },
        "outputId": "b78d37fc-e63b-4c77-aa65-ffc970172f1a"
      },
      "outputs": [
        {
          "output_type": "execute_result",
          "data": {
            "text/plain": [
              "                                                  review sentiment\n",
              "0      One of the other reviewers has mentioned that ...  positive\n",
              "1      A wonderful little production. <br /><br />The...  positive\n",
              "2      I thought this was a wonderful way to spend ti...  positive\n",
              "3      Basically there's a family where a little boy ...  negative\n",
              "4      Petter Mattei's \"Love in the Time of Money\" is...  positive\n",
              "...                                                  ...       ...\n",
              "49995  I thought this movie did a down right good job...  positive\n",
              "49996  Bad plot, bad dialogue, bad acting, idiotic di...  negative\n",
              "49997  I am a Catholic taught in parochial elementary...  negative\n",
              "49998  I'm going to have to disagree with the previou...  negative\n",
              "49999  No one expects the Star Trek movies to be high...  negative\n",
              "\n",
              "[50000 rows x 2 columns]"
            ],
            "text/html": [
              "\n",
              "  <div id=\"df-9c4941d3-e102-4a76-b4d2-8f1b912c2b6d\">\n",
              "    <div class=\"colab-df-container\">\n",
              "      <div>\n",
              "<style scoped>\n",
              "    .dataframe tbody tr th:only-of-type {\n",
              "        vertical-align: middle;\n",
              "    }\n",
              "\n",
              "    .dataframe tbody tr th {\n",
              "        vertical-align: top;\n",
              "    }\n",
              "\n",
              "    .dataframe thead th {\n",
              "        text-align: right;\n",
              "    }\n",
              "</style>\n",
              "<table border=\"1\" class=\"dataframe\">\n",
              "  <thead>\n",
              "    <tr style=\"text-align: right;\">\n",
              "      <th></th>\n",
              "      <th>review</th>\n",
              "      <th>sentiment</th>\n",
              "    </tr>\n",
              "  </thead>\n",
              "  <tbody>\n",
              "    <tr>\n",
              "      <th>0</th>\n",
              "      <td>One of the other reviewers has mentioned that ...</td>\n",
              "      <td>positive</td>\n",
              "    </tr>\n",
              "    <tr>\n",
              "      <th>1</th>\n",
              "      <td>A wonderful little production. &lt;br /&gt;&lt;br /&gt;The...</td>\n",
              "      <td>positive</td>\n",
              "    </tr>\n",
              "    <tr>\n",
              "      <th>2</th>\n",
              "      <td>I thought this was a wonderful way to spend ti...</td>\n",
              "      <td>positive</td>\n",
              "    </tr>\n",
              "    <tr>\n",
              "      <th>3</th>\n",
              "      <td>Basically there's a family where a little boy ...</td>\n",
              "      <td>negative</td>\n",
              "    </tr>\n",
              "    <tr>\n",
              "      <th>4</th>\n",
              "      <td>Petter Mattei's \"Love in the Time of Money\" is...</td>\n",
              "      <td>positive</td>\n",
              "    </tr>\n",
              "    <tr>\n",
              "      <th>...</th>\n",
              "      <td>...</td>\n",
              "      <td>...</td>\n",
              "    </tr>\n",
              "    <tr>\n",
              "      <th>49995</th>\n",
              "      <td>I thought this movie did a down right good job...</td>\n",
              "      <td>positive</td>\n",
              "    </tr>\n",
              "    <tr>\n",
              "      <th>49996</th>\n",
              "      <td>Bad plot, bad dialogue, bad acting, idiotic di...</td>\n",
              "      <td>negative</td>\n",
              "    </tr>\n",
              "    <tr>\n",
              "      <th>49997</th>\n",
              "      <td>I am a Catholic taught in parochial elementary...</td>\n",
              "      <td>negative</td>\n",
              "    </tr>\n",
              "    <tr>\n",
              "      <th>49998</th>\n",
              "      <td>I'm going to have to disagree with the previou...</td>\n",
              "      <td>negative</td>\n",
              "    </tr>\n",
              "    <tr>\n",
              "      <th>49999</th>\n",
              "      <td>No one expects the Star Trek movies to be high...</td>\n",
              "      <td>negative</td>\n",
              "    </tr>\n",
              "  </tbody>\n",
              "</table>\n",
              "<p>50000 rows × 2 columns</p>\n",
              "</div>\n",
              "      <button class=\"colab-df-convert\" onclick=\"convertToInteractive('df-9c4941d3-e102-4a76-b4d2-8f1b912c2b6d')\"\n",
              "              title=\"Convert this dataframe to an interactive table.\"\n",
              "              style=\"display:none;\">\n",
              "        \n",
              "  <svg xmlns=\"http://www.w3.org/2000/svg\" height=\"24px\"viewBox=\"0 0 24 24\"\n",
              "       width=\"24px\">\n",
              "    <path d=\"M0 0h24v24H0V0z\" fill=\"none\"/>\n",
              "    <path d=\"M18.56 5.44l.94 2.06.94-2.06 2.06-.94-2.06-.94-.94-2.06-.94 2.06-2.06.94zm-11 1L8.5 8.5l.94-2.06 2.06-.94-2.06-.94L8.5 2.5l-.94 2.06-2.06.94zm10 10l.94 2.06.94-2.06 2.06-.94-2.06-.94-.94-2.06-.94 2.06-2.06.94z\"/><path d=\"M17.41 7.96l-1.37-1.37c-.4-.4-.92-.59-1.43-.59-.52 0-1.04.2-1.43.59L10.3 9.45l-7.72 7.72c-.78.78-.78 2.05 0 2.83L4 21.41c.39.39.9.59 1.41.59.51 0 1.02-.2 1.41-.59l7.78-7.78 2.81-2.81c.8-.78.8-2.07 0-2.86zM5.41 20L4 18.59l7.72-7.72 1.47 1.35L5.41 20z\"/>\n",
              "  </svg>\n",
              "      </button>\n",
              "      \n",
              "  <style>\n",
              "    .colab-df-container {\n",
              "      display:flex;\n",
              "      flex-wrap:wrap;\n",
              "      gap: 12px;\n",
              "    }\n",
              "\n",
              "    .colab-df-convert {\n",
              "      background-color: #E8F0FE;\n",
              "      border: none;\n",
              "      border-radius: 50%;\n",
              "      cursor: pointer;\n",
              "      display: none;\n",
              "      fill: #1967D2;\n",
              "      height: 32px;\n",
              "      padding: 0 0 0 0;\n",
              "      width: 32px;\n",
              "    }\n",
              "\n",
              "    .colab-df-convert:hover {\n",
              "      background-color: #E2EBFA;\n",
              "      box-shadow: 0px 1px 2px rgba(60, 64, 67, 0.3), 0px 1px 3px 1px rgba(60, 64, 67, 0.15);\n",
              "      fill: #174EA6;\n",
              "    }\n",
              "\n",
              "    [theme=dark] .colab-df-convert {\n",
              "      background-color: #3B4455;\n",
              "      fill: #D2E3FC;\n",
              "    }\n",
              "\n",
              "    [theme=dark] .colab-df-convert:hover {\n",
              "      background-color: #434B5C;\n",
              "      box-shadow: 0px 1px 3px 1px rgba(0, 0, 0, 0.15);\n",
              "      filter: drop-shadow(0px 1px 2px rgba(0, 0, 0, 0.3));\n",
              "      fill: #FFFFFF;\n",
              "    }\n",
              "  </style>\n",
              "\n",
              "      <script>\n",
              "        const buttonEl =\n",
              "          document.querySelector('#df-9c4941d3-e102-4a76-b4d2-8f1b912c2b6d button.colab-df-convert');\n",
              "        buttonEl.style.display =\n",
              "          google.colab.kernel.accessAllowed ? 'block' : 'none';\n",
              "\n",
              "        async function convertToInteractive(key) {\n",
              "          const element = document.querySelector('#df-9c4941d3-e102-4a76-b4d2-8f1b912c2b6d');\n",
              "          const dataTable =\n",
              "            await google.colab.kernel.invokeFunction('convertToInteractive',\n",
              "                                                     [key], {});\n",
              "          if (!dataTable) return;\n",
              "\n",
              "          const docLinkHtml = 'Like what you see? Visit the ' +\n",
              "            '<a target=\"_blank\" href=https://colab.research.google.com/notebooks/data_table.ipynb>data table notebook</a>'\n",
              "            + ' to learn more about interactive tables.';\n",
              "          element.innerHTML = '';\n",
              "          dataTable['output_type'] = 'display_data';\n",
              "          await google.colab.output.renderOutput(dataTable, element);\n",
              "          const docLink = document.createElement('div');\n",
              "          docLink.innerHTML = docLinkHtml;\n",
              "          element.appendChild(docLink);\n",
              "        }\n",
              "      </script>\n",
              "    </div>\n",
              "  </div>\n",
              "  "
            ]
          },
          "metadata": {},
          "execution_count": 4
        }
      ],
      "source": [
        "import pandas as pd\n",
        "data = pd.read_csv('imdb.zip')\n",
        "data"
      ]
    },
    {
      "cell_type": "code",
      "execution_count": 5,
      "metadata": {
        "id": "dU805Bd7pAOO",
        "colab": {
          "base_uri": "https://localhost:8080/"
        },
        "outputId": "58722b7b-3a20-475b-872e-030be0b60df3"
      },
      "outputs": [
        {
          "output_type": "execute_result",
          "data": {
            "text/plain": [
              "0        1\n",
              "1        1\n",
              "2        1\n",
              "3        0\n",
              "4        1\n",
              "        ..\n",
              "49995    1\n",
              "49996    0\n",
              "49997    0\n",
              "49998    0\n",
              "49999    0\n",
              "Name: sentiment, Length: 50000, dtype: int64"
            ]
          },
          "metadata": {},
          "execution_count": 5
        }
      ],
      "source": [
        "data_text = data.review\n",
        "data_label =data.sentiment\n",
        "data_label =  data['sentiment'].apply(lambda x: 1 if x == 'positive' else 0)\n",
        "data_label "
      ]
    },
    {
      "cell_type": "markdown",
      "metadata": {
        "id": "tvb9ry5-o_6u"
      },
      "source": [
        "### Converting words to integers\n",
        "The first step we will do is convert words represented as strings to integers\n",
        "\n",
        "We will use the Keras Tokenizer and specify the size of the vocabulary.\n",
        "\n",
        "* num_words: the maximum number of words to keep, based on word frequency. Only the most common num_words-1 words will be kept.\n"
      ]
    },
    {
      "cell_type": "code",
      "execution_count": 6,
      "metadata": {
        "id": "DB6KIHrZpBOk",
        "colab": {
          "base_uri": "https://localhost:8080/"
        },
        "outputId": "5cdd2620-5864-4acb-c939-b758c4cf863e"
      },
      "outputs": [
        {
          "output_type": "execute_result",
          "data": {
            "text/plain": [
              "[27,\n",
              " 4,\n",
              " 1,\n",
              " 79,\n",
              " 2102,\n",
              " 45,\n",
              " 1072,\n",
              " 12,\n",
              " 100,\n",
              " 147,\n",
              " 39,\n",
              " 307,\n",
              " 3184,\n",
              " 398,\n",
              " 474,\n",
              " 26,\n",
              " 3195,\n",
              " 33,\n",
              " 23,\n",
              " 203,\n",
              " 14,\n",
              " 11,\n",
              " 6,\n",
              " 621,\n",
              " 48,\n",
              " 596,\n",
              " 16,\n",
              " 68,\n",
              " 7,\n",
              " 7,\n",
              " 1,\n",
              " 86,\n",
              " 148,\n",
              " 12,\n",
              " 3241,\n",
              " 68,\n",
              " 42,\n",
              " 3184,\n",
              " 13,\n",
              " 92,\n",
              " 5398,\n",
              " 2,\n",
              " 15115,\n",
              " 134,\n",
              " 4,\n",
              " 570,\n",
              " 60,\n",
              " 268,\n",
              " 8,\n",
              " 203,\n",
              " 36,\n",
              " 1,\n",
              " 661,\n",
              " 139,\n",
              " 1740,\n",
              " 68,\n",
              " 11,\n",
              " 6,\n",
              " 21,\n",
              " 3,\n",
              " 119,\n",
              " 15,\n",
              " 1,\n",
              " 7888,\n",
              " 2333,\n",
              " 38,\n",
              " 11469,\n",
              " 11,\n",
              " 119,\n",
              " 2595,\n",
              " 54,\n",
              " 5911,\n",
              " 16,\n",
              " 5510,\n",
              " 5,\n",
              " 1479,\n",
              " 376,\n",
              " 38,\n",
              " 570,\n",
              " 92,\n",
              " 6,\n",
              " 3804,\n",
              " 8,\n",
              " 1,\n",
              " 360,\n",
              " 356,\n",
              " 4,\n",
              " 1,\n",
              " 661,\n",
              " 7,\n",
              " 7,\n",
              " 9,\n",
              " 6,\n",
              " 433,\n",
              " 3184,\n",
              " 14,\n",
              " 12,\n",
              " 6,\n",
              " 1,\n",
              " 11648,\n",
              " 358,\n",
              " 5,\n",
              " 1,\n",
              " 15701,\n",
              " 6813,\n",
              " 2538,\n",
              " 1064,\n",
              " 9,\n",
              " 2711,\n",
              " 1421,\n",
              " 20,\n",
              " 538,\n",
              " 32,\n",
              " 4636,\n",
              " 2468,\n",
              " 4,\n",
              " 1,\n",
              " 1208,\n",
              " 117,\n",
              " 29,\n",
              " 1,\n",
              " 7017,\n",
              " 25,\n",
              " 2970,\n",
              " 11964,\n",
              " 2,\n",
              " 391,\n",
              " 34,\n",
              " 16740,\n",
              " 6,\n",
              " 21,\n",
              " 299,\n",
              " 20,\n",
              " 1,\n",
              " 4910,\n",
              " 7364,\n",
              " 538,\n",
              " 6,\n",
              " 344,\n",
              " 5,\n",
              " 106,\n",
              " 8161,\n",
              " 14813,\n",
              " 5050,\n",
              " 7889,\n",
              " 2453,\n",
              " 2,\n",
              " 51,\n",
              " 34,\n",
              " 327,\n",
              " 9106,\n",
              " 7365,\n",
              " 12486,\n",
              " 2,\n",
              " 8697,\n",
              " 23,\n",
              " 110,\n",
              " 225,\n",
              " 243,\n",
              " 7,\n",
              " 7,\n",
              " 10,\n",
              " 58,\n",
              " 131,\n",
              " 1,\n",
              " 280,\n",
              " 1324,\n",
              " 4,\n",
              " 1,\n",
              " 119,\n",
              " 6,\n",
              " 693,\n",
              " 5,\n",
              " 1,\n",
              " 192,\n",
              " 12,\n",
              " 9,\n",
              " 269,\n",
              " 117,\n",
              " 79,\n",
              " 276,\n",
              " 589,\n",
              " 3024,\n",
              " 834,\n",
              " 180,\n",
              " 1320,\n",
              " 4161,\n",
              " 15,\n",
              " 2523,\n",
              " 1243,\n",
              " 834,\n",
              " 1443,\n",
              " 834,\n",
              " 887,\n",
              " 3184,\n",
              " 149,\n",
              " 954,\n",
              " 183,\n",
              " 1,\n",
              " 86,\n",
              " 398,\n",
              " 10,\n",
              " 123,\n",
              " 210,\n",
              " 3241,\n",
              " 68,\n",
              " 14,\n",
              " 34,\n",
              " 1637,\n",
              " 9,\n",
              " 13,\n",
              " 2239,\n",
              " 10,\n",
              " 413,\n",
              " 131,\n",
              " 10,\n",
              " 13,\n",
              " 1592,\n",
              " 15,\n",
              " 9,\n",
              " 18,\n",
              " 14,\n",
              " 10,\n",
              " 287,\n",
              " 51,\n",
              " 10,\n",
              " 1417,\n",
              " 3,\n",
              " 1280,\n",
              " 15,\n",
              " 3184,\n",
              " 2,\n",
              " 189,\n",
              " 10168,\n",
              " 5,\n",
              " 1,\n",
              " 299,\n",
              " 2046,\n",
              " 4,\n",
              " 2150,\n",
              " 570,\n",
              " 21,\n",
              " 39,\n",
              " 570,\n",
              " 18,\n",
              " 7658,\n",
              " 7154,\n",
              " 5010,\n",
              " 13497,\n",
              " 26,\n",
              " 2983,\n",
              " 41,\n",
              " 15,\n",
              " 3,\n",
              " 6904,\n",
              " 13497,\n",
              " 504,\n",
              " 20,\n",
              " 642,\n",
              " 2,\n",
              " 76,\n",
              " 243,\n",
              " 16,\n",
              " 9,\n",
              " 69,\n",
              " 7598,\n",
              " 651,\n",
              " 710,\n",
              " 6904,\n",
              " 109,\n",
              " 662,\n",
              " 82,\n",
              " 1208,\n",
              " 19395,\n",
              " 693,\n",
              " 5,\n",
              " 65,\n",
              " 574,\n",
              " 4,\n",
              " 920,\n",
              " 2021,\n",
              " 38,\n",
              " 1208,\n",
              " 559,\n",
              " 147,\n",
              " 3184,\n",
              " 22,\n",
              " 200,\n",
              " 426,\n",
              " 3819,\n",
              " 16,\n",
              " 48,\n",
              " 6,\n",
              " 3314,\n",
              " 805,\n",
              " 1603,\n",
              " 43,\n",
              " 22,\n",
              " 67,\n",
              " 76,\n",
              " 8,\n",
              " 1228,\n",
              " 16,\n",
              " 125,\n",
              " 4103,\n",
              " 486]"
            ]
          },
          "metadata": {},
          "execution_count": 6
        }
      ],
      "source": [
        "from keras.preprocessing.text import Tokenizer\n",
        "tokenizer = Tokenizer(num_words = 20000)\n",
        "#build the word index\n",
        "tokenizer.fit_on_texts(data_text)\n",
        "# now convert the words to integers\n",
        "data_sequences = tokenizer.texts_to_sequences(data_text)\n",
        "data_sequences[0]"
      ]
    },
    {
      "cell_type": "markdown",
      "metadata": {
        "id": "y8zymRGLrOtA"
      },
      "source": [
        "Just for grins, let's convert an IMDB review back to text\n",
        "\n"
      ]
    },
    {
      "cell_type": "code",
      "execution_count": 7,
      "metadata": {
        "id": "b0SOKyfKrri7",
        "colab": {
          "base_uri": "https://localhost:8080/"
        },
        "outputId": "a0390fd1-abfd-4f92-dc8a-53e4b41db1d2"
      },
      "outputs": [
        {
          "output_type": "execute_result",
          "data": {
            "text/plain": [
              "[\"a wonderful little production br br the filming technique is very unassuming very old time bbc fashion and gives a comforting and sometimes sense of realism to the entire piece br br the actors are extremely well chosen michael sheen not only has got all the but he has all the voices down pat too you can truly see the seamless editing guided by the references to williams' diary entries not only is it well worth the watching but it is a written and performed piece a masterful production about one of the great master's of comedy and his life br br the realism really comes home with the little things the fantasy of the guard which rather than use the traditional techniques remains solid then disappears it plays on our knowledge and our senses particularly with the scenes concerning orton and and the sets particularly of their flat with every surface are terribly well done\"]"
            ]
          },
          "metadata": {},
          "execution_count": 7
        }
      ],
      "source": [
        "tokenizer.sequences_to_texts([data_sequences[1]])"
      ]
    },
    {
      "cell_type": "markdown",
      "metadata": {
        "id": "xAs2Yc6HvSya"
      },
      "source": [
        "### Recap.\n",
        "We stated we wanted the vocabulary size to be 20,000. This means that if we have a sentence like *xenophobic manifestations moved online* and *xenophobic* was not among the 20,000 most frequent words in the corpus, our encoding of that sentence would skip that word. *xenophobic manifestations moved online* becomes *manifestations moved online*\n",
        "\n",
        "Now let's do a bit more preprocessing and truncate each review after 50 words (if the review is shorter than 50 words we will pad it with blank words):"
      ]
    },
    {
      "cell_type": "code",
      "execution_count": 8,
      "metadata": {
        "id": "lHpnZnf-6t3w",
        "colab": {
          "base_uri": "https://localhost:8080/"
        },
        "outputId": "3019b2f9-4a99-42fd-b66b-34f5701213c7"
      },
      "outputs": [
        {
          "output_type": "execute_result",
          "data": {
            "text/plain": [
              "array([  504,    20,   642,     2,    76,   243,    16,     9,    69,\n",
              "        7598,   651,   710,  6904,   109,   662,    82,  1208, 19395,\n",
              "         693,     5,    65,   574,     4,   920,  2021,    38,  1208,\n",
              "         559,   147,  3184,    22,   200,   426,  3819,    16,    48,\n",
              "           6,  3314,   805,  1603,    43,    22,    67,    76,     8,\n",
              "        1228,    16,   125,  4103,   486], dtype=int32)"
            ]
          },
          "metadata": {},
          "execution_count": 8
        }
      ],
      "source": [
        "# Cut texts after this number of words \n",
        "# (among top max_features most common words)\n",
        "maxlen = 50\n",
        "\n",
        "\n",
        "from keras.utils import pad_sequences\n",
        "\n",
        "\n",
        "# This turns our lists of integers\n",
        "# into a 2D integer tensor of shape `(samples, maxlen)`\n",
        "data50 = pad_sequences(data_sequences, maxlen=maxlen)\n",
        "data50[0]"
      ]
    },
    {
      "cell_type": "markdown",
      "metadata": {
        "id": "zhLEQdtOwrOC"
      },
      "source": [
        "# Now let's divide the data into training and testing\n",
        "\n"
      ]
    },
    {
      "cell_type": "code",
      "execution_count": 9,
      "metadata": {
        "id": "GeKwllN9w0dR",
        "colab": {
          "base_uri": "https://localhost:8080/"
        },
        "outputId": "159acca0-fd76-4d7f-dcf3-1f981db702fc"
      },
      "outputs": [
        {
          "output_type": "execute_result",
          "data": {
            "text/plain": [
              "33553    1\n",
              "9427     1\n",
              "199      0\n",
              "12447    1\n",
              "39489    0\n",
              "        ..\n",
              "28567    0\n",
              "25079    1\n",
              "18707    1\n",
              "15200    0\n",
              "5857     1\n",
              "Name: sentiment, Length: 10000, dtype: int64"
            ]
          },
          "metadata": {},
          "execution_count": 9
        }
      ],
      "source": [
        "from sklearn.model_selection import train_test_split\n",
        "train50, test50, train_labels, test_labels = train_test_split(data50, data_label, test_size = 0.2, random_state=42)\n",
        "test_labels"
      ]
    },
    {
      "cell_type": "markdown",
      "metadata": {
        "id": "WYl2Y9WAxV94"
      },
      "source": [
        "# Time to build the model\n",
        "![](https://raw.githubusercontent.com/zacharski/ml-class/master/labs/pics/theModel.png)\n",
        "So far we have:\n",
        "\n",
        "* a 10,000 word vocabulary\n",
        "* each review is limited to 50 words\n",
        "\n",
        "And we want to create a word embedding with 50 features.\n",
        "\n",
        "(Those 50 are completely separate parameters) The 50 word limit is not related to the 50 features.)\n",
        "\n",
        "Let's create a network with an embedding layer\n"
      ]
    },
    {
      "cell_type": "code",
      "execution_count": 10,
      "metadata": {
        "id": "jDdDVHVb6t3z",
        "colab": {
          "base_uri": "https://localhost:8080/"
        },
        "outputId": "a918c330-a790-4e5b-8e48-a488ee2ea530"
      },
      "outputs": [
        {
          "output_type": "stream",
          "name": "stdout",
          "text": [
            "Model: \"sequential\"\n",
            "_________________________________________________________________\n",
            " Layer (type)                Output Shape              Param #   \n",
            "=================================================================\n",
            " embedding_1 (Embedding)     (None, 50, 50)            1000000   \n",
            "                                                                 \n",
            " flatten (Flatten)           (None, 2500)              0         \n",
            "                                                                 \n",
            " dense (Dense)               (None, 1)                 2501      \n",
            "                                                                 \n",
            "=================================================================\n",
            "Total params: 1,002,501\n",
            "Trainable params: 1,002,501\n",
            "Non-trainable params: 0\n",
            "_________________________________________________________________\n"
          ]
        }
      ],
      "source": [
        "from keras.models import Sequential\n",
        "from keras.layers import Flatten, Dense, Embedding\n",
        "\n",
        "vocabulary_size = 20000\n",
        "embedding_size = 50\n",
        "model = Sequential()\n",
        "# We specify the maximum input length to our Embedding layer\n",
        "# so we can later flatten the embedded inputs\n",
        "model.add(Embedding(vocabulary_size, embedding_size, input_length=maxlen))\n",
        "# After the Embedding layer, \n",
        "# our activations have shape `(samples, maxlen, embedding_size)`.\n",
        "\n",
        "# We flatten the 3D tensor of embeddings \n",
        "# into a 2D tensor of shape `(samples, maxlen * embedding_size)`\n",
        "model.add(Flatten())\n",
        "\n",
        "# We add the classifier on top\n",
        "model.add(Dense(1, activation='sigmoid'))\n",
        "model.compile(optimizer='rmsprop', loss='binary_crossentropy', metrics=['acc'])\n",
        "model.summary()\n",
        "\n"
      ]
    },
    {
      "cell_type": "markdown",
      "metadata": {
        "id": "GyAB-38my7Vg"
      },
      "source": [
        "## Training"
      ]
    },
    {
      "cell_type": "code",
      "execution_count": 11,
      "metadata": {
        "id": "1mIT1Lbvy9so",
        "colab": {
          "base_uri": "https://localhost:8080/"
        },
        "outputId": "4ee704fa-08f8-4918-df95-47ac14b5af32"
      },
      "outputs": [
        {
          "output_type": "stream",
          "name": "stdout",
          "text": [
            "Epoch 1/10\n",
            "100/100 [==============================] - 18s 134ms/step - loss: 0.6751 - acc: 0.6176 - val_loss: 0.6282 - val_acc: 0.7111\n",
            "Epoch 2/10\n",
            "100/100 [==============================] - 8s 77ms/step - loss: 0.5540 - acc: 0.7502 - val_loss: 0.4939 - val_acc: 0.7772\n",
            "Epoch 3/10\n",
            "100/100 [==============================] - 5s 49ms/step - loss: 0.4450 - acc: 0.8040 - val_loss: 0.4316 - val_acc: 0.8041\n",
            "Epoch 4/10\n",
            "100/100 [==============================] - 3s 27ms/step - loss: 0.3880 - acc: 0.8322 - val_loss: 0.4060 - val_acc: 0.8134\n",
            "Epoch 5/10\n",
            "100/100 [==============================] - 4s 42ms/step - loss: 0.3511 - acc: 0.8518 - val_loss: 0.3918 - val_acc: 0.8216\n",
            "Epoch 6/10\n",
            "100/100 [==============================] - 2s 22ms/step - loss: 0.3212 - acc: 0.8673 - val_loss: 0.3868 - val_acc: 0.8227\n",
            "Epoch 7/10\n",
            "100/100 [==============================] - 2s 17ms/step - loss: 0.2944 - acc: 0.8822 - val_loss: 0.3846 - val_acc: 0.8248\n",
            "Epoch 8/10\n",
            "100/100 [==============================] - 1s 13ms/step - loss: 0.2682 - acc: 0.8984 - val_loss: 0.3844 - val_acc: 0.8244\n",
            "Epoch 9/10\n",
            "100/100 [==============================] - 1s 13ms/step - loss: 0.2432 - acc: 0.9122 - val_loss: 0.3874 - val_acc: 0.8244\n",
            "Epoch 10/10\n",
            "100/100 [==============================] - 2s 20ms/step - loss: 0.2181 - acc: 0.9247 - val_loss: 0.3908 - val_acc: 0.8255\n"
          ]
        }
      ],
      "source": [
        "history = model.fit(\n",
        "      train50, train_labels,\n",
        "      steps_per_epoch=100,\n",
        "      epochs=10,\n",
        "      validation_split=0.2,\n",
        "      validation_steps=50)"
      ]
    },
    {
      "cell_type": "markdown",
      "metadata": {
        "id": "3B1mpi9B6t31"
      },
      "source": [
        "We get to a validation accuracy of ~82%, which is pretty good considering that we only look at the first 50 words in every review. But \n",
        "note that merely flattening the embedded sequences and training a single `Dense` layer on top leads to a model that treats each word in the \n",
        "input sequence separately, without considering inter-word relationships and structure sentence (e.g. it would likely treat both _\"this movie \n",
        "is shit\"_ and _\"this movie is the shit\"_ as being negative \"reviews\"). It would be much better to add recurrent layers or 1D convolutional \n",
        "layers on top of the embedded sequences to learn features that take into account each sequence as a whole. "
      ]
    },
    {
      "cell_type": "code",
      "execution_count": 12,
      "metadata": {
        "id": "a9jXqsHX2Z8E",
        "colab": {
          "base_uri": "https://localhost:8080/",
          "height": 887
        },
        "outputId": "491e5c0e-b3c9-4ba8-8809-e7bf773072da"
      },
      "outputs": [
        {
          "output_type": "display_data",
          "data": {
            "text/plain": [
              "<Figure size 640x480 with 1 Axes>"
            ],
            "image/png": "[encoded data removed]"
          },
          "metadata": {}
        },
        {
          "output_type": "display_data",
          "data": {
            "text/plain": [
              "<Figure size 640x480 with 1 Axes>"
            ],
            "image/png": "[encoded data removed]"
          },
          "metadata": {}
        }
      ],
      "source": [
        "import matplotlib.pyplot as plt\n",
        "\n",
        "acc = history.history['acc']\n",
        "val_acc = history.history['val_acc']\n",
        "loss = history.history['loss']\n",
        "val_loss = history.history['val_loss']\n",
        "\n",
        "epochs = range(1, len(acc) + 1)\n",
        "\n",
        "plt.plot(epochs, acc, 'bo', label='Training acc')\n",
        "plt.plot(epochs, val_acc, 'b', label='Validation acc')\n",
        "plt.title('Training and validation accuracy')\n",
        "plt.legend()\n",
        "\n",
        "plt.figure()\n",
        "\n",
        "plt.plot(epochs, loss, 'bo', label='Training loss')\n",
        "plt.plot(epochs, val_loss, 'b', label='Validation loss')\n",
        "plt.title('Training and validation loss')\n",
        "plt.legend()\n",
        "\n",
        "plt.show()"
      ]
    },
    {
      "cell_type": "markdown",
      "metadata": {
        "id": "DTCuQtE22k3l"
      },
      "source": [
        "Arghh. These graphs look like overfitting. Let's try on the test data:\n"
      ]
    },
    {
      "cell_type": "code",
      "execution_count": 13,
      "metadata": {
        "id": "6DT2t_RM2zEc",
        "colab": {
          "base_uri": "https://localhost:8080/"
        },
        "outputId": "4a5f3889-930d-4646-a179-25d64abb51fc"
      },
      "outputs": [
        {
          "output_type": "stream",
          "name": "stdout",
          "text": [
            "313/313 [==============================] - 1s 2ms/step - loss: 0.3800 - acc: 0.8269\n",
            "Accuracy 0.826900    Loss: 0.380020\n"
          ]
        }
      ],
      "source": [
        "\n",
        "test_loss, test_acc, = model.evaluate(test50, test_labels)\n",
        "print(\"Accuracy %f    Loss: %f\" % (test_acc, test_loss))"
      ]
    },
    {
      "cell_type": "markdown",
      "metadata": {
        "id": "mOrcukRO6t31"
      },
      "source": [
        "## Using pre-trained word embeddings\n",
        "![](https://raw.githubusercontent.com/zacharski/ml-class/master/labs/pics/pretrained.png)\n",
        "\n",
        "Sometimes, we have so little training data available that we could never use the data alone to learn an appropriate task-specific embedding \n",
        "of your vocabulary. What to do then?\n",
        "\n",
        "Instead of learning word embeddings jointly with the problem we want to solve, we could be loading embedding vectors from a pre-computed \n",
        "embedding space known to be highly structured and to exhibit useful properties -- that captures generic aspects of language structure. The \n",
        "rationale behind using pre-trained word embeddings in natural language processing is very much the same as for using pre-trained convnets \n",
        "in image classification: we don't have enough data available to learn truly powerful features on our own, but we expect the features that \n",
        "we need to be fairly generic, i.e. common visual features or semantic features. In this case it makes sense to reuse features learned on a \n",
        "different problem.\n",
        "\n",
        "Such word embeddings are generally computed using word occurrence statistics (observations about what words co-occur in sentences or \n",
        "documents), using a variety of techniques, some involving neural networks, others not. The idea of a dense, low-dimensional embedding space \n",
        "for words, computed in an unsupervised way, was initially explored by Bengio et al. in the early 2000s, but it only started really taking \n",
        "off in research and industry applications after the release of one of the most famous and successful word embedding scheme: the Word2Vec \n",
        "algorithm, developed by Mikolov at Google in 2013. Word2Vec dimensions capture specific semantic properties, e.g. gender.\n",
        "\n",
        "There are various pre-computed databases of word embeddings that can download and start using in a Keras `Embedding` layer. Word2Vec is one \n",
        "of them. Another popular one is called \"GloVe\", developed by Stanford researchers in 2014. It stands for \"Global Vectors for Word \n",
        "Representation\", and it is an embedding technique based on factorizing a matrix of word co-occurrence statistics. Its developers have made \n",
        "available pre-computed embeddings for millions of English tokens, obtained from Wikipedia data or from Common Crawl data.\n",
        "\n",
        "Finally, there is FastText, also developed by Mikolov at Facebook. While state of the art, it is also the most resource intensive scheme.\n",
        "\n",
        "Let's take a look at how you can get started using GloVe embeddings in a Keras model. The same method will of course be valid for Word2Vec \n",
        "embeddings or any other word embedding database that you can download. "
      ]
    },
    {
      "cell_type": "markdown",
      "metadata": {
        "id": "QpnanKp26t32"
      },
      "source": [
        "## Summary so far,\n",
        "\n",
        "We...\n",
        "\n",
        "1. downloaded the text data which was in the form of a csv file\n",
        "2. loaded the file into pandas.\n",
        "3. divided the csv into the text columns and the labels columns\n",
        "4. tokenized the text into sequences of integers\n",
        "5. limited each text to 50 words\n",
        "5. divided the sequences and labels into training and test data\n",
        "\n",
        "So, for example, the first entry of our data was\n"
      ]
    },
    {
      "cell_type": "code",
      "execution_count": 14,
      "metadata": {
        "id": "uqTEl1ys6t33",
        "colab": {
          "base_uri": "https://localhost:8080/"
        },
        "outputId": "650c90fb-3fcf-4fb1-d0cb-94c19d495d5b"
      },
      "outputs": [
        {
          "output_type": "execute_result",
          "data": {
            "text/plain": [
              "array([    3,   111,    12,  1569,   472,    75,   221,     5,   327,\n",
              "           2,  3498,    35,    23,    51,    71,  1890,  4808,    14,\n",
              "           9,  1388,    11,    19,     6,     3,  3574,  2064,    16,\n",
              "          61,     1,  2414,   469,   533,     2,     3,   171,  2643,\n",
              "       19293,  2811,  1776,     5,   586,     9,    36,     1,  3933,\n",
              "         454,   156,   206,   352,  3944], dtype=int32)"
            ]
          },
          "metadata": {},
          "execution_count": 14
        }
      ],
      "source": [
        "train50[0]"
      ]
    },
    {
      "cell_type": "markdown",
      "metadata": {
        "id": "g7GNizUp6t38"
      },
      "source": [
        "### Download the GloVe word embeddings\n",
        "\n",
        "\n",
        "Head to https://nlp.stanford.edu/projects/glove/ (where you can learn more about the GloVe algorithm), and download the pre-computed \n",
        "embeddings from 2014 English Wikipedia. It's a 822MB zip file named `glove.6B.zip`, containing 100-dimensional embedding vectors for \n",
        "400,000 words (or non-word tokens). The downloading will take a bit of time, which might be an understatement. \n",
        "\n",
        "For convenience, I have made available a zip of the exact file we will need at http://zacharski.org/files/courses/cs419/glove.6B.100d.zip This is only 134MB\n",
        "\n",
        "\n",
        "Next, un-zip it."
      ]
    },
    {
      "cell_type": "code",
      "execution_count": 15,
      "metadata": {
        "id": "GN0y6D-PBOcA",
        "colab": {
          "base_uri": "https://localhost:8080/"
        },
        "outputId": "83d097ea-27ad-4bfe-a693-860103c4f12f"
      },
      "outputs": [
        {
          "output_type": "stream",
          "name": "stdout",
          "text": [
            "  % Total    % Received % Xferd  Average Speed   Time    Time     Time  Current\n",
            "                                 Dload  Upload   Total   Spent    Left  Speed\n",
            "100  128M  100  128M    0     0  83.2M      0  0:00:01  0:00:01 --:--:-- 83.2M\n",
            "glove.6B.100d.zip  imdb.zip  sample_data\n"
          ]
        }
      ],
      "source": [
        "!curl http://zacharski.org/files/courses/cs419/glove.6B.100d.zip > glove.6B.100d.zip\n",
        "!ls"
      ]
    },
    {
      "cell_type": "code",
      "execution_count": 16,
      "metadata": {
        "id": "nphXkQhgC_EJ",
        "colab": {
          "base_uri": "https://localhost:8080/"
        },
        "outputId": "46dfafcc-8c38-4cb8-dcbc-57af2bf06777"
      },
      "outputs": [
        {
          "output_type": "stream",
          "name": "stdout",
          "text": [
            "Archive:  glove.6B.100d.zip\n",
            "  inflating: glove.6B.100d.txt       \n"
          ]
        }
      ],
      "source": [
        "!unzip glove.6B.100d.zip"
      ]
    },
    {
      "cell_type": "markdown",
      "metadata": {
        "id": "k6hBJa5p6t39"
      },
      "source": [
        "### Pre-process the embeddings\n",
        "\n",
        "\n",
        "Let's parse the un-zipped file (it's a `txt` file) to build an index mapping words (as strings) to their vector representation (as number \n",
        "vectors)."
      ]
    },
    {
      "cell_type": "code",
      "execution_count": 17,
      "metadata": {
        "id": "zboejuFj6t39",
        "colab": {
          "base_uri": "https://localhost:8080/"
        },
        "outputId": "85c04f9e-5061-45fb-9630-22e0b11ae641"
      },
      "outputs": [
        {
          "output_type": "stream",
          "name": "stdout",
          "text": [
            "Found 400000 word vectors.\n"
          ]
        }
      ],
      "source": [
        "import numpy as np\n",
        "\n",
        "embeddings_index = {}\n",
        "f = open('glove.6B.100d.txt')\n",
        "for line in f:\n",
        "    values = line.split()\n",
        "    word = values[0]\n",
        "    coefs = np.asarray(values[1:], dtype='float32')\n",
        "    embeddings_index[word] = coefs\n",
        "f.close()\n",
        "\n",
        "print('Found %s word vectors.' % len(embeddings_index))"
      ]
    },
    {
      "cell_type": "markdown",
      "metadata": {
        "id": "QBlb3xFu6t3_"
      },
      "source": [
        "So embeddings_index is a Python dictionary whose keys are words and values are the 100 length vector. Let's get the vector for the word *dog*:\n",
        "\n"
      ]
    },
    {
      "cell_type": "code",
      "execution_count": 18,
      "metadata": {
        "id": "ORc86o_40bt3",
        "colab": {
          "base_uri": "https://localhost:8080/"
        },
        "outputId": "5e08f1fc-98b1-4699-c6d0-07c1584f4394"
      },
      "outputs": [
        {
          "output_type": "execute_result",
          "data": {
            "text/plain": [
              "array([ 0.30817  ,  0.30938  ,  0.52803  , -0.92543  , -0.73671  ,\n",
              "        0.63475  ,  0.44197  ,  0.10262  , -0.09142  , -0.56607  ,\n",
              "       -0.5327   ,  0.2013   ,  0.7704   , -0.13983  ,  0.13727  ,\n",
              "        1.1128   ,  0.89301  , -0.17869  , -0.0019722,  0.57289  ,\n",
              "        0.59479  ,  0.50428  , -0.28991  , -1.3491   ,  0.42756  ,\n",
              "        1.2748   , -1.1613   , -0.41084  ,  0.042804 ,  0.54866  ,\n",
              "        0.18897  ,  0.3759   ,  0.58035  ,  0.66975  ,  0.81156  ,\n",
              "        0.93864  , -0.51005  , -0.070079 ,  0.82819  , -0.35346  ,\n",
              "        0.21086  , -0.24412  , -0.16554  , -0.78358  , -0.48482  ,\n",
              "        0.38968  , -0.86356  , -0.016391 ,  0.31984  , -0.49246  ,\n",
              "       -0.069363 ,  0.018869 , -0.098286 ,  1.3126   , -0.12116  ,\n",
              "       -1.2399   , -0.091429 ,  0.35294  ,  0.64645  ,  0.089642 ,\n",
              "        0.70294  ,  1.1244   ,  0.38639  ,  0.52084  ,  0.98787  ,\n",
              "        0.79952  , -0.34625  ,  0.14095  ,  0.80167  ,  0.20987  ,\n",
              "       -0.86007  , -0.15308  ,  0.074523 ,  0.40816  ,  0.019208 ,\n",
              "        0.51587  , -0.34428  , -0.24525  , -0.77984  ,  0.27425  ,\n",
              "        0.22418  ,  0.20164  ,  0.017431 , -0.014697 , -1.0235   ,\n",
              "       -0.39695  , -0.0056188,  0.30569  ,  0.31748  ,  0.021404 ,\n",
              "        0.11837  , -0.11319  ,  0.42456  ,  0.53405  , -0.16717  ,\n",
              "       -0.27185  , -0.6255   ,  0.12883  ,  0.62529  , -0.52086  ],\n",
              "      dtype=float32)"
            ]
          },
          "metadata": {},
          "execution_count": 18
        }
      ],
      "source": [
        "embeddings_index['dog']"
      ]
    },
    {
      "cell_type": "markdown",
      "metadata": {
        "id": "5MSSrCeZ0cSn"
      },
      "source": [
        "So this embedding file has a vocabulary size of 400,000 words and each word is associated with a 100 element vector. Let's not use all 400,000, but restrict our vocabulary to our original 20,000 (`max_words`).\n",
        "\n",
        "Now let's build an embedding matrix that we will be able to load into an `Embedding` layer. It must be a matrix of shape `(max_words, \n",
        "embedding_dim)`, where each entry `i` contains the `embedding_dim`-dimensional vector for the word of index `i` in our reference word index \n",
        "(built during tokenization). Note that the index `0` is not supposed to stand for any word or token -- it's a placeholder."
      ]
    },
    {
      "cell_type": "code",
      "execution_count": 19,
      "metadata": {
        "id": "j4djtC3A6t3_"
      },
      "outputs": [],
      "source": [
        "embedding_dim = 100\n",
        "max_words = 20000\n",
        "word_index = tokenizer.word_index\n",
        "\n",
        "embedding_matrix = np.zeros((max_words, embedding_dim))\n",
        "for word, i in word_index.items():\n",
        "    embedding_vector = embeddings_index.get(word)\n",
        "    if i < max_words:\n",
        "        if embedding_vector is not None:\n",
        "            # Words not found in embedding index will be all-zeros.\n",
        "            embedding_matrix[i] = embedding_vector"
      ]
    },
    {
      "cell_type": "markdown",
      "metadata": {
        "id": "0EEPKbcd6t4C"
      },
      "source": [
        "### Define a model\n",
        "\n",
        "We will be using the same model architecture as before:"
      ]
    },
    {
      "cell_type": "code",
      "execution_count": 20,
      "metadata": {
        "id": "NmRvo6sb6t4C",
        "colab": {
          "base_uri": "https://localhost:8080/"
        },
        "outputId": "b5e831cc-0fae-48d8-e961-c78eb4f6ee5e"
      },
      "outputs": [
        {
          "output_type": "stream",
          "name": "stdout",
          "text": [
            "Model: \"sequential_1\"\n",
            "_________________________________________________________________\n",
            " Layer (type)                Output Shape              Param #   \n",
            "=================================================================\n",
            " embedding_2 (Embedding)     (None, 50, 100)           2000000   \n",
            "                                                                 \n",
            " flatten_1 (Flatten)         (None, 5000)              0         \n",
            "                                                                 \n",
            " dense_1 (Dense)             (None, 32)                160032    \n",
            "                                                                 \n",
            " dense_2 (Dense)             (None, 1)                 33        \n",
            "                                                                 \n",
            "=================================================================\n",
            "Total params: 2,160,065\n",
            "Trainable params: 2,160,065\n",
            "Non-trainable params: 0\n",
            "_________________________________________________________________\n"
          ]
        }
      ],
      "source": [
        "from keras.models import Sequential\n",
        "from keras.layers import Embedding, Flatten, Dense\n",
        "\n",
        "model = Sequential()\n",
        "model.add(Embedding(max_words, embedding_dim, input_length=maxlen))\n",
        "model.add(Flatten())\n",
        "model.add(Dense(32, activation='relu'))\n",
        "model.add(Dense(1, activation='sigmoid'))\n",
        "model.summary()"
      ]
    },
    {
      "cell_type": "markdown",
      "metadata": {
        "id": "lSVZCgJy6t4F"
      },
      "source": [
        "### Load the GloVe embeddings in the model\n",
        "\n",
        "\n",
        "The `Embedding` layer has a single weight matrix: a 2D float matrix where each entry `i` is the word vector meant to be associated with \n",
        "index `i`. Simple enough. Let's just load the GloVe matrix we prepared into our `Embedding` layer, the first layer in our model:"
      ]
    },
    {
      "cell_type": "code",
      "execution_count": 21,
      "metadata": {
        "id": "7GUR2IMr6t4G"
      },
      "outputs": [],
      "source": [
        "model.layers[0].set_weights([embedding_matrix])\n",
        "model.layers[0].trainable = False"
      ]
    },
    {
      "cell_type": "markdown",
      "metadata": {
        "id": "yyiOZNs76t4J"
      },
      "source": [
        "\n",
        "Additionally, we freeze the embedding layer (we set its `trainable` attribute to `False`), following the same rationale as what you are \n",
        "already familiar with in the context of pre-trained convnet features: when parts of a model are pre-trained (like our `Embedding` layer), \n",
        "and parts are randomly initialized (like our classifier), the pre-trained parts should not be updated during training to avoid forgetting \n",
        "what they already know. The large gradient update triggered by the randomly initialized layers would be very disruptive to the already \n",
        "learned features."
      ]
    },
    {
      "cell_type": "markdown",
      "metadata": {
        "id": "taMHdF-a6t4J"
      },
      "source": [
        "### Train and evaluate\n",
        "\n",
        "Let's compile our model and train it:"
      ]
    },
    {
      "cell_type": "code",
      "execution_count": 22,
      "metadata": {
        "id": "T-mHYyp86t4J",
        "colab": {
          "base_uri": "https://localhost:8080/"
        },
        "outputId": "f0fc5981-85d0-4029-af63-643bfce56cdd"
      },
      "outputs": [
        {
          "output_type": "stream",
          "name": "stdout",
          "text": [
            "Epoch 1/10\n",
            "1000/1000 [==============================] - 4s 3ms/step - loss: 0.6215 - acc: 0.6525 - val_loss: 0.5606 - val_acc: 0.7219\n",
            "Epoch 2/10\n",
            "1000/1000 [==============================] - 3s 3ms/step - loss: 0.5456 - acc: 0.7233 - val_loss: 0.5456 - val_acc: 0.7319\n",
            "Epoch 3/10\n",
            "1000/1000 [==============================] - 3s 3ms/step - loss: 0.5215 - acc: 0.7410 - val_loss: 0.5451 - val_acc: 0.7269\n",
            "Epoch 4/10\n",
            "1000/1000 [==============================] - 3s 3ms/step - loss: 0.5027 - acc: 0.7532 - val_loss: 0.6106 - val_acc: 0.6844\n",
            "Epoch 5/10\n",
            "1000/1000 [==============================] - 3s 3ms/step - loss: 0.4860 - acc: 0.7656 - val_loss: 0.5942 - val_acc: 0.7100\n",
            "Epoch 6/10\n",
            "1000/1000 [==============================] - 3s 3ms/step - loss: 0.4642 - acc: 0.7776 - val_loss: 0.6107 - val_acc: 0.6888\n",
            "Epoch 7/10\n",
            "1000/1000 [==============================] - 3s 3ms/step - loss: 0.4345 - acc: 0.7930 - val_loss: 0.5992 - val_acc: 0.7019\n",
            "Epoch 8/10\n",
            "1000/1000 [==============================] - 3s 3ms/step - loss: 0.3987 - acc: 0.8118 - val_loss: 0.6293 - val_acc: 0.7063\n",
            "Epoch 9/10\n",
            "1000/1000 [==============================] - 3s 3ms/step - loss: 0.3567 - acc: 0.8366 - val_loss: 0.6454 - val_acc: 0.7025\n",
            "Epoch 10/10\n",
            "1000/1000 [==============================] - 3s 3ms/step - loss: 0.3110 - acc: 0.8588 - val_loss: 0.7565 - val_acc: 0.6975\n"
          ]
        }
      ],
      "source": [
        "model.compile(optimizer='rmsprop',\n",
        "              loss='binary_crossentropy',\n",
        "              metrics=['acc'])\n",
        "history = model.fit(train50, train_labels,\n",
        "                    epochs=10,\n",
        "                    batch_size=32,\n",
        "                     validation_split=0.2,\n",
        "      validation_steps=50)\n",
        "model.save_weights('pre_trained_glove_model.h5')"
      ]
    },
    {
      "cell_type": "markdown",
      "metadata": {
        "id": "212yP1DI6t4M"
      },
      "source": [
        "Let's plot its performance over time:"
      ]
    },
    {
      "cell_type": "code",
      "execution_count": 23,
      "metadata": {
        "id": "w4Eince06t4M",
        "colab": {
          "base_uri": "https://localhost:8080/",
          "height": 887
        },
        "outputId": "5e0b71ae-4c09-483f-8fea-26bc1e315c26"
      },
      "outputs": [
        {
          "output_type": "display_data",
          "data": {
            "text/plain": [
              "<Figure size 640x480 with 1 Axes>"
            ],
            "image/png": "[encoded data removed]"
          },
          "metadata": {}
        },
        {
          "output_type": "display_data",
          "data": {
            "text/plain": [
              "<Figure size 640x480 with 1 Axes>"
            ],
            "image/png": "[encoded data removed]"
          },
          "metadata": {}
        }
      ],
      "source": [
        "import matplotlib.pyplot as plt\n",
        "\n",
        "acc = history.history['acc']\n",
        "val_acc = history.history['val_acc']\n",
        "loss = history.history['loss']\n",
        "val_loss = history.history['val_loss']\n",
        "\n",
        "epochs = range(1, len(acc) + 1)\n",
        "\n",
        "plt.plot(epochs, acc, 'bo', label='Training acc')\n",
        "plt.plot(epochs, val_acc, 'b', label='Validation acc')\n",
        "plt.title('Training and validation accuracy')\n",
        "plt.legend()\n",
        "\n",
        "plt.figure()\n",
        "\n",
        "plt.plot(epochs, loss, 'bo', label='Training loss')\n",
        "plt.plot(epochs, val_loss, 'b', label='Validation loss')\n",
        "plt.title('Training and validation loss')\n",
        "plt.legend()\n",
        "\n",
        "plt.show()"
      ]
    },
    {
      "cell_type": "markdown",
      "metadata": {
        "id": "pSUsNaK9a-pn"
      },
      "source": [
        "The model quickly starts overfitting, unsurprisingly given the small number of training samples. Validation accuracy has high variance for \n",
        "the same reason, but seems to reach high 50s.\n",
        "\n",
        "Let's check the accuracy and loss on the test data:"
      ]
    },
    {
      "cell_type": "code",
      "execution_count": 24,
      "metadata": {
        "id": "JxLT8H3Ca-3q",
        "colab": {
          "base_uri": "https://localhost:8080/"
        },
        "outputId": "6959348d-718e-47df-a48b-05ab32382dc0"
      },
      "outputs": [
        {
          "output_type": "stream",
          "name": "stdout",
          "text": [
            "313/313 [==============================] - 1s 2ms/step - loss: 0.7740 - acc: 0.6918\n",
            "Accuracy 0.691800    Loss: 0.773974\n"
          ]
        }
      ],
      "source": [
        "test_loss, test_acc, = model.evaluate(test50, test_labels)\n",
        "print(\"Accuracy %f    Loss: %f\" % (test_acc, test_loss))"
      ]
    },
    {
      "cell_type": "markdown",
      "metadata": {
        "id": "ec7-y6ZTbgtZ"
      },
      "source": [
        "### A one-dimensional CNN\n",
        "\n",
        "Let's try a slightly more complex model using convolutional layers.\n",
        "\n"
      ]
    },
    {
      "cell_type": "code",
      "execution_count": 25,
      "metadata": {
        "id": "ZDq47rpDbuDl",
        "colab": {
          "base_uri": "https://localhost:8080/"
        },
        "outputId": "b4717636-410e-4ae0-91c5-6a4afbe937cd"
      },
      "outputs": [
        {
          "output_type": "stream",
          "name": "stdout",
          "text": [
            "Model: \"sequential_2\"\n",
            "_________________________________________________________________\n",
            " Layer (type)                Output Shape              Param #   \n",
            "=================================================================\n",
            " embedding_3 (Embedding)     (None, 50, 100)           2000000   \n",
            "                                                                 \n",
            " conv1d (Conv1D)             (None, 48, 64)            19264     \n",
            "                                                                 \n",
            " conv1d_1 (Conv1D)           (None, 46, 64)            12352     \n",
            "                                                                 \n",
            " dropout (Dropout)           (None, 46, 64)            0         \n",
            "                                                                 \n",
            " max_pooling1d (MaxPooling1D  (None, 23, 64)           0         \n",
            " )                                                               \n",
            "                                                                 \n",
            " flatten_2 (Flatten)         (None, 1472)              0         \n",
            "                                                                 \n",
            " dense_3 (Dense)             (None, 32)                47136     \n",
            "                                                                 \n",
            " dense_4 (Dense)             (None, 1)                 33        \n",
            "                                                                 \n",
            "=================================================================\n",
            "Total params: 2,078,785\n",
            "Trainable params: 2,078,785\n",
            "Non-trainable params: 0\n",
            "_________________________________________________________________\n"
          ]
        }
      ],
      "source": [
        "from keras import layers\n",
        "\n",
        "cnn_model = Sequential()\n",
        "cnn_model.add(Embedding(max_words, embedding_dim, input_length=maxlen))\n",
        "cnn_model.add(layers.Conv1D(filters=64, kernel_size=3, activation='relu'))\n",
        "cnn_model.add(layers.Conv1D(filters=64, kernel_size=3, activation='relu'))\n",
        "cnn_model.add(layers.Dropout(0.5))\n",
        "cnn_model.add(layers.MaxPooling1D(pool_size=2))\n",
        "cnn_model.add(Flatten())\n",
        "cnn_model.add(Dense(32, activation='relu'))\n",
        "cnn_model.add(Dense(1, activation='sigmoid'))\n",
        "cnn_model.summary()"
      ]
    },
    {
      "cell_type": "code",
      "execution_count": 26,
      "metadata": {
        "id": "u0CHffQ1dPVC"
      },
      "outputs": [],
      "source": [
        "cnn_model.layers[0].set_weights([embedding_matrix])\n",
        "cnn_model.layers[0].trainable = False"
      ]
    },
    {
      "cell_type": "code",
      "execution_count": 27,
      "metadata": {
        "id": "65Fn8YhWdQtP",
        "colab": {
          "base_uri": "https://localhost:8080/"
        },
        "outputId": "046acb43-5d91-4f4e-805f-d17a801c3092"
      },
      "outputs": [
        {
          "output_type": "stream",
          "name": "stdout",
          "text": [
            "Epoch 1/10\n",
            "1000/1000 [==============================] - 10s 4ms/step - loss: 0.5834 - acc: 0.6782 - val_loss: 0.4910 - val_acc: 0.7675\n",
            "Epoch 2/10\n",
            "1000/1000 [==============================] - 4s 4ms/step - loss: 0.4738 - acc: 0.7707 - val_loss: 0.4710 - val_acc: 0.7750\n",
            "Epoch 3/10\n",
            "1000/1000 [==============================] - 5s 5ms/step - loss: 0.4352 - acc: 0.7960 - val_loss: 0.4500 - val_acc: 0.7775\n",
            "Epoch 4/10\n",
            "1000/1000 [==============================] - 6s 6ms/step - loss: 0.4049 - acc: 0.8159 - val_loss: 0.4338 - val_acc: 0.7912\n",
            "Epoch 5/10\n",
            "1000/1000 [==============================] - 4s 4ms/step - loss: 0.3804 - acc: 0.8283 - val_loss: 0.4344 - val_acc: 0.7944\n",
            "Epoch 6/10\n",
            "1000/1000 [==============================] - 4s 4ms/step - loss: 0.3656 - acc: 0.8354 - val_loss: 0.4229 - val_acc: 0.8100\n",
            "Epoch 7/10\n",
            "1000/1000 [==============================] - 4s 3ms/step - loss: 0.3465 - acc: 0.8452 - val_loss: 0.4306 - val_acc: 0.8056\n",
            "Epoch 8/10\n",
            "1000/1000 [==============================] - 4s 4ms/step - loss: 0.3306 - acc: 0.8522 - val_loss: 0.4520 - val_acc: 0.7981\n",
            "Epoch 9/10\n",
            "1000/1000 [==============================] - 4s 4ms/step - loss: 0.3094 - acc: 0.8655 - val_loss: 0.4284 - val_acc: 0.8125\n",
            "Epoch 10/10\n",
            "1000/1000 [==============================] - 4s 4ms/step - loss: 0.2964 - acc: 0.8736 - val_loss: 0.5154 - val_acc: 0.7881\n"
          ]
        }
      ],
      "source": [
        "cnn_model.compile(optimizer='rmsprop',\n",
        "              loss='binary_crossentropy',\n",
        "              metrics=['acc'])\n",
        "history = cnn_model.fit(train50, train_labels,\n",
        "                    epochs=10,\n",
        "                    batch_size=32,\n",
        "                     validation_split=0.2,\n",
        "      validation_steps=50)\n"
      ]
    },
    {
      "cell_type": "code",
      "execution_count": 28,
      "metadata": {
        "id": "hM-GdMKqeCrK",
        "colab": {
          "base_uri": "https://localhost:8080/"
        },
        "outputId": "3f651220-e8d7-4915-af2e-a56f4dab1cde"
      },
      "outputs": [
        {
          "output_type": "stream",
          "name": "stdout",
          "text": [
            "313/313 [==============================] - 1s 3ms/step - loss: 0.4916 - acc: 0.7878\n",
            "Accuracy 0.787800    Loss: 0.491573\n"
          ]
        }
      ],
      "source": [
        "test_loss, test_acc, = cnn_model.evaluate(test50, test_labels)\n",
        "print(\"Accuracy %f    Loss: %f\" % (test_acc, test_loss))"
      ]
    },
    {
      "cell_type": "code",
      "source": [
        "# Plot Validation and Training :: Delete Later ::\n",
        "acc = history.history['acc']\n",
        "val_acc = history.history['val_acc']\n",
        "loss = history.history['loss']\n",
        "val_loss = history.history['val_loss']\n",
        "\n",
        "epochs = range(1, len(acc) + 1)\n",
        "\n",
        "plt.plot(epochs, acc, 'bo', label='Training acc')\n",
        "plt.plot(epochs, val_acc, 'b', label='Validation acc')\n",
        "plt.title('Training and validation accuracy')\n",
        "plt.legend()\n",
        "\n",
        "plt.figure()\n",
        "\n",
        "plt.plot(epochs, loss, 'bo', label='Training loss')\n",
        "plt.plot(epochs, val_loss, 'b', label='Validation loss')\n",
        "plt.title('Training and validation loss')\n",
        "plt.legend()"
      ],
      "metadata": {
        "colab": {
          "base_uri": "https://localhost:8080/",
          "height": 904
        },
        "id": "ImgbFN9XKH7H",
        "outputId": "a83d6b73-0e5b-452c-e812-93d4c2a2174d"
      },
      "execution_count": 29,
      "outputs": [
        {
          "output_type": "execute_result",
          "data": {
            "text/plain": [
              "<matplotlib.legend.Legend at 0x7f521bec6700>"
            ]
          },
          "metadata": {},
          "execution_count": 29
        },
        {
          "output_type": "display_data",
          "data": {
            "text/plain": [
              "<Figure size 640x480 with 1 Axes>"
            ],
            "image/png": "[encoded data removed]"
          },
          "metadata": {}
        },
        {
          "output_type": "display_data",
          "data": {
            "text/plain": [
              "<Figure size 640x480 with 1 Axes>"
            ],
            "image/png": "[encoded data removed]"
          },
          "metadata": {}
        }
      ]
    },
    {
      "cell_type": "markdown",
      "metadata": {
        "id": "4K0Ed_X7eSec"
      },
      "source": [
        "This is better than our first attempt at using pre-trained embeddings but not as good as when we learned the embeddings on our own."
      ]
    },
    {
      "cell_type": "markdown",
      "metadata": {
        "id": "ZB79P4nm6t4R"
      },
      "source": [
        "\n",
        "\n",
        "\n",
        "## Let's Reflect\n",
        "\n",
        "### Experiment 1\n",
        "We  trained the model without loading the pre-trained word embeddings and without freezing the embedding layer. In that \n",
        "case, we would be learning a task-specific embedding of our input tokens, which is generally more powerful than pre-trained word embeddings\n",
        "when lots of data is available. \n",
        "\n",
        "### Experiment 2\n",
        "However, we used a pre-existing word-embedding. This is especially useful when we have a limited amount of training data.\n",
        "\n",
        "\n",
        "\n",
        "![](https://raw.githubusercontent.com/zacharski/datamining-guide/master/labs/pics/torchdivide.png)\n",
        "\n",
        "## <font color='#EE4C2C'>You Try Experiment 3</font> \n",
        "WLet's try a new approach. Suppose we loaded the GloVe pre-trained word embeddings but this time didn't freeeze the layer, meaning it would continue to refine the embeddings using our training data. How does that do?"
      ]
    },
    {
      "cell_type": "code",
      "execution_count": 30,
      "metadata": {
        "id": "UxHX4E_A6t4S",
        "colab": {
          "base_uri": "https://localhost:8080/"
        },
        "outputId": "ac5c3205-7be9-4260-9905-136057cc0dd8"
      },
      "outputs": [
        {
          "output_type": "stream",
          "name": "stdout",
          "text": [
            "Model: \"sequential_3\"\n",
            "_________________________________________________________________\n",
            " Layer (type)                Output Shape              Param #   \n",
            "=================================================================\n",
            " embedding_4 (Embedding)     (None, 50, 100)           2000000   \n",
            "                                                                 \n",
            " flatten_3 (Flatten)         (None, 5000)              0         \n",
            "                                                                 \n",
            " dense_5 (Dense)             (None, 32)                160032    \n",
            "                                                                 \n",
            " dense_6 (Dense)             (None, 1)                 33        \n",
            "                                                                 \n",
            "=================================================================\n",
            "Total params: 2,160,065\n",
            "Trainable params: 2,160,065\n",
            "Non-trainable params: 0\n",
            "_________________________________________________________________\n"
          ]
        }
      ],
      "source": [
        "# Network Creation\n",
        "model3 = Sequential()\n",
        "model3.add(Embedding(max_words, embedding_dim, input_length=maxlen))\n",
        "model3.add(Flatten())\n",
        "model3.add(Dense(32, activation='relu'))\n",
        "model3.add(Dense(1, activation='sigmoid'))\n",
        "model3.summary()"
      ]
    },
    {
      "cell_type": "code",
      "execution_count": 31,
      "metadata": {
        "id": "gJGU2CPq6t4U"
      },
      "outputs": [],
      "source": [
        "# Set Weight and Trainability\n",
        "model3.layers[0].set_weights([embedding_matrix])\n",
        "model3.layers[0].trainable = True"
      ]
    },
    {
      "cell_type": "code",
      "execution_count": 32,
      "metadata": {
        "id": "rE3fGB6Herue",
        "colab": {
          "base_uri": "https://localhost:8080/"
        },
        "outputId": "8518ceb4-9ecb-45b4-bc72-8238ae9eca2e"
      },
      "outputs": [
        {
          "output_type": "stream",
          "name": "stdout",
          "text": [
            "Epoch 1/10\n",
            "1000/1000 [==============================] - 23s 22ms/step - loss: 0.5720 - acc: 0.6915 - val_loss: 0.4708 - val_acc: 0.7775\n",
            "Epoch 2/10\n",
            "1000/1000 [==============================] - 5s 5ms/step - loss: 0.4263 - acc: 0.8055 - val_loss: 0.4407 - val_acc: 0.7912\n",
            "Epoch 3/10\n",
            "1000/1000 [==============================] - 3s 3ms/step - loss: 0.3669 - acc: 0.8399 - val_loss: 0.4403 - val_acc: 0.7944\n",
            "Epoch 4/10\n",
            "1000/1000 [==============================] - 3s 3ms/step - loss: 0.3168 - acc: 0.8662 - val_loss: 0.4557 - val_acc: 0.8012\n",
            "Epoch 5/10\n",
            "1000/1000 [==============================] - 5s 5ms/step - loss: 0.2646 - acc: 0.8924 - val_loss: 0.4791 - val_acc: 0.7937\n",
            "Epoch 6/10\n",
            "1000/1000 [==============================] - 4s 4ms/step - loss: 0.2115 - acc: 0.9160 - val_loss: 0.5923 - val_acc: 0.7756\n",
            "Epoch 7/10\n",
            "1000/1000 [==============================] - 4s 3ms/step - loss: 0.1518 - acc: 0.9443 - val_loss: 0.6666 - val_acc: 0.7844\n",
            "Epoch 8/10\n",
            "1000/1000 [==============================] - 4s 4ms/step - loss: 0.0992 - acc: 0.9640 - val_loss: 0.8429 - val_acc: 0.7725\n",
            "Epoch 9/10\n",
            "1000/1000 [==============================] - 4s 4ms/step - loss: 0.0550 - acc: 0.9825 - val_loss: 1.0069 - val_acc: 0.7869\n",
            "Epoch 10/10\n",
            "1000/1000 [==============================] - 3s 3ms/step - loss: 0.0287 - acc: 0.9915 - val_loss: 1.1974 - val_acc: 0.7706\n"
          ]
        }
      ],
      "source": [
        "# Compile and Fit\n",
        "model3.compile(optimizer='rmsprop',\n",
        "              loss='binary_crossentropy',\n",
        "              metrics=['acc'])\n",
        "history = model3.fit(train50, train_labels,\n",
        "                    epochs=10,\n",
        "                    batch_size=32,\n",
        "                     validation_split=0.2,\n",
        "      validation_steps=50)\n",
        "model3.save_weights('pre_trained_glove_model.h5')"
      ]
    },
    {
      "cell_type": "code",
      "execution_count": 33,
      "metadata": {
        "id": "Lnz4cX7cfSU5",
        "colab": {
          "base_uri": "https://localhost:8080/"
        },
        "outputId": "f371e61c-19bd-4a98-e7ea-141f81d43979"
      },
      "outputs": [
        {
          "output_type": "stream",
          "name": "stdout",
          "text": [
            "313/313 [==============================] - 1s 2ms/step - loss: 1.2117 - acc: 0.7709\n",
            "Accuracy 0.770900    Loss: 1.211717\n"
          ]
        }
      ],
      "source": [
        "# Accuracy and Loss Check\n",
        "test_l, test_a, = model3.evaluate(test50, test_labels)\n",
        "print(\"Accuracy %f    Loss: %f\" % (test_a, test_l))"
      ]
    },
    {
      "cell_type": "code",
      "source": [
        "# Plot Validation and Training \n",
        "acc = history.history['acc']\n",
        "val_acc = history.history['val_acc']\n",
        "loss = history.history['loss']\n",
        "val_loss = history.history['val_loss']\n",
        "\n",
        "epochs = range(1, len(acc) + 1)\n",
        "\n",
        "plt.plot(epochs, acc, 'bo', label='Training acc')\n",
        "plt.plot(epochs, val_acc, 'b', label='Validation acc')\n",
        "plt.title('Training and validation accuracy')\n",
        "plt.legend()\n",
        "\n",
        "plt.figure()\n",
        "\n",
        "plt.plot(epochs, loss, 'bo', label='Training loss')\n",
        "plt.plot(epochs, val_loss, 'b', label='Validation loss')\n",
        "plt.title('Training and validation loss')\n",
        "plt.legend()\n",
        "\n",
        "plt.show()"
      ],
      "metadata": {
        "colab": {
          "base_uri": "https://localhost:8080/",
          "height": 887
        },
        "id": "Ua0L5sxJGdtP",
        "outputId": "5effa5c2-03da-4940-855c-8c061d060e4a"
      },
      "execution_count": 34,
      "outputs": [
        {
          "output_type": "display_data",
          "data": {
            "text/plain": [
              "<Figure size 640x480 with 1 Axes>"
            ],
            "image/png": "[encoded data removed]"
          },
          "metadata": {}
        },
        {
          "output_type": "display_data",
          "data": {
            "text/plain": [
              "<Figure size 640x480 with 1 Axes>"
            ],
            "image/png": "[encoded data removed]"
          },
          "metadata": {}
        }
      ]
    },
    {
      "cell_type": "markdown",
      "metadata": {
        "id": "3xN-GWKg6t4W"
      },
      "source": [
        "![](https://raw.githubusercontent.com/zacharski/datamining-guide/master/labs/pics/torchdivide.png)\n",
        "# <font color='#EE4C2C'>. You try - Climate Change Tweets</font> \n",
        "\n",
        "\n",
        "![](https://raw.githubusercontent.com/zacharski/ml-class/master/labs/pics/climateChange2.png)\n",
        "\n",
        "We are going to investigate the sentiment of tweets from the Twitter Climate Change Sentiment Dataset compiled by Edward Qian. The dataset consists of 43,943 tweets. Instead of a binary label (a positive sentiment on climate change or a negative, there are four possible labels:\n",
        "\n",
        "Label | Description\n",
        ":--- | :---- \n",
        "News | the tweet links to factual news about climate change\n",
        "Pro | the tweet supports the belief of man-made climate change\n",
        "Neutral |  the tweet neither supports nor refutes the belief of man-made climate change\n",
        "Anti | the tweet does not believe in man-made climate change\n",
        "\n",
        "\n",
        "![](https://raw.githubusercontent.com/zacharski/datamining-guide/master/labs/pics/PyDivideTwo.png)\n",
        "## <font color='#EE4C2C'>1. FastText.</font> \n",
        "\n",
        "Instead of using the GloVe embedding vectors we will use FastText. The FastText vectors for the most common 20,000 words is available at\n",
        "\n",
        "\n",
        "https://github.com/zacharski/ml-class/raw/master/data/fasttext.zip\n",
        "\n",
        "We can process it in the same way as we did the GloVe vector file.\n",
        "\n",
        "\n",
        "\n",
        "\n"
      ]
    },
    {
      "cell_type": "code",
      "execution_count": 35,
      "metadata": {
        "id": "JVl6o8_96t4W",
        "colab": {
          "base_uri": "https://localhost:8080/"
        },
        "outputId": "d6dfbfe1-ad5c-4c0f-e6f0-21771b848654"
      },
      "outputs": [
        {
          "output_type": "stream",
          "name": "stdout",
          "text": [
            "--2023-04-23 20:00:54--  https://github.com/zacharski/ml-class/raw/master/data/fasttext.zip\n",
            "Resolving github.com (github.com)... 140.82.112.3\n",
            "Connecting to github.com (github.com)|140.82.112.3|:443... connected.\n",
            "HTTP request sent, awaiting response... 302 Found\n",
            "Location: https://raw.githubusercontent.com/zacharski/ml-class/master/data/fasttext.zip [following]\n",
            "--2023-04-23 20:00:54--  https://raw.githubusercontent.com/zacharski/ml-class/master/data/fasttext.zip\n",
            "Resolving raw.githubusercontent.com (raw.githubusercontent.com)... 185.199.110.133, 185.199.111.133, 185.199.108.133, ...\n",
            "Connecting to raw.githubusercontent.com (raw.githubusercontent.com)|185.199.110.133|:443... connected.\n",
            "HTTP request sent, awaiting response... 200 OK\n",
            "Length: 13307328 (13M) [application/zip]\n",
            "Saving to: ‘fasttext.zip’\n",
            "\n",
            "fasttext.zip        100%[===================>]  12.69M  --.-KB/s    in 0.1s    \n",
            "\n",
            "2023-04-23 20:00:55 (119 MB/s) - ‘fasttext.zip’ saved [13307328/13307328]\n",
            "\n",
            "fasttext.zip\t   glove.6B.100d.zip  pre_trained_glove_model.h5\n",
            "glove.6B.100d.txt  imdb.zip\t      sample_data\n"
          ]
        }
      ],
      "source": [
        "!wget https://github.com/zacharski/ml-class/raw/master/data/fasttext.zip\n",
        "!ls"
      ]
    },
    {
      "cell_type": "code",
      "source": [
        "!unzip fasttext.zip"
      ],
      "metadata": {
        "colab": {
          "base_uri": "https://localhost:8080/"
        },
        "id": "QB4Pr7CoJLED",
        "outputId": "a788049b-5c02-4362-aafd-e5744563068d"
      },
      "execution_count": 36,
      "outputs": [
        {
          "output_type": "stream",
          "name": "stdout",
          "text": [
            "Archive:  fasttext.zip\n",
            "  inflating: fasttext.vec            \n"
          ]
        }
      ]
    },
    {
      "cell_type": "code",
      "source": [
        "embeddings_index = {}\n",
        "f = open('fasttext.vec')\n",
        "for line in f:\n",
        "    values = line.split()\n",
        "    word = values[0]\n",
        "    coefs = np.asarray(values[1:], dtype='float32')\n",
        "    embeddings_index[word] = coefs\n",
        "f.close()\n",
        "\n",
        "print('Found %s word vectors.' % len(embeddings_index))"
      ],
      "metadata": {
        "colab": {
          "base_uri": "https://localhost:8080/"
        },
        "id": "TrqBKGAyLEPp",
        "outputId": "906c51b5-190c-4aad-a882-ee813f3e4c1c"
      },
      "execution_count": 37,
      "outputs": [
        {
          "output_type": "stream",
          "name": "stdout",
          "text": [
            "Found 20000 word vectors.\n"
          ]
        }
      ]
    },
    {
      "cell_type": "code",
      "source": [
        "embeddings_index['climate']"
      ],
      "metadata": {
        "colab": {
          "base_uri": "https://localhost:8080/"
        },
        "id": "WFBNzARzMPgs",
        "outputId": "1cbf0c55-4ec2-4bf6-967d-3d88902a1c58"
      },
      "execution_count": 38,
      "outputs": [
        {
          "output_type": "execute_result",
          "data": {
            "text/plain": [
              "array([-0.0612, -0.0441,  0.0528,  0.0285, -0.0097, -0.052 ,  0.1255,\n",
              "        0.0527,  0.0243, -0.0034,  0.0011,  0.1234,  0.0996, -0.0101,\n",
              "        0.0738, -0.0316,  0.0215, -0.0329, -0.0453,  0.0295, -0.0248,\n",
              "        0.0386,  0.0026,  0.0418,  0.0034,  0.0229,  0.0313, -0.0663,\n",
              "        0.0092,  0.1073, -0.0242,  0.0456,  0.0179, -0.0245,  0.1102,\n",
              "       -0.0604,  0.063 ,  0.0063,  0.0565,  0.0059, -0.0039, -0.1272,\n",
              "        0.0109, -0.0906, -0.1028,  0.0161,  0.0299, -0.0439, -0.0095,\n",
              "       -0.0702,  0.0059,  0.0382, -0.0471, -0.004 , -0.0262,  0.0448,\n",
              "        0.0355,  0.0285, -0.0751, -0.0041, -0.0427, -0.0505, -0.1328,\n",
              "        0.0485,  0.0129,  0.104 , -0.0246, -0.0564,  0.0236,  0.0395,\n",
              "       -0.0137, -0.0261, -0.0807, -0.0088, -0.0776,  0.0273,  0.0068,\n",
              "       -0.005 , -0.0326, -0.0023, -0.093 , -0.0924, -0.1673, -0.0467,\n",
              "        0.0107,  0.0118,  0.0495, -0.0409,  0.0961,  0.0146, -0.1436,\n",
              "       -0.029 , -0.0127,  0.0488,  0.0428,  0.0216, -0.0328, -0.0898,\n",
              "       -0.0504, -0.0445,  0.0052,  0.1044, -0.0145, -0.0224, -0.0252,\n",
              "        0.0532,  0.0818, -0.0039,  0.0332, -0.0344,  0.0293,  0.0037,\n",
              "        0.0967,  0.0446,  0.005 , -0.0054, -0.0473, -0.0114, -0.052 ,\n",
              "        0.0946,  0.0198,  0.0005, -0.0523,  0.0147, -0.0576, -0.0751,\n",
              "        0.0328,  0.0258, -0.0794,  0.046 , -0.0007,  0.0019, -0.0635,\n",
              "        0.0062,  0.1017, -0.0756,  0.0921,  0.0506,  0.0347, -0.0013,\n",
              "       -0.051 , -0.0287,  0.002 , -0.0246, -0.0069,  0.0856, -0.108 ,\n",
              "        0.0143, -0.051 , -0.1108,  0.0102,  0.0332,  0.0057,  0.0107,\n",
              "       -0.0277, -0.0018,  0.0172, -0.0166,  0.0481,  0.0344,  0.1003,\n",
              "       -0.0178, -0.0115,  0.0979,  0.034 , -0.0289, -0.0627,  0.0107,\n",
              "       -0.0938, -0.0043, -0.0917, -0.003 ,  0.0746, -0.0464, -0.0444,\n",
              "        0.015 , -0.0196,  0.0379,  0.0306, -0.0987, -0.0124, -0.0393,\n",
              "        0.0089, -0.0158,  0.0966, -0.0944, -0.0048,  0.0429,  0.0033,\n",
              "        0.0052, -0.0443, -0.029 , -0.1329,  0.0084,  0.0297,  0.0056,\n",
              "        0.0041, -0.0633, -0.0426, -0.009 ,  0.0353, -0.0072,  0.0182,\n",
              "        0.0213, -0.0383, -0.0067, -0.0298,  0.0392,  0.0269, -0.0322,\n",
              "       -0.0509,  0.0261,  0.0093,  0.0669, -0.0624,  0.0084,  0.0289,\n",
              "       -0.0077, -0.055 ,  0.0083,  0.0746,  0.0051,  0.0354,  0.0021,\n",
              "        0.0231,  0.046 , -0.1222, -0.0591,  0.085 , -0.0898,  0.0669,\n",
              "       -0.0084,  0.0439,  0.0276,  0.0083, -0.0385,  0.0664,  0.0277,\n",
              "        0.0401, -0.0179, -0.0238,  0.0665, -0.0203, -0.0432,  0.0657,\n",
              "        0.0525,  0.042 , -0.0033, -0.0112, -0.0133,  0.0417,  0.0453,\n",
              "       -0.0608, -0.0408,  0.0713,  0.0651,  0.0005, -0.033 , -0.0214,\n",
              "        0.0077, -0.0462, -0.0248, -0.0244,  0.0307,  0.0086, -0.0004,\n",
              "        0.0302,  0.0804, -0.1045,  0.0057, -0.017 ,  0.0101,  0.0114,\n",
              "       -0.0299, -0.0506,  0.0143, -0.0738,  0.0069,  0.0194,  0.0297,\n",
              "       -0.0616, -0.001 , -0.0402,  0.0862, -0.0156, -0.0387,  0.0421,\n",
              "        0.0361,  0.0342,  0.0126, -0.0201,  0.0055, -0.0553,  0.0555,\n",
              "        0.0716,  0.0195,  0.0165,  0.076 ,  0.1015,  0.0068],\n",
              "      dtype=float32)"
            ]
          },
          "metadata": {},
          "execution_count": 38
        }
      ]
    },
    {
      "cell_type": "code",
      "source": [
        "tokenizer = Tokenizer(num_words = 20000)\n",
        "embedding_dim = 300\n",
        "max_words = 20000\n",
        "word_index = tokenizer.word_index\n",
        "\n",
        "embedding_matrix = np.zeros((max_words, embedding_dim))\n",
        "for word, i in word_index.items():\n",
        "    embedding_vector = embeddings_index.get(word)\n",
        "    if i < max_words:\n",
        "        if embedding_vector is not None:\n",
        "            # Words not found in embedding index will be all-zeros.\n",
        "            embedding_matrix[i] = embedding_vector"
      ],
      "metadata": {
        "id": "WTh5Djo6LEIF"
      },
      "execution_count": 39,
      "outputs": []
    },
    {
      "cell_type": "markdown",
      "metadata": {
        "id": "IsZzK-1FSISM"
      },
      "source": [
        "![](https://raw.githubusercontent.com/zacharski/datamining-guide/master/labs/pics/PyDivideTwo.png)\n",
        "## <font color='#EE4C2C'>2. Download and process the data file</font> \n",
        "\n",
        "The file is \n",
        "\n",
        "https://raw.githubusercontent.com/zacharski/ml-class/master/data/climateSentiment.csv.zip"
      ]
    },
    {
      "cell_type": "code",
      "execution_count": 40,
      "metadata": {
        "id": "LGSlhkmURtgB",
        "colab": {
          "base_uri": "https://localhost:8080/",
          "height": 423
        },
        "outputId": "2ad52671-4154-4273-f334-a4f275727769"
      },
      "outputs": [
        {
          "output_type": "execute_result",
          "data": {
            "text/plain": [
              "      sentiment                                            message  \\\n",
              "0          Anti  @tiniebeany climate change is an interesting h...   \n",
              "1           Pro  RT @NatGeoChannel: Watch #BeforeTheFlood right...   \n",
              "2           Pro  Fabulous! Leonardo #DiCaprio's film on #climat...   \n",
              "3           Pro  RT @Mick_Fanning: Just watched this amazing do...   \n",
              "4          News  RT @cnalive: Pranita Biswasi, a Lutheran from ...   \n",
              "...         ...                                                ...   \n",
              "43938       Pro  Dear @realDonaldTrump,\\nYeah right. Human Medi...   \n",
              "43939       Pro  What will your respective parties do to preven...   \n",
              "43940      News  RT @MikkiL: UN Poll Shows Climate Change Is th...   \n",
              "43941   Neutral  RT @taehbeingextra: i still can$q$t believe th...   \n",
              "43942       Pro  @Likeabat77 @zachhaller \\n\\nThe wealthy + foss...   \n",
              "\n",
              "                  tweetid  \n",
              "0      792927353886371840  \n",
              "1      793124211518832641  \n",
              "2      793124402388832256  \n",
              "3      793124635873275904  \n",
              "4      793125156185137153  \n",
              "...                   ...  \n",
              "43938  791307031919550464  \n",
              "43939  791316857403936768  \n",
              "43940  791357509101621249  \n",
              "43941  791390042136641537  \n",
              "43942  791401610308038656  \n",
              "\n",
              "[43943 rows x 3 columns]"
            ],
            "text/html": [
              "\n",
              "  <div id=\"df-6868e1ba-c571-44b1-a359-105e9ddc6ed8\">\n",
              "    <div class=\"colab-df-container\">\n",
              "      <div>\n",
              "<style scoped>\n",
              "    .dataframe tbody tr th:only-of-type {\n",
              "        vertical-align: middle;\n",
              "    }\n",
              "\n",
              "    .dataframe tbody tr th {\n",
              "        vertical-align: top;\n",
              "    }\n",
              "\n",
              "    .dataframe thead th {\n",
              "        text-align: right;\n",
              "    }\n",
              "</style>\n",
              "<table border=\"1\" class=\"dataframe\">\n",
              "  <thead>\n",
              "    <tr style=\"text-align: right;\">\n",
              "      <th></th>\n",
              "      <th>sentiment</th>\n",
              "      <th>message</th>\n",
              "      <th>tweetid</th>\n",
              "    </tr>\n",
              "  </thead>\n",
              "  <tbody>\n",
              "    <tr>\n",
              "      <th>0</th>\n",
              "      <td>Anti</td>\n",
              "      <td>@tiniebeany climate change is an interesting h...</td>\n",
              "      <td>792927353886371840</td>\n",
              "    </tr>\n",
              "    <tr>\n",
              "      <th>1</th>\n",
              "      <td>Pro</td>\n",
              "      <td>RT @NatGeoChannel: Watch #BeforeTheFlood right...</td>\n",
              "      <td>793124211518832641</td>\n",
              "    </tr>\n",
              "    <tr>\n",
              "      <th>2</th>\n",
              "      <td>Pro</td>\n",
              "      <td>Fabulous! Leonardo #DiCaprio's film on #climat...</td>\n",
              "      <td>793124402388832256</td>\n",
              "    </tr>\n",
              "    <tr>\n",
              "      <th>3</th>\n",
              "      <td>Pro</td>\n",
              "      <td>RT @Mick_Fanning: Just watched this amazing do...</td>\n",
              "      <td>793124635873275904</td>\n",
              "    </tr>\n",
              "    <tr>\n",
              "      <th>4</th>\n",
              "      <td>News</td>\n",
              "      <td>RT @cnalive: Pranita Biswasi, a Lutheran from ...</td>\n",
              "      <td>793125156185137153</td>\n",
              "    </tr>\n",
              "    <tr>\n",
              "      <th>...</th>\n",
              "      <td>...</td>\n",
              "      <td>...</td>\n",
              "      <td>...</td>\n",
              "    </tr>\n",
              "    <tr>\n",
              "      <th>43938</th>\n",
              "      <td>Pro</td>\n",
              "      <td>Dear @realDonaldTrump,\\nYeah right. Human Medi...</td>\n",
              "      <td>791307031919550464</td>\n",
              "    </tr>\n",
              "    <tr>\n",
              "      <th>43939</th>\n",
              "      <td>Pro</td>\n",
              "      <td>What will your respective parties do to preven...</td>\n",
              "      <td>791316857403936768</td>\n",
              "    </tr>\n",
              "    <tr>\n",
              "      <th>43940</th>\n",
              "      <td>News</td>\n",
              "      <td>RT @MikkiL: UN Poll Shows Climate Change Is th...</td>\n",
              "      <td>791357509101621249</td>\n",
              "    </tr>\n",
              "    <tr>\n",
              "      <th>43941</th>\n",
              "      <td>Neutral</td>\n",
              "      <td>RT @taehbeingextra: i still can$q$t believe th...</td>\n",
              "      <td>791390042136641537</td>\n",
              "    </tr>\n",
              "    <tr>\n",
              "      <th>43942</th>\n",
              "      <td>Pro</td>\n",
              "      <td>@Likeabat77 @zachhaller \\n\\nThe wealthy + foss...</td>\n",
              "      <td>791401610308038656</td>\n",
              "    </tr>\n",
              "  </tbody>\n",
              "</table>\n",
              "<p>43943 rows × 3 columns</p>\n",
              "</div>\n",
              "      <button class=\"colab-df-convert\" onclick=\"convertToInteractive('df-6868e1ba-c571-44b1-a359-105e9ddc6ed8')\"\n",
              "              title=\"Convert this dataframe to an interactive table.\"\n",
              "              style=\"display:none;\">\n",
              "        \n",
              "  <svg xmlns=\"http://www.w3.org/2000/svg\" height=\"24px\"viewBox=\"0 0 24 24\"\n",
              "       width=\"24px\">\n",
              "    <path d=\"M0 0h24v24H0V0z\" fill=\"none\"/>\n",
              "    <path d=\"M18.56 5.44l.94 2.06.94-2.06 2.06-.94-2.06-.94-.94-2.06-.94 2.06-2.06.94zm-11 1L8.5 8.5l.94-2.06 2.06-.94-2.06-.94L8.5 2.5l-.94 2.06-2.06.94zm10 10l.94 2.06.94-2.06 2.06-.94-2.06-.94-.94-2.06-.94 2.06-2.06.94z\"/><path d=\"M17.41 7.96l-1.37-1.37c-.4-.4-.92-.59-1.43-.59-.52 0-1.04.2-1.43.59L10.3 9.45l-7.72 7.72c-.78.78-.78 2.05 0 2.83L4 21.41c.39.39.9.59 1.41.59.51 0 1.02-.2 1.41-.59l7.78-7.78 2.81-2.81c.8-.78.8-2.07 0-2.86zM5.41 20L4 18.59l7.72-7.72 1.47 1.35L5.41 20z\"/>\n",
              "  </svg>\n",
              "      </button>\n",
              "      \n",
              "  <style>\n",
              "    .colab-df-container {\n",
              "      display:flex;\n",
              "      flex-wrap:wrap;\n",
              "      gap: 12px;\n",
              "    }\n",
              "\n",
              "    .colab-df-convert {\n",
              "      background-color: #E8F0FE;\n",
              "      border: none;\n",
              "      border-radius: 50%;\n",
              "      cursor: pointer;\n",
              "      display: none;\n",
              "      fill: #1967D2;\n",
              "      height: 32px;\n",
              "      padding: 0 0 0 0;\n",
              "      width: 32px;\n",
              "    }\n",
              "\n",
              "    .colab-df-convert:hover {\n",
              "      background-color: #E2EBFA;\n",
              "      box-shadow: 0px 1px 2px rgba(60, 64, 67, 0.3), 0px 1px 3px 1px rgba(60, 64, 67, 0.15);\n",
              "      fill: #174EA6;\n",
              "    }\n",
              "\n",
              "    [theme=dark] .colab-df-convert {\n",
              "      background-color: #3B4455;\n",
              "      fill: #D2E3FC;\n",
              "    }\n",
              "\n",
              "    [theme=dark] .colab-df-convert:hover {\n",
              "      background-color: #434B5C;\n",
              "      box-shadow: 0px 1px 3px 1px rgba(0, 0, 0, 0.15);\n",
              "      filter: drop-shadow(0px 1px 2px rgba(0, 0, 0, 0.3));\n",
              "      fill: #FFFFFF;\n",
              "    }\n",
              "  </style>\n",
              "\n",
              "      <script>\n",
              "        const buttonEl =\n",
              "          document.querySelector('#df-6868e1ba-c571-44b1-a359-105e9ddc6ed8 button.colab-df-convert');\n",
              "        buttonEl.style.display =\n",
              "          google.colab.kernel.accessAllowed ? 'block' : 'none';\n",
              "\n",
              "        async function convertToInteractive(key) {\n",
              "          const element = document.querySelector('#df-6868e1ba-c571-44b1-a359-105e9ddc6ed8');\n",
              "          const dataTable =\n",
              "            await google.colab.kernel.invokeFunction('convertToInteractive',\n",
              "                                                     [key], {});\n",
              "          if (!dataTable) return;\n",
              "\n",
              "          const docLinkHtml = 'Like what you see? Visit the ' +\n",
              "            '<a target=\"_blank\" href=https://colab.research.google.com/notebooks/data_table.ipynb>data table notebook</a>'\n",
              "            + ' to learn more about interactive tables.';\n",
              "          element.innerHTML = '';\n",
              "          dataTable['output_type'] = 'display_data';\n",
              "          await google.colab.output.renderOutput(dataTable, element);\n",
              "          const docLink = document.createElement('div');\n",
              "          docLink.innerHTML = docLinkHtml;\n",
              "          element.appendChild(docLink);\n",
              "        }\n",
              "      </script>\n",
              "    </div>\n",
              "  </div>\n",
              "  "
            ]
          },
          "metadata": {},
          "execution_count": 40
        }
      ],
      "source": [
        "climate = pd.read_csv(\"https://raw.githubusercontent.com/zacharski/ml-class/master/data/climateSentiment.csv.zip\")\n",
        "climate"
      ]
    },
    {
      "cell_type": "code",
      "source": [
        "climate.message[0]"
      ],
      "metadata": {
        "colab": {
          "base_uri": "https://localhost:8080/",
          "height": 36
        },
        "id": "Z1N9pg46jZzA",
        "outputId": "195cb666-4cc0-4045-f8ab-17a59935954e"
      },
      "execution_count": 41,
      "outputs": [
        {
          "output_type": "execute_result",
          "data": {
            "text/plain": [
              "'@tiniebeany climate change is an interesting hustle as it was global warming but the planet stopped warming for 15 yes while the suv boom'"
            ],
            "application/vnd.google.colaboratory.intrinsic+json": {
              "type": "string"
            }
          },
          "metadata": {},
          "execution_count": 41
        }
      ]
    },
    {
      "cell_type": "code",
      "source": [
        "max = len(climate.message[0].split())\n",
        "index = 0\n",
        "for i in range(43943):\n",
        "  ch = len(climate.message[i].split())\n",
        "  if ch >= max:\n",
        "    max = ch\n",
        "    index = i\n",
        "print(f\"{max} words from row {index}\")"
      ],
      "metadata": {
        "colab": {
          "base_uri": "https://localhost:8080/"
        },
        "id": "jQOoxY1XncVL",
        "outputId": "051611f3-7c94-43f0-e172-069fa6f34ce8"
      },
      "execution_count": 42,
      "outputs": [
        {
          "output_type": "stream",
          "name": "stdout",
          "text": [
            "97 words from row 3791\n"
          ]
        }
      ]
    },
    {
      "cell_type": "code",
      "source": [
        "# What is this?!\n",
        "climate.message[3791]"
      ],
      "metadata": {
        "colab": {
          "base_uri": "https://localhost:8080/",
          "height": 122
        },
        "id": "I2nqDAC4oSdv",
        "outputId": "16261a22-285b-4d0e-bdba-714a7ef4a9c4"
      },
      "execution_count": 43,
      "outputs": [
        {
          "output_type": "execute_result",
          "data": {
            "text/plain": [
              "'RT @Hopeniverse: Ã\\xa0Â¸Â£Ã\\xa0Â¸ÂµÃ\\xa0Â¸Â§Ã\\xa0Â¸Â´Ã\\xa0Â¸Â§Ã\\xa0Â¸Â£Ã\\xa0Â¸Âª global warming Ã\\xa0Â¸â€žÃ\\xa0Â¹Ë†Ã\\xa0Â¸Â° Ã\\xa0Â¹â€šÃ\\xa0Â¸â€\\x9dÃ\\xa0Â¸â„¢Ã\\xa0Â¸Â«Ã\\xa0Â¸â„¢Ã\\xa0Â¹â€°Ã\\xa0Â¸Â²Ã\\xa0Â¸â€¢Ã\\xa0Â¸Â²Ã\\xa0Â¸â„¢Ã\\xa0Â¹Ë†Ã\\xa0Â¸Â²Ã\\xa0Â¸Â£Ã\\xa0Â¸Â±Ã\\xa0Â¸ï†\\x81Ã\\xa0Â¸Â«Ã\\xa0Â¸Â¥Ã\\xa0Â¸Â\\xadÃ\\xa0Â¸ï†\\x81Ã\\xa0Â¹Æ’Ã\\xa0Â¸Â«Ã\\xa0Â¹â€°Ã\\xa0Â¸â€¹Ã\\xa0Â¸Â·Ã\\xa0Â¹â€°Ã\\xa0Â¸Â\\xadÃ\\xa0Â¸Â¡Ã\\xa0Â¸Â² Ã\\xa0Â¹â‚¬Ã\\xa0Â¸Â«Ã\\xa0Â¸Â¡Ã\\xa0Â¸Â·Ã\\xa0Â¸Â\\xadÃ\\xa0Â¸â„¢Ã\\xa0Â¹â‚¬Ã\\xa0Â¸â€žÃ\\xa0Â¸ÂµÃ\\xa0Â¹â€°Ã\\xa0Â¸Â¢Ã\\xa0Â¸Â§Ã\\xa0Â¹â€šÃ\\xa0Â¸Â\\xadÃ\\xa0Â¸Â£Ã\\xa0Â¸Â´Ã\\xa0Â¹â€šÃ\\xa0Â¸Â\\xadÃ\\xa0Â¹â€°Ã\\xa0Â¹ï†\\x81Ã\\xa0Â¸Â¥Ã\\xa0Â¹â€°Ã\\xa0Â¸Â§Ã\\xa0Â¹ï†\\x81Ã\\xa0Â¸â€ºÃ\\xa0Â¸Â£Ã\\xa0Â¸â€¡Ã\\xa0Â¸Å¸Ã\\xa0Â¸Â±Ã\\xa0Â¸â„¢Ã\\xa0Â¹â€žÃ\\xa0Â¸â€ºÃ\\xa0Â¸â€\\x9dÃ\\xa0Â¹â€°Ã\\xa0Â¸Â§Ã\\xa0Â¸Â¢Ã\\xa0Â¹Æ’Ã\\xa0Â¸â„¢Ã\\xa0Â¹â‚¬Ã\\xa0Â¸Â§Ã\\xa0Â¸Â¥Ã\\xa0Â¸Â²Ã\\xa0Â¹â‚¬Ã\\xa0Â¸â€\\x9dÃ\\xa0Â¸ÂµÃ\\xa0Â¸Â¢Ã\\xa0Â¸Â§Ã\\xa0Â¸ï†\\x81Ã\\xa0Â¸Â±Ã\\xa0Â¸â„¢ https://t.co/XqÃ¢â‚¬Â¦'"
            ],
            "application/vnd.google.colaboratory.intrinsic+json": {
              "type": "string"
            }
          },
          "metadata": {},
          "execution_count": 43
        }
      ]
    },
    {
      "cell_type": "code",
      "source": [
        "climate.sentiment.unique()"
      ],
      "metadata": {
        "colab": {
          "base_uri": "https://localhost:8080/"
        },
        "id": "Viv9KegGVzzc",
        "outputId": "8118707a-a077-4167-8dd1-36b755d3c66b"
      },
      "execution_count": 44,
      "outputs": [
        {
          "output_type": "execute_result",
          "data": {
            "text/plain": [
              "array(['Anti', 'Pro', 'News', 'Neutral'], dtype=object)"
            ]
          },
          "metadata": {},
          "execution_count": 44
        }
      ]
    },
    {
      "cell_type": "code",
      "source": [
        "climate_text = climate.message\n",
        "climate_label = climate.sentiment\n",
        "climate_label = pd.get_dummies(climate_label)\n",
        "climate_label "
      ],
      "metadata": {
        "colab": {
          "base_uri": "https://localhost:8080/",
          "height": 423
        },
        "id": "ZX0k67m7K2HP",
        "outputId": "64e5246c-e671-4a97-e37c-c10da3289b38"
      },
      "execution_count": 45,
      "outputs": [
        {
          "output_type": "execute_result",
          "data": {
            "text/plain": [
              "       Anti  Neutral  News  Pro\n",
              "0         1        0     0    0\n",
              "1         0        0     0    1\n",
              "2         0        0     0    1\n",
              "3         0        0     0    1\n",
              "4         0        0     1    0\n",
              "...     ...      ...   ...  ...\n",
              "43938     0        0     0    1\n",
              "43939     0        0     0    1\n",
              "43940     0        0     1    0\n",
              "43941     0        1     0    0\n",
              "43942     0        0     0    1\n",
              "\n",
              "[43943 rows x 4 columns]"
            ],
            "text/html": [
              "\n",
              "  <div id=\"df-24ac3e02-bf29-45d3-98f1-4ecc3e350f2f\">\n",
              "    <div class=\"colab-df-container\">\n",
              "      <div>\n",
              "<style scoped>\n",
              "    .dataframe tbody tr th:only-of-type {\n",
              "        vertical-align: middle;\n",
              "    }\n",
              "\n",
              "    .dataframe tbody tr th {\n",
              "        vertical-align: top;\n",
              "    }\n",
              "\n",
              "    .dataframe thead th {\n",
              "        text-align: right;\n",
              "    }\n",
              "</style>\n",
              "<table border=\"1\" class=\"dataframe\">\n",
              "  <thead>\n",
              "    <tr style=\"text-align: right;\">\n",
              "      <th></th>\n",
              "      <th>Anti</th>\n",
              "      <th>Neutral</th>\n",
              "      <th>News</th>\n",
              "      <th>Pro</th>\n",
              "    </tr>\n",
              "  </thead>\n",
              "  <tbody>\n",
              "    <tr>\n",
              "      <th>0</th>\n",
              "      <td>1</td>\n",
              "      <td>0</td>\n",
              "      <td>0</td>\n",
              "      <td>0</td>\n",
              "    </tr>\n",
              "    <tr>\n",
              "      <th>1</th>\n",
              "      <td>0</td>\n",
              "      <td>0</td>\n",
              "      <td>0</td>\n",
              "      <td>1</td>\n",
              "    </tr>\n",
              "    <tr>\n",
              "      <th>2</th>\n",
              "      <td>0</td>\n",
              "      <td>0</td>\n",
              "      <td>0</td>\n",
              "      <td>1</td>\n",
              "    </tr>\n",
              "    <tr>\n",
              "      <th>3</th>\n",
              "      <td>0</td>\n",
              "      <td>0</td>\n",
              "      <td>0</td>\n",
              "      <td>1</td>\n",
              "    </tr>\n",
              "    <tr>\n",
              "      <th>4</th>\n",
              "      <td>0</td>\n",
              "      <td>0</td>\n",
              "      <td>1</td>\n",
              "      <td>0</td>\n",
              "    </tr>\n",
              "    <tr>\n",
              "      <th>...</th>\n",
              "      <td>...</td>\n",
              "      <td>...</td>\n",
              "      <td>...</td>\n",
              "      <td>...</td>\n",
              "    </tr>\n",
              "    <tr>\n",
              "      <th>43938</th>\n",
              "      <td>0</td>\n",
              "      <td>0</td>\n",
              "      <td>0</td>\n",
              "      <td>1</td>\n",
              "    </tr>\n",
              "    <tr>\n",
              "      <th>43939</th>\n",
              "      <td>0</td>\n",
              "      <td>0</td>\n",
              "      <td>0</td>\n",
              "      <td>1</td>\n",
              "    </tr>\n",
              "    <tr>\n",
              "      <th>43940</th>\n",
              "      <td>0</td>\n",
              "      <td>0</td>\n",
              "      <td>1</td>\n",
              "      <td>0</td>\n",
              "    </tr>\n",
              "    <tr>\n",
              "      <th>43941</th>\n",
              "      <td>0</td>\n",
              "      <td>1</td>\n",
              "      <td>0</td>\n",
              "      <td>0</td>\n",
              "    </tr>\n",
              "    <tr>\n",
              "      <th>43942</th>\n",
              "      <td>0</td>\n",
              "      <td>0</td>\n",
              "      <td>0</td>\n",
              "      <td>1</td>\n",
              "    </tr>\n",
              "  </tbody>\n",
              "</table>\n",
              "<p>43943 rows × 4 columns</p>\n",
              "</div>\n",
              "      <button class=\"colab-df-convert\" onclick=\"convertToInteractive('df-24ac3e02-bf29-45d3-98f1-4ecc3e350f2f')\"\n",
              "              title=\"Convert this dataframe to an interactive table.\"\n",
              "              style=\"display:none;\">\n",
              "        \n",
              "  <svg xmlns=\"http://www.w3.org/2000/svg\" height=\"24px\"viewBox=\"0 0 24 24\"\n",
              "       width=\"24px\">\n",
              "    <path d=\"M0 0h24v24H0V0z\" fill=\"none\"/>\n",
              "    <path d=\"M18.56 5.44l.94 2.06.94-2.06 2.06-.94-2.06-.94-.94-2.06-.94 2.06-2.06.94zm-11 1L8.5 8.5l.94-2.06 2.06-.94-2.06-.94L8.5 2.5l-.94 2.06-2.06.94zm10 10l.94 2.06.94-2.06 2.06-.94-2.06-.94-.94-2.06-.94 2.06-2.06.94z\"/><path d=\"M17.41 7.96l-1.37-1.37c-.4-.4-.92-.59-1.43-.59-.52 0-1.04.2-1.43.59L10.3 9.45l-7.72 7.72c-.78.78-.78 2.05 0 2.83L4 21.41c.39.39.9.59 1.41.59.51 0 1.02-.2 1.41-.59l7.78-7.78 2.81-2.81c.8-.78.8-2.07 0-2.86zM5.41 20L4 18.59l7.72-7.72 1.47 1.35L5.41 20z\"/>\n",
              "  </svg>\n",
              "      </button>\n",
              "      \n",
              "  <style>\n",
              "    .colab-df-container {\n",
              "      display:flex;\n",
              "      flex-wrap:wrap;\n",
              "      gap: 12px;\n",
              "    }\n",
              "\n",
              "    .colab-df-convert {\n",
              "      background-color: #E8F0FE;\n",
              "      border: none;\n",
              "      border-radius: 50%;\n",
              "      cursor: pointer;\n",
              "      display: none;\n",
              "      fill: #1967D2;\n",
              "      height: 32px;\n",
              "      padding: 0 0 0 0;\n",
              "      width: 32px;\n",
              "    }\n",
              "\n",
              "    .colab-df-convert:hover {\n",
              "      background-color: #E2EBFA;\n",
              "      box-shadow: 0px 1px 2px rgba(60, 64, 67, 0.3), 0px 1px 3px 1px rgba(60, 64, 67, 0.15);\n",
              "      fill: #174EA6;\n",
              "    }\n",
              "\n",
              "    [theme=dark] .colab-df-convert {\n",
              "      background-color: #3B4455;\n",
              "      fill: #D2E3FC;\n",
              "    }\n",
              "\n",
              "    [theme=dark] .colab-df-convert:hover {\n",
              "      background-color: #434B5C;\n",
              "      box-shadow: 0px 1px 3px 1px rgba(0, 0, 0, 0.15);\n",
              "      filter: drop-shadow(0px 1px 2px rgba(0, 0, 0, 0.3));\n",
              "      fill: #FFFFFF;\n",
              "    }\n",
              "  </style>\n",
              "\n",
              "      <script>\n",
              "        const buttonEl =\n",
              "          document.querySelector('#df-24ac3e02-bf29-45d3-98f1-4ecc3e350f2f button.colab-df-convert');\n",
              "        buttonEl.style.display =\n",
              "          google.colab.kernel.accessAllowed ? 'block' : 'none';\n",
              "\n",
              "        async function convertToInteractive(key) {\n",
              "          const element = document.querySelector('#df-24ac3e02-bf29-45d3-98f1-4ecc3e350f2f');\n",
              "          const dataTable =\n",
              "            await google.colab.kernel.invokeFunction('convertToInteractive',\n",
              "                                                     [key], {});\n",
              "          if (!dataTable) return;\n",
              "\n",
              "          const docLinkHtml = 'Like what you see? Visit the ' +\n",
              "            '<a target=\"_blank\" href=https://colab.research.google.com/notebooks/data_table.ipynb>data table notebook</a>'\n",
              "            + ' to learn more about interactive tables.';\n",
              "          element.innerHTML = '';\n",
              "          dataTable['output_type'] = 'display_data';\n",
              "          await google.colab.output.renderOutput(dataTable, element);\n",
              "          const docLink = document.createElement('div');\n",
              "          docLink.innerHTML = docLinkHtml;\n",
              "          element.appendChild(docLink);\n",
              "        }\n",
              "      </script>\n",
              "    </div>\n",
              "  </div>\n",
              "  "
            ]
          },
          "metadata": {},
          "execution_count": 45
        }
      ]
    },
    {
      "cell_type": "code",
      "source": [
        "#build the word index\n",
        "tokenizer.fit_on_texts(climate_text)\n",
        "# now convert the words to integers\n",
        "climate_sequences = tokenizer.texts_to_sequences(climate_text)\n",
        "climate_sequences[3791]"
      ],
      "metadata": {
        "colab": {
          "base_uri": "https://localhost:8080/"
        },
        "id": "F74VPuhhK1ju",
        "outputId": "708da4a7-4e7a-4f44-febb-0dd0d349a4c2"
      },
      "execution_count": 46,
      "outputs": [
        {
          "output_type": "execute_result",
          "data": {
            "text/plain": [
              "[6, 12, 13, 4, 3, 5]"
            ]
          },
          "metadata": {},
          "execution_count": 46
        }
      ]
    },
    {
      "cell_type": "code",
      "source": [
        "tokenizer.sequences_to_texts([climate_sequences[3791]])"
      ],
      "metadata": {
        "colab": {
          "base_uri": "https://localhost:8080/"
        },
        "id": "YXSupfKxLlyN",
        "outputId": "97110d0e-2b00-495d-abcc-0509e212c70c"
      },
      "execution_count": 47,
      "outputs": [
        {
          "output_type": "execute_result",
          "data": {
            "text/plain": [
              "['rt global warming https t co']"
            ]
          },
          "metadata": {},
          "execution_count": 47
        }
      ]
    },
    {
      "cell_type": "code",
      "source": [
        "# Cut texts after this number of words \n",
        "# (among top max_features most common words)\n",
        "maxlen = 100\n",
        "\n",
        "\n",
        "from keras.utils import pad_sequences\n",
        "\n",
        "\n",
        "# This turns our lists of integers\n",
        "# into a 2D integer tensor of shape `(samples, maxlen)`\n",
        "climate50 = pad_sequences(climate_sequences, maxlen=maxlen)\n",
        "climate50[3791]"
      ],
      "metadata": {
        "colab": {
          "base_uri": "https://localhost:8080/"
        },
        "id": "vZ806axHLtj8",
        "outputId": "d3b19c70-4b3c-40b8-edaa-76fbc5b1f732"
      },
      "execution_count": 48,
      "outputs": [
        {
          "output_type": "execute_result",
          "data": {
            "text/plain": [
              "array([ 0,  0,  0,  0,  0,  0,  0,  0,  0,  0,  0,  0,  0,  0,  0,  0,  0,\n",
              "        0,  0,  0,  0,  0,  0,  0,  0,  0,  0,  0,  0,  0,  0,  0,  0,  0,\n",
              "        0,  0,  0,  0,  0,  0,  0,  0,  0,  0,  0,  0,  0,  0,  0,  0,  0,\n",
              "        0,  0,  0,  0,  0,  0,  0,  0,  0,  0,  0,  0,  0,  0,  0,  0,  0,\n",
              "        0,  0,  0,  0,  0,  0,  0,  0,  0,  0,  0,  0,  0,  0,  0,  0,  0,\n",
              "        0,  0,  0,  0,  0,  0,  0,  0,  0,  6, 12, 13,  4,  3,  5],\n",
              "      dtype=int32)"
            ]
          },
          "metadata": {},
          "execution_count": 48
        }
      ]
    },
    {
      "cell_type": "code",
      "source": [
        "tr50, te50, tr_labels, te_labels = train_test_split(climate50, climate_label, test_size = 0.2, random_state=42)\n",
        "te_labels"
      ],
      "metadata": {
        "colab": {
          "base_uri": "https://localhost:8080/",
          "height": 423
        },
        "id": "Rzo7Tu2VLtgX",
        "outputId": "668433c6-c3f3-4f2c-9105-8a5c9364e87a"
      },
      "execution_count": 49,
      "outputs": [
        {
          "output_type": "execute_result",
          "data": {
            "text/plain": [
              "       Anti  Neutral  News  Pro\n",
              "34461     0        1     0    0\n",
              "20916     0        0     1    0\n",
              "14218     0        0     0    1\n",
              "30674     0        1     0    0\n",
              "32400     0        0     0    1\n",
              "...     ...      ...   ...  ...\n",
              "33649     0        0     0    1\n",
              "5523      0        0     0    1\n",
              "25031     0        0     0    1\n",
              "5638      0        0     0    1\n",
              "17989     0        0     1    0\n",
              "\n",
              "[8789 rows x 4 columns]"
            ],
            "text/html": [
              "\n",
              "  <div id=\"df-f76c2c11-7cfe-445d-ac83-d2caa8d8bf31\">\n",
              "    <div class=\"colab-df-container\">\n",
              "      <div>\n",
              "<style scoped>\n",
              "    .dataframe tbody tr th:only-of-type {\n",
              "        vertical-align: middle;\n",
              "    }\n",
              "\n",
              "    .dataframe tbody tr th {\n",
              "        vertical-align: top;\n",
              "    }\n",
              "\n",
              "    .dataframe thead th {\n",
              "        text-align: right;\n",
              "    }\n",
              "</style>\n",
              "<table border=\"1\" class=\"dataframe\">\n",
              "  <thead>\n",
              "    <tr style=\"text-align: right;\">\n",
              "      <th></th>\n",
              "      <th>Anti</th>\n",
              "      <th>Neutral</th>\n",
              "      <th>News</th>\n",
              "      <th>Pro</th>\n",
              "    </tr>\n",
              "  </thead>\n",
              "  <tbody>\n",
              "    <tr>\n",
              "      <th>34461</th>\n",
              "      <td>0</td>\n",
              "      <td>1</td>\n",
              "      <td>0</td>\n",
              "      <td>0</td>\n",
              "    </tr>\n",
              "    <tr>\n",
              "      <th>20916</th>\n",
              "      <td>0</td>\n",
              "      <td>0</td>\n",
              "      <td>1</td>\n",
              "      <td>0</td>\n",
              "    </tr>\n",
              "    <tr>\n",
              "      <th>14218</th>\n",
              "      <td>0</td>\n",
              "      <td>0</td>\n",
              "      <td>0</td>\n",
              "      <td>1</td>\n",
              "    </tr>\n",
              "    <tr>\n",
              "      <th>30674</th>\n",
              "      <td>0</td>\n",
              "      <td>1</td>\n",
              "      <td>0</td>\n",
              "      <td>0</td>\n",
              "    </tr>\n",
              "    <tr>\n",
              "      <th>32400</th>\n",
              "      <td>0</td>\n",
              "      <td>0</td>\n",
              "      <td>0</td>\n",
              "      <td>1</td>\n",
              "    </tr>\n",
              "    <tr>\n",
              "      <th>...</th>\n",
              "      <td>...</td>\n",
              "      <td>...</td>\n",
              "      <td>...</td>\n",
              "      <td>...</td>\n",
              "    </tr>\n",
              "    <tr>\n",
              "      <th>33649</th>\n",
              "      <td>0</td>\n",
              "      <td>0</td>\n",
              "      <td>0</td>\n",
              "      <td>1</td>\n",
              "    </tr>\n",
              "    <tr>\n",
              "      <th>5523</th>\n",
              "      <td>0</td>\n",
              "      <td>0</td>\n",
              "      <td>0</td>\n",
              "      <td>1</td>\n",
              "    </tr>\n",
              "    <tr>\n",
              "      <th>25031</th>\n",
              "      <td>0</td>\n",
              "      <td>0</td>\n",
              "      <td>0</td>\n",
              "      <td>1</td>\n",
              "    </tr>\n",
              "    <tr>\n",
              "      <th>5638</th>\n",
              "      <td>0</td>\n",
              "      <td>0</td>\n",
              "      <td>0</td>\n",
              "      <td>1</td>\n",
              "    </tr>\n",
              "    <tr>\n",
              "      <th>17989</th>\n",
              "      <td>0</td>\n",
              "      <td>0</td>\n",
              "      <td>1</td>\n",
              "      <td>0</td>\n",
              "    </tr>\n",
              "  </tbody>\n",
              "</table>\n",
              "<p>8789 rows × 4 columns</p>\n",
              "</div>\n",
              "      <button class=\"colab-df-convert\" onclick=\"convertToInteractive('df-f76c2c11-7cfe-445d-ac83-d2caa8d8bf31')\"\n",
              "              title=\"Convert this dataframe to an interactive table.\"\n",
              "              style=\"display:none;\">\n",
              "        \n",
              "  <svg xmlns=\"http://www.w3.org/2000/svg\" height=\"24px\"viewBox=\"0 0 24 24\"\n",
              "       width=\"24px\">\n",
              "    <path d=\"M0 0h24v24H0V0z\" fill=\"none\"/>\n",
              "    <path d=\"M18.56 5.44l.94 2.06.94-2.06 2.06-.94-2.06-.94-.94-2.06-.94 2.06-2.06.94zm-11 1L8.5 8.5l.94-2.06 2.06-.94-2.06-.94L8.5 2.5l-.94 2.06-2.06.94zm10 10l.94 2.06.94-2.06 2.06-.94-2.06-.94-.94-2.06-.94 2.06-2.06.94z\"/><path d=\"M17.41 7.96l-1.37-1.37c-.4-.4-.92-.59-1.43-.59-.52 0-1.04.2-1.43.59L10.3 9.45l-7.72 7.72c-.78.78-.78 2.05 0 2.83L4 21.41c.39.39.9.59 1.41.59.51 0 1.02-.2 1.41-.59l7.78-7.78 2.81-2.81c.8-.78.8-2.07 0-2.86zM5.41 20L4 18.59l7.72-7.72 1.47 1.35L5.41 20z\"/>\n",
              "  </svg>\n",
              "      </button>\n",
              "      \n",
              "  <style>\n",
              "    .colab-df-container {\n",
              "      display:flex;\n",
              "      flex-wrap:wrap;\n",
              "      gap: 12px;\n",
              "    }\n",
              "\n",
              "    .colab-df-convert {\n",
              "      background-color: #E8F0FE;\n",
              "      border: none;\n",
              "      border-radius: 50%;\n",
              "      cursor: pointer;\n",
              "      display: none;\n",
              "      fill: #1967D2;\n",
              "      height: 32px;\n",
              "      padding: 0 0 0 0;\n",
              "      width: 32px;\n",
              "    }\n",
              "\n",
              "    .colab-df-convert:hover {\n",
              "      background-color: #E2EBFA;\n",
              "      box-shadow: 0px 1px 2px rgba(60, 64, 67, 0.3), 0px 1px 3px 1px rgba(60, 64, 67, 0.15);\n",
              "      fill: #174EA6;\n",
              "    }\n",
              "\n",
              "    [theme=dark] .colab-df-convert {\n",
              "      background-color: #3B4455;\n",
              "      fill: #D2E3FC;\n",
              "    }\n",
              "\n",
              "    [theme=dark] .colab-df-convert:hover {\n",
              "      background-color: #434B5C;\n",
              "      box-shadow: 0px 1px 3px 1px rgba(0, 0, 0, 0.15);\n",
              "      filter: drop-shadow(0px 1px 2px rgba(0, 0, 0, 0.3));\n",
              "      fill: #FFFFFF;\n",
              "    }\n",
              "  </style>\n",
              "\n",
              "      <script>\n",
              "        const buttonEl =\n",
              "          document.querySelector('#df-f76c2c11-7cfe-445d-ac83-d2caa8d8bf31 button.colab-df-convert');\n",
              "        buttonEl.style.display =\n",
              "          google.colab.kernel.accessAllowed ? 'block' : 'none';\n",
              "\n",
              "        async function convertToInteractive(key) {\n",
              "          const element = document.querySelector('#df-f76c2c11-7cfe-445d-ac83-d2caa8d8bf31');\n",
              "          const dataTable =\n",
              "            await google.colab.kernel.invokeFunction('convertToInteractive',\n",
              "                                                     [key], {});\n",
              "          if (!dataTable) return;\n",
              "\n",
              "          const docLinkHtml = 'Like what you see? Visit the ' +\n",
              "            '<a target=\"_blank\" href=https://colab.research.google.com/notebooks/data_table.ipynb>data table notebook</a>'\n",
              "            + ' to learn more about interactive tables.';\n",
              "          element.innerHTML = '';\n",
              "          dataTable['output_type'] = 'display_data';\n",
              "          await google.colab.output.renderOutput(dataTable, element);\n",
              "          const docLink = document.createElement('div');\n",
              "          docLink.innerHTML = docLinkHtml;\n",
              "          element.appendChild(docLink);\n",
              "        }\n",
              "      </script>\n",
              "    </div>\n",
              "  </div>\n",
              "  "
            ]
          },
          "metadata": {},
          "execution_count": 49
        }
      ]
    },
    {
      "cell_type": "markdown",
      "metadata": {
        "id": "-1o3pm3QSk30"
      },
      "source": [
        "![](https://raw.githubusercontent.com/zacharski/datamining-guide/master/labs/pics/PyDivideTwo.png)\n",
        "## <font color='#EE4C2C'>3. Create the network/model--fit it to the data</font> \n",
        "You can design your network anyway you want. "
      ]
    },
    {
      "cell_type": "code",
      "source": [
        "model4 = Sequential()\n",
        "model4.add(Embedding(max_words, embedding_dim, input_length=maxlen))\n",
        "model4.add(layers.Conv1D(filters=64, kernel_size=2, activation='relu'))\n",
        "model4.add(layers.Conv1D(filters=16, kernel_size=2, activation='relu'))\n",
        "model4.add(layers.Conv1D(filters=4, kernel_size=2, activation='relu'))\n",
        "model4.add(layers.Dropout(0.5))\n",
        "model4.add(Flatten())\n",
        "model4.add(Dense(128, activation='relu'))\n",
        "model4.add(Dense(4, activation='softmax'))\n",
        "model4.summary()"
      ],
      "metadata": {
        "colab": {
          "base_uri": "https://localhost:8080/"
        },
        "id": "NXEeQr5NKpFv",
        "outputId": "cbc0cb07-3a15-4a9d-d39b-edcd8f37d67c"
      },
      "execution_count": 50,
      "outputs": [
        {
          "output_type": "stream",
          "name": "stdout",
          "text": [
            "Model: \"sequential_4\"\n",
            "_________________________________________________________________\n",
            " Layer (type)                Output Shape              Param #   \n",
            "=================================================================\n",
            " embedding_5 (Embedding)     (None, 100, 300)          6000000   \n",
            "                                                                 \n",
            " conv1d_2 (Conv1D)           (None, 99, 64)            38464     \n",
            "                                                                 \n",
            " conv1d_3 (Conv1D)           (None, 98, 16)            2064      \n",
            "                                                                 \n",
            " conv1d_4 (Conv1D)           (None, 97, 4)             132       \n",
            "                                                                 \n",
            " dropout_1 (Dropout)         (None, 97, 4)             0         \n",
            "                                                                 \n",
            " flatten_4 (Flatten)         (None, 388)               0         \n",
            "                                                                 \n",
            " dense_7 (Dense)             (None, 128)               49792     \n",
            "                                                                 \n",
            " dense_8 (Dense)             (None, 4)                 516       \n",
            "                                                                 \n",
            "=================================================================\n",
            "Total params: 6,090,968\n",
            "Trainable params: 6,090,968\n",
            "Non-trainable params: 0\n",
            "_________________________________________________________________\n"
          ]
        }
      ]
    },
    {
      "cell_type": "code",
      "execution_count": 51,
      "metadata": {
        "id": "xEvO_RvU0SUs"
      },
      "outputs": [],
      "source": [
        "# Set Weight and Trainability\n",
        "model4.layers[0].set_weights([embedding_matrix])\n",
        "model4.layers[0].trainable = False"
      ]
    },
    {
      "cell_type": "code",
      "source": [
        "# Compile and Fit\n",
        "model4.compile(optimizer='rmsprop',\n",
        "              loss='categorical_crossentropy',\n",
        "              metrics=['acc'])\n",
        "history = model4.fit(tr50, tr_labels,\n",
        "                    steps_per_epoch=100,\n",
        "                    epochs=30,\n",
        "                    batch_size=32,\n",
        "                     validation_split=0.2,\n",
        "      validation_steps=50)\n",
        "model4.save_weights('pre_trained_glove_model.h5')"
      ],
      "metadata": {
        "colab": {
          "base_uri": "https://localhost:8080/"
        },
        "id": "bHU4btqyKjsM",
        "outputId": "588cab2a-8cbf-4544-9655-b085d268ee43"
      },
      "execution_count": 52,
      "outputs": [
        {
          "output_type": "stream",
          "name": "stdout",
          "text": [
            "Epoch 1/30\n",
            "100/100 [==============================] - 3s 7ms/step - loss: 1.3596 - acc: 0.5222 - val_loss: 1.3370 - val_acc: 0.5288\n",
            "Epoch 2/30\n",
            "100/100 [==============================] - 1s 5ms/step - loss: 1.3169 - acc: 0.5303 - val_loss: 1.2984 - val_acc: 0.5288\n",
            "Epoch 3/30\n",
            "100/100 [==============================] - 1s 5ms/step - loss: 1.2841 - acc: 0.5244 - val_loss: 1.2663 - val_acc: 0.5288\n",
            "Epoch 4/30\n",
            "100/100 [==============================] - 1s 6ms/step - loss: 1.2567 - acc: 0.5216 - val_loss: 1.2407 - val_acc: 0.5288\n",
            "Epoch 5/30\n",
            "100/100 [==============================] - 1s 6ms/step - loss: 1.2347 - acc: 0.5250 - val_loss: 1.2218 - val_acc: 0.5288\n",
            "Epoch 6/30\n",
            "100/100 [==============================] - 1s 6ms/step - loss: 1.2299 - acc: 0.5113 - val_loss: 1.2093 - val_acc: 0.5288\n",
            "Epoch 7/30\n",
            "100/100 [==============================] - 1s 8ms/step - loss: 1.2169 - acc: 0.5159 - val_loss: 1.2004 - val_acc: 0.5288\n",
            "Epoch 8/30\n",
            "100/100 [==============================] - 1s 8ms/step - loss: 1.2139 - acc: 0.5122 - val_loss: 1.1948 - val_acc: 0.5288\n",
            "Epoch 9/30\n",
            "100/100 [==============================] - 1s 10ms/step - loss: 1.1867 - acc: 0.5330 - val_loss: 1.1899 - val_acc: 0.5288\n",
            "Epoch 10/30\n",
            "100/100 [==============================] - 1s 5ms/step - loss: 1.1977 - acc: 0.5228 - val_loss: 1.1878 - val_acc: 0.5288\n",
            "Epoch 11/30\n",
            "100/100 [==============================] - 1s 6ms/step - loss: 1.1960 - acc: 0.5209 - val_loss: 1.1864 - val_acc: 0.5288\n",
            "Epoch 12/30\n",
            "100/100 [==============================] - 1s 5ms/step - loss: 1.1912 - acc: 0.5266 - val_loss: 1.1855 - val_acc: 0.5288\n",
            "Epoch 13/30\n",
            "100/100 [==============================] - 1s 6ms/step - loss: 1.1840 - acc: 0.5294 - val_loss: 1.1848 - val_acc: 0.5288\n",
            "Epoch 14/30\n",
            "100/100 [==============================] - 1s 5ms/step - loss: 1.1955 - acc: 0.5228 - val_loss: 1.1846 - val_acc: 0.5288\n",
            "Epoch 15/30\n",
            "100/100 [==============================] - 1s 6ms/step - loss: 1.2031 - acc: 0.5131 - val_loss: 1.1845 - val_acc: 0.5288\n",
            "Epoch 16/30\n",
            "100/100 [==============================] - 1s 6ms/step - loss: 1.1775 - acc: 0.5347 - val_loss: 1.1842 - val_acc: 0.5288\n",
            "Epoch 17/30\n",
            "100/100 [==============================] - 1s 6ms/step - loss: 1.1949 - acc: 0.5181 - val_loss: 1.1841 - val_acc: 0.5288\n",
            "Epoch 18/30\n",
            "100/100 [==============================] - 1s 6ms/step - loss: 1.1958 - acc: 0.5202 - val_loss: 1.1841 - val_acc: 0.5288\n",
            "Epoch 19/30\n",
            "100/100 [==============================] - 1s 6ms/step - loss: 1.1992 - acc: 0.5197 - val_loss: 1.1841 - val_acc: 0.5288\n",
            "Epoch 20/30\n",
            "100/100 [==============================] - 1s 6ms/step - loss: 1.1902 - acc: 0.5259 - val_loss: 1.1840 - val_acc: 0.5288\n",
            "Epoch 21/30\n",
            "100/100 [==============================] - 1s 6ms/step - loss: 1.1769 - acc: 0.5303 - val_loss: 1.1838 - val_acc: 0.5288\n",
            "Epoch 22/30\n",
            "100/100 [==============================] - 1s 5ms/step - loss: 1.1903 - acc: 0.5269 - val_loss: 1.1838 - val_acc: 0.5288\n",
            "Epoch 23/30\n",
            "100/100 [==============================] - 1s 5ms/step - loss: 1.2065 - acc: 0.5128 - val_loss: 1.1839 - val_acc: 0.5288\n",
            "Epoch 24/30\n",
            "100/100 [==============================] - 1s 6ms/step - loss: 1.1899 - acc: 0.5144 - val_loss: 1.1839 - val_acc: 0.5288\n",
            "Epoch 25/30\n",
            "100/100 [==============================] - 1s 6ms/step - loss: 1.1950 - acc: 0.5194 - val_loss: 1.1840 - val_acc: 0.5288\n",
            "Epoch 26/30\n",
            "100/100 [==============================] - 1s 6ms/step - loss: 1.1876 - acc: 0.5316 - val_loss: 1.1838 - val_acc: 0.5288\n",
            "Epoch 27/30\n",
            "100/100 [==============================] - 1s 9ms/step - loss: 1.1828 - acc: 0.5340 - val_loss: 1.1839 - val_acc: 0.5288\n",
            "Epoch 28/30\n",
            "100/100 [==============================] - 1s 7ms/step - loss: 1.1689 - acc: 0.5441 - val_loss: 1.1839 - val_acc: 0.5288\n",
            "Epoch 29/30\n",
            "100/100 [==============================] - 1s 9ms/step - loss: 1.1862 - acc: 0.5259 - val_loss: 1.1839 - val_acc: 0.5288\n",
            "Epoch 30/30\n",
            "100/100 [==============================] - 1s 5ms/step - loss: 1.1751 - acc: 0.5375 - val_loss: 1.1838 - val_acc: 0.5288\n"
          ]
        }
      ]
    },
    {
      "cell_type": "markdown",
      "metadata": {
        "id": "nx73-VQGS45v"
      },
      "source": [
        "![](https://raw.githubusercontent.com/zacharski/datamining-guide/master/labs/pics/PyDivideTwo.png)\n",
        "## <font color='#EE4C2C'>4. Accuracy with the test data</font> \n",
        "How well did this do? Is it better than the accuracy on this dataset from our previous notebook?"
      ]
    },
    {
      "cell_type": "markdown",
      "metadata": {
        "id": "LXouPhBp0y9t"
      },
      "source": [
        "encode the text"
      ]
    },
    {
      "cell_type": "code",
      "execution_count": 53,
      "metadata": {
        "id": "H90SONxM01BU",
        "colab": {
          "base_uri": "https://localhost:8080/"
        },
        "outputId": "95d0017f-ebd3-4613-bf54-69663fa0e1ab"
      },
      "outputs": [
        {
          "output_type": "stream",
          "name": "stdout",
          "text": [
            "275/275 [==============================] - 1s 3ms/step - loss: 1.1990 - acc: 0.5136\n",
            "Accuracy 0.513597    Loss: 1.199041\n"
          ]
        }
      ],
      "source": [
        "# Accuracy and Loss Check\n",
        "test_lo, test_ac, = model4.evaluate(te50, te_labels)\n",
        "print(\"Accuracy %f    Loss: %f\" % (test_ac, test_lo))"
      ]
    },
    {
      "cell_type": "markdown",
      "metadata": {
        "id": "_dV_5H54TORs"
      },
      "source": [
        "![](https://raw.githubusercontent.com/zacharski/datamining-guide/master/labs/pics/PyDivideTwo.png)\n",
        "## <font color='#EE4C2C'>5. Better than 75% accuracy - bonus 10xp</font> \n",
        "Can you modify your network and training to get better results? For example, you can train for fewer or more epochs. You can add or subtract layers to the network."
      ]
    },
    {
      "cell_type": "markdown",
      "source": [
        "`-- Failed Attempt --`"
      ],
      "metadata": {
        "id": "IRLK--fVr-Ix"
      }
    },
    {
      "cell_type": "code",
      "execution_count": 58,
      "metadata": {
        "id": "ITvo0sfG1JGv",
        "colab": {
          "base_uri": "https://localhost:8080/"
        },
        "outputId": "833cdcb8-1739-4a3f-e930-33eeb4c242ee"
      },
      "outputs": [
        {
          "output_type": "stream",
          "name": "stdout",
          "text": [
            "Model: \"sequential_7\"\n",
            "_________________________________________________________________\n",
            " Layer (type)                Output Shape              Param #   \n",
            "=================================================================\n",
            " embedding_8 (Embedding)     (None, 100, 300)          6000000   \n",
            "                                                                 \n",
            " conv1d_9 (Conv1D)           (None, 97, 64)            76864     \n",
            "                                                                 \n",
            " conv1d_10 (Conv1D)          (None, 94, 64)            16448     \n",
            "                                                                 \n",
            " dropout_4 (Dropout)         (None, 94, 64)            0         \n",
            "                                                                 \n",
            " max_pooling1d_3 (MaxPooling  (None, 31, 64)           0         \n",
            " 1D)                                                             \n",
            "                                                                 \n",
            " flatten_7 (Flatten)         (None, 1984)              0         \n",
            "                                                                 \n",
            " dense_13 (Dense)            (None, 128)               254080    \n",
            "                                                                 \n",
            " dense_14 (Dense)            (None, 64)                8256      \n",
            "                                                                 \n",
            " dense_15 (Dense)            (None, 4)                 260       \n",
            "                                                                 \n",
            "=================================================================\n",
            "Total params: 6,355,908\n",
            "Trainable params: 6,355,908\n",
            "Non-trainable params: 0\n",
            "_________________________________________________________________\n"
          ]
        }
      ],
      "source": [
        "model5 = Sequential()\n",
        "model5.add(Embedding(max_words, embedding_dim, input_length=maxlen))\n",
        "model5.add(layers.Conv1D(filters=64, kernel_size=4, activation='relu'))\n",
        "model5.add(layers.Conv1D(filters=64, kernel_size=4, activation='relu'))\n",
        "model5.add(layers.Dropout(0.5))\n",
        "model5.add(layers.MaxPooling1D(pool_size=3))\n",
        "model5.add(Flatten())\n",
        "model5.add(Dense(128, activation='relu'))\n",
        "model5.add(Dense(64, activation='relu'))\n",
        "model5.add(Dense(4, activation='softmax'))\n",
        "model5.summary()"
      ]
    },
    {
      "cell_type": "code",
      "source": [
        "from keras import optimizers\n",
        "# Set Weight and Trainability\n",
        "model5.layers[0].set_weights([embedding_matrix])\n",
        "model5.layers[0].trainable = False\n",
        "\n",
        "# Compile and Fit\n",
        "model5.compile(optimizer=optimizers.RMSprop(learning_rate=1e-5),\n",
        "              loss='categorical_crossentropy',\n",
        "              metrics=['acc'])\n",
        "history = model5.fit(tr50, tr_labels,\n",
        "                    steps_per_epoch=200,\n",
        "                    epochs=30,\n",
        "                    batch_size=32,\n",
        "                     validation_split=0.2,\n",
        "      validation_steps=50)\n",
        "model5.save_weights('pre_trained_glove_model.h5')"
      ],
      "metadata": {
        "colab": {
          "base_uri": "https://localhost:8080/"
        },
        "id": "aiE-YKJDB85S",
        "outputId": "939cc0c9-ad1c-42cd-c6cb-61add2eef087"
      },
      "execution_count": 59,
      "outputs": [
        {
          "output_type": "stream",
          "name": "stdout",
          "text": [
            "Epoch 1/30\n",
            "200/200 [==============================] - 2s 8ms/step - loss: 1.3858 - acc: 0.5197 - val_loss: 1.3853 - val_acc: 0.5288\n",
            "Epoch 2/30\n",
            "200/200 [==============================] - 1s 7ms/step - loss: 1.3848 - acc: 0.5248 - val_loss: 1.3843 - val_acc: 0.5288\n",
            "Epoch 3/30\n",
            "200/200 [==============================] - 1s 5ms/step - loss: 1.3838 - acc: 0.5277 - val_loss: 1.3833 - val_acc: 0.5288\n",
            "Epoch 4/30\n",
            "200/200 [==============================] - 1s 5ms/step - loss: 1.3829 - acc: 0.5178 - val_loss: 1.3823 - val_acc: 0.5288\n",
            "Epoch 5/30\n",
            "200/200 [==============================] - 2s 8ms/step - loss: 1.3819 - acc: 0.5265 - val_loss: 1.3813 - val_acc: 0.5288\n",
            "Epoch 6/30\n",
            "200/200 [==============================] - 2s 9ms/step - loss: 1.3811 - acc: 0.5184 - val_loss: 1.3804 - val_acc: 0.5288\n",
            "Epoch 7/30\n",
            "200/200 [==============================] - 1s 5ms/step - loss: 1.3801 - acc: 0.5209 - val_loss: 1.3794 - val_acc: 0.5288\n",
            "Epoch 8/30\n",
            "200/200 [==============================] - 1s 5ms/step - loss: 1.3790 - acc: 0.5266 - val_loss: 1.3784 - val_acc: 0.5288\n",
            "Epoch 9/30\n",
            "200/200 [==============================] - 1s 5ms/step - loss: 1.3780 - acc: 0.5282 - val_loss: 1.3775 - val_acc: 0.5288\n",
            "Epoch 10/30\n",
            "200/200 [==============================] - 1s 5ms/step - loss: 1.3774 - acc: 0.5175 - val_loss: 1.3765 - val_acc: 0.5288\n",
            "Epoch 11/30\n",
            "200/200 [==============================] - 1s 6ms/step - loss: 1.3763 - acc: 0.5233 - val_loss: 1.3756 - val_acc: 0.5288\n",
            "Epoch 12/30\n",
            "200/200 [==============================] - 1s 7ms/step - loss: 1.3755 - acc: 0.5189 - val_loss: 1.3746 - val_acc: 0.5288\n",
            "Epoch 13/30\n",
            "200/200 [==============================] - 1s 5ms/step - loss: 1.3743 - acc: 0.5247 - val_loss: 1.3736 - val_acc: 0.5288\n",
            "Epoch 14/30\n",
            "200/200 [==============================] - 1s 5ms/step - loss: 1.3731 - acc: 0.5318 - val_loss: 1.3727 - val_acc: 0.5288\n",
            "Epoch 15/30\n",
            "200/200 [==============================] - 1s 5ms/step - loss: 1.3728 - acc: 0.5197 - val_loss: 1.3717 - val_acc: 0.5288\n",
            "Epoch 16/30\n",
            "200/200 [==============================] - 1s 5ms/step - loss: 1.3718 - acc: 0.5167 - val_loss: 1.3708 - val_acc: 0.5288\n",
            "Epoch 17/30\n",
            "200/200 [==============================] - 1s 5ms/step - loss: 1.3707 - acc: 0.5216 - val_loss: 1.3699 - val_acc: 0.5288\n",
            "Epoch 18/30\n",
            "200/200 [==============================] - 1s 5ms/step - loss: 1.3693 - acc: 0.5298 - val_loss: 1.3689 - val_acc: 0.5288\n",
            "Epoch 19/30\n",
            "200/200 [==============================] - 1s 5ms/step - loss: 1.3689 - acc: 0.5217 - val_loss: 1.3680 - val_acc: 0.5288\n",
            "Epoch 20/30\n",
            "200/200 [==============================] - 1s 5ms/step - loss: 1.3679 - acc: 0.5231 - val_loss: 1.3670 - val_acc: 0.5288\n",
            "Epoch 21/30\n",
            "200/200 [==============================] - 1s 5ms/step - loss: 1.3667 - acc: 0.5286 - val_loss: 1.3661 - val_acc: 0.5288\n",
            "Epoch 22/30\n",
            "200/200 [==============================] - 1s 5ms/step - loss: 1.3665 - acc: 0.5176 - val_loss: 1.3652 - val_acc: 0.5288\n",
            "Epoch 23/30\n",
            "200/200 [==============================] - 1s 7ms/step - loss: 1.3649 - acc: 0.5281 - val_loss: 1.3643 - val_acc: 0.5288\n",
            "Epoch 24/30\n",
            "200/200 [==============================] - 1s 6ms/step - loss: 1.3647 - acc: 0.5184 - val_loss: 1.3633 - val_acc: 0.5288\n",
            "Epoch 25/30\n",
            "200/200 [==============================] - 1s 5ms/step - loss: 1.3633 - acc: 0.5239 - val_loss: 1.3624 - val_acc: 0.5288\n",
            "Epoch 26/30\n",
            "200/200 [==============================] - 1s 5ms/step - loss: 1.3623 - acc: 0.5258 - val_loss: 1.3615 - val_acc: 0.5288\n",
            "Epoch 27/30\n",
            "200/200 [==============================] - 1s 5ms/step - loss: 1.3622 - acc: 0.5156 - val_loss: 1.3606 - val_acc: 0.5288\n",
            "Epoch 28/30\n",
            "200/200 [==============================] - 1s 5ms/step - loss: 1.3596 - acc: 0.5356 - val_loss: 1.3596 - val_acc: 0.5288\n",
            "Epoch 29/30\n",
            "200/200 [==============================] - 1s 5ms/step - loss: 1.3606 - acc: 0.5130 - val_loss: 1.3587 - val_acc: 0.5288\n",
            "Epoch 30/30\n",
            "200/200 [==============================] - 1s 5ms/step - loss: 1.3591 - acc: 0.5227 - val_loss: 1.3578 - val_acc: 0.5288\n"
          ]
        }
      ]
    },
    {
      "cell_type": "code",
      "source": [
        "# Accuracy and Loss Check\n",
        "test_lo, test_ac, = model5.evaluate(te50, te_labels)\n",
        "print(\"Accuracy %f    Loss: %f\" % (test_ac, test_lo))"
      ],
      "metadata": {
        "colab": {
          "base_uri": "https://localhost:8080/"
        },
        "id": "RxjKEdqPCQ0B",
        "outputId": "c6b7ce1f-b1f5-4f4b-ad33-1a330b717f52"
      },
      "execution_count": 60,
      "outputs": [
        {
          "output_type": "stream",
          "name": "stdout",
          "text": [
            "275/275 [==============================] - 1s 3ms/step - loss: 1.3592 - acc: 0.5136\n",
            "Accuracy 0.513597    Loss: 1.359242\n"
          ]
        }
      ]
    },
    {
      "cell_type": "markdown",
      "metadata": {
        "id": "GEkeaxnyi2K0"
      },
      "source": [
        "#### MIT License\n",
        "Copyright (c) 2017 François Chollet\n",
        "\n",
        "Permission is hereby granted, free of charge, to any person obtaining a copy of this software and associated documentation files (the \"Software\"), to deal in the Software without restriction, including without limitation the rights to use, copy, modify, merge, publish, distribute, sublicense, and/or sell copies of the Software, and to permit persons to whom the Software is furnished to do so, subject to the following conditions:\n",
        "\n",
        "The above copyright notice and this permission notice shall be included in all copies or substantial portions of the Software.\n",
        "\n",
        "THE SOFTWARE IS PROVIDED \"AS IS\", WITHOUT WARRANTY OF ANY KIND, EXPRESS OR IMPLIED, INCLUDING BUT NOT LIMITED TO THE WARRANTIES OF MERCHANTABILITY, FITNESS FOR A PARTICULAR PURPOSE AND NONINFRINGEMENT. IN NO EVENT SHALL THE AUTHORS OR COPYRIGHT HOLDERS BE LIABLE FOR ANY CLAIM, DAMAGES OR OTHER LIABILITY, WHETHER IN AN ACTION OF CONTRACT, TORT OR OTHERWISE, ARISING FROM, OUT OF OR IN CONNECTION WITH THE SOFTWARE OR THE USE OR OTHER DEALINGS IN THE SOFTWARE."
      ]
    }
  ],
  "metadata": {
    "accelerator": "GPU",
    "colab": {
      "provenance": []
    },
    "kernelspec": {
      "display_name": "Python 3 (ipykernel)",
      "language": "python",
      "name": "python3"
    },
    "language_info": {
      "codemirror_mode": {
        "name": "ipython",
        "version": 3
      },
      "file_extension": ".py",
      "mimetype": "text/x-python",
      "name": "python",
      "nbconvert_exporter": "python",
      "pygments_lexer": "ipython3",
      "version": "3.9.12"
    },
    "gpuClass": "standard"
  },
  "nbformat": 4,
  "nbformat_minor": 0
}