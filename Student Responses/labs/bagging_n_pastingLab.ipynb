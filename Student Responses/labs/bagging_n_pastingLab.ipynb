{
  "cells": [
    {
      "cell_type": "markdown",
      "metadata": {
        "id": "cZzv73_UWb6N"
      },
      "source": [
        "# Bagging and Pasting\n",
        "\n",
        "#### Part of the [Inquiryum Machine Learning Fundamentals Course](http://inquiryum.com/machine-learning/)\n",
        "\n",
        "![](https://raw.githubusercontent.com/zacharski/datamining-guide/master/labs/pics/divider.png)\n",
        "\n",
        "![](https://raw.githubusercontent.com/zacharski/ml-class/master/labs/pics/bagging..png)\n",
        "\n",
        "\n",
        "Now we are about to embark on our journey from simple decision trees to algorithms that use decision trees as components. The path goes like this:\n",
        "\n",
        "\n",
        "![](https://raw.githubusercontent.com/zacharski/ml-class/master/labs/pics/dbxg.png)\n",
        "\n",
        "The use of decision trees began in the 1980s and XGBoost was introduced in 2016. Throughout the next few notebooks we will explore this progression of algorithms.  \n",
        "\n",
        "### A collective of classifiers\n",
        "\n",
        "To gain an intuition on how this works, let's look at how our confidence might increase when more people tell us something. Whether it is multiple doctors giving us the same diagnosis or something as simple as ...\n",
        "\n",
        "#### The Mary Spender example\n",
        "\n",
        "Let's say one of your friends mentions over lunch that you would love a particular musical artist on YouTube, say Mary Spender, who you never heard before. \n",
        "\n",
        "![](https://raw.githubusercontent.com/zacharski/ml-class/master/labs/pics/MarySpender2.png)\n",
        "\n",
        "What is the chance that you will actually like Mary Spender's music? Maybe slighly better than chance? Let's say you think there is a 60% chance you will like her. You will file away the recommendation but you are not going to rush home and watch a YouTube video.  Now, in addition to the lunch friend's recommendation,  an old music school friend, now living in Austin messages you saying you should check out Mary Spender and the friend predicts you will absolutely love her. Then a week later, while talking with an old bandmate over the phone, that bandmate, again, recommends Mary Spender. Over the course of less than 10 days, three of your friends independently (because they don't know one another) recommend Mary Spender. Now what is the likelihood of you liking Mary Spender? I am guessing you think that now it is higher than 60%. Maybe now you think it is 90% likely you will like her. It is the aggregate of these 3 people's opinions (3 classifiers) that ups the accuracy of the prediction.\n",
        "\n",
        "![](https://raw.githubusercontent.com/zacharski/ml-class/master/labs/pics/spender22.png)\n",
        "\n",
        "\n",
        "This is similar to how bagging works. One aggregates the votes of a number of classifiers and the vote of that ensemble of classifiers is more accurate than that of a single classifier. Even if the accuracy of each component classifier is low (known as a weak classifier), the ensemble can be a strong (high accuracy) classifier. Of course there are some caveats. \n",
        "\n",
        "Back to the Mary Spender example. Suppose one of your friends went to a Mary Spender concert and then later in the week met with four other of your friends and mentioned that she thought you would love Mary Spender's music. Then, over the course of a week all those friends recommended Mary Spender to you. In this case the recommendations are not that independent---all are based on one person's opinion. Thus, the accuracy would not be as great as in the example above. Similarly, if you made 10 copies of the exact same classifier each trained on exactly the same data, the accuracy of the ensemble of clones would not be any better than the accuracy of a single copy. Moving away from Mary Spender and our musical tastes and back to machine learning, we can try to create independence among the classifier in 2 ways:\n",
        "\n",
        "1. We can change the type of classifier. For example, we can use a k-Nearest Neighbor Classifier with Manhattan distance and a k of 5, a k-Nearest Neighbor Classifier with Euclidean distance and a k of 3, a decision tree classifier using entropy and a max depth of 5, and a decision tree classifier with using gini and no max depth specified. Hopefully, the accuracy of the ensemble of the four classifiers would be greater than that of a single classifier.\n",
        "2. We can have an ensemble of the same classifier (for example, 10 decision tree classifiers with identical hyperparameters) but each classifier can get a different subset of the training data. The classifiers would thus build different models (differents 'rules') and, again, the accuracy of the ensemble should be greather than that of a single classifier. This is the approach we will take.\n",
        "\n",
        "### Bagging and Pasting\n",
        "\n",
        "\n",
        "In this Jupyter notebook, we are going to explore Bagging algorithms. Bagging algorithms come in a variety of 'flavors' including one called 'bagging' and one called 'pasting'.\n",
        "\n",
        "But first an experiment on the what *with replacement* means. As you will see shortly, that term is the crucial difference between bagging and pasting.\n",
        "\n",
        "### A small experiment\n",
        "NOTE: The following code is just used for illustration and is nothing we will be using for machine learning. \n",
        "\n",
        "Consider a list of 5 red balls and 5 blue balls:"
      ]
    },
    {
      "cell_type": "code",
      "execution_count": 1,
      "metadata": {
        "id": "xkhfXZatWb6S"
      },
      "outputs": [],
      "source": [
        "bag = ['red', 'red', 'red', 'red', 'red',\n",
        "       'blue', 'blue', 'blue', 'blue', 'blue']"
      ]
    },
    {
      "cell_type": "markdown",
      "metadata": {
        "id": "ugElXnm3Wb6T"
      },
      "source": [
        "Suppose we want to pick 7 random balls from this list. Python offers two functions that will give us random elements from a list.One is called `choices` which selects a sample with replacement, which means that once a ball is selected it is put back in the bag so it has the potential to be selected again. Let's give it a try, and just because things are random let's do this 100 times:"
      ]
    },
    {
      "cell_type": "code",
      "execution_count": 2,
      "metadata": {
        "id": "u6f_BpdyWb6T",
        "colab": {
          "base_uri": "https://localhost:8080/"
        },
        "outputId": "1f4f09f5-9263-44ce-de28-92d77d5268c7"
      },
      "outputs": [
        {
          "output_type": "stream",
          "name": "stdout",
          "text": [
            "6 blue and 1 red\n",
            "7 blue and 0 red\n",
            "6 blue and 1 red\n",
            "7 blue and 0 red\n",
            "7 blue and 0 red\n",
            "6 blue and 1 red\n",
            "Balls selected exceeded balls in bag: 6\n"
          ]
        }
      ],
      "source": [
        "import random\n",
        "total = 0\n",
        "for i in range(100):\n",
        "    set = random.choices(bag, k=7)\n",
        "    blue = set.count('blue')\n",
        "    red = set.count('red')\n",
        "    if blue > 5 or red > 5:\n",
        "        print(\"%i blue and %i red\" % (set.count('blue'), set.count('red')))\n",
        "        total +=1\n",
        "print(\"Balls selected exceeded balls in bag: %i\" % (total))"
      ]
    },
    {
      "cell_type": "markdown",
      "metadata": {
        "id": "IxWdBvoGWb6U"
      },
      "source": [
        "*A reminder: please don't mindlessly execute the code. Look at it and understand it*\n",
        "\n",
        "There are five blue balls. Since we are doing the selection with replacement there are times when we select more than 5 blue balls (or five red ones).  \n",
        "\n",
        "When we print\n",
        "\n",
        "```\n",
        "Balls selected exceeded balls in bag: 13\n",
        "```\n",
        "\n",
        "it shows how many times that was the case.\n",
        "\n",
        "\n",
        "When I ran this, 14 times out of 100 had more of one color ball than there were in the original bag. In fact, several times I ended up with all 7 of the balls blue, even though the original list had only 5 balls:\n",
        "\n",
        "```\n",
        "7 blue and 0 red\n",
        "6 blue and 1 red\n",
        "7 blue and 0 red\n",
        "1 blue and 6 red\n",
        "0 blue and 7 red\n",
        "1 blue and 6 red\n",
        "1 blue and 6 red\n",
        "6 blue and 1 red\n",
        "6 blue and 1 red\n",
        "1 blue and 6 red\n",
        "6 blue and 1 red\n",
        "1 blue and 6 red\n",
        "6 blue and 1 red\n",
        "6 blue and 1 red\n",
        "Balls selected exceeded balls in bag: 14\n",
        "```\n",
        "Again, this is called selecting with replacement (we put what we selected back in the set before selecting again). \n",
        "\n",
        "The other alternative is to select without replacement--once we select something we can't select it again. Python's `sample` does this:\n"
      ]
    },
    {
      "cell_type": "code",
      "execution_count": 3,
      "metadata": {
        "id": "wjTz87jbWb6U",
        "colab": {
          "base_uri": "https://localhost:8080/"
        },
        "outputId": "854b5a32-322a-4067-d133-9986bcb9997e"
      },
      "outputs": [
        {
          "output_type": "stream",
          "name": "stdout",
          "text": [
            "Balls selected exceeded balls in bag: 0\n"
          ]
        }
      ],
      "source": [
        "import random\n",
        "total = 0\n",
        "for i in range(1000):\n",
        "    set = random.sample(bag, k=7)\n",
        "    blue = set.count('blue')\n",
        "    red = set.count('red')\n",
        "    if blue > 5 or red > 5:\n",
        "        print(\"%i blue and %i red\" % (set.count('blue'), set.count('red')))\n",
        "        total +=1\n",
        "print(\"Balls selected exceeded balls in bag: %i\" % (total))"
      ]
    },
    {
      "cell_type": "markdown",
      "metadata": {
        "id": "N-RBRpyMWb6U"
      },
      "source": [
        "As you can see, the number of a specific colored ball that we select never exceeded the number of balls of that color in the original set.\n",
        "\n",
        "Now back to bagging and pasting. In both approaches we are going to sample the training data. Let's say we want 70% of the training data in our sample. In bagging ([Breiman, 1996](https://link.springer.com/content/pdf/10.1007/BF00058655.pdf)), if we our training dataset is 1000 instances and we want 70% for a particular classifier, the algorithm will randomly select 700 out of the 1,000 **with replacement**. With pasting ([Breiman, 1998](https://link.springer.com/article/10.1023/A:1007563306331)), the selection is done **without replacement**. \n",
        "\n",
        "#### but wait, there is more ...\n",
        "\n",
        "There are two other options. Instead of selecting a random subset of training data instances, we can select a random subset of columns (features). Let's say we have a dataset of 1,000 instances each with 100 features. When we select a random subset of columns, we still have 1,000 instances but now they have just a subset of the features. This is called Random Subspaces ([Ho, 1998](https://pdfs.semanticscholar.org/b41d/0fa5fdaadd47fc882d3db04277d03fb21832.pdf?_ga=2.196949164.1638238666.1596910000-1073138517.1596910000)).\n",
        "\n",
        "Finally, we can train a classifier on both random subsets of instances and random subsets of features. This is known as Random Patches ([Louppe and Geurts, 2012](https://www.researchgate.net/publication/262212941_Ensembles_on_Random_Patches))\n",
        "\n",
        "In summary, the four methods are:\n",
        "\n",
        "* **bagging** - select a subset of data set instances using replacement\n",
        "* **pasting** - select a subset of data set instances without replacement\n",
        "* **Random Subspaces** - select a subset of features\n",
        "* **Random Patches** - select both a subset of features and of instances\n",
        "\n",
        "Let's see how this works!\n",
        "\n",
        "First, let's grab the Wisconsin Cancer data we used before:\n",
        "\n",
        "#### Wisconsin Cancer Dataset\n",
        "![](https://raw.githubusercontent.com/zacharski/ml-class/master/labs/pics/aimam.png)\n",
        "image from Nvidia's [AI Improves Breast Cancer Diagnoses by Factoring Out False Positives](https://blogs.nvidia.com/blog/2018/02/01/making-mammography-more-meaningful/)\n",
        "\n",
        "[A description of the Cancer Database](#Breast-Cancer-Database)\n",
        "\n",
        "In this dataset we are trying to predict the diagnosis---either M (malignant) or B (benign).\n",
        "\n",
        "Let's load the dataset and split it into training and testing sets"
      ]
    },
    {
      "cell_type": "code",
      "execution_count": 4,
      "metadata": {
        "id": "WMWJytA6Wb6W",
        "colab": {
          "base_uri": "https://localhost:8080/",
          "height": 519
        },
        "outputId": "5fc56913-ca37-444c-c5a5-9d6435f011ce"
      },
      "outputs": [
        {
          "output_type": "execute_result",
          "data": {
            "text/plain": [
              "         diagnosis  radiusAvg  textureAvg  perimeterAvg  areaAvg  \\\n",
              "id                                                                 \n",
              "922577           B      10.32       16.35         65.31    324.9   \n",
              "925622           M      15.22       30.62        103.40    716.9   \n",
              "864018           B      11.34       21.26         72.48    396.5   \n",
              "9113156          B      14.40       26.99         92.25    646.1   \n",
              "871122           B      12.06       12.74         76.84    448.6   \n",
              "...            ...        ...         ...           ...      ...   \n",
              "8811842          M      19.80       21.56        129.70   1230.0   \n",
              "885429           M      19.73       19.82        130.70   1206.0   \n",
              "906539           B      11.57       19.04         74.20    409.7   \n",
              "89143601         B      11.37       18.89         72.17    396.0   \n",
              "911685           B      11.49       14.59         73.99    404.9   \n",
              "\n",
              "          smoothnessAvg  compactnessAvg  concavityAvg  concavityPointsAvg  \\\n",
              "id                                                                          \n",
              "922577          0.09434         0.04994       0.01012            0.005495   \n",
              "925622          0.10480         0.20870       0.25500            0.094290   \n",
              "864018          0.08759         0.06575       0.05133            0.018990   \n",
              "9113156         0.06995         0.05223       0.03476            0.017370   \n",
              "871122          0.09311         0.05241       0.01972            0.019630   \n",
              "...                 ...             ...           ...                 ...   \n",
              "8811842         0.09383         0.13060       0.12720            0.086910   \n",
              "885429          0.10620         0.18490       0.24170            0.097400   \n",
              "906539          0.08546         0.07722       0.05485            0.014280   \n",
              "89143601        0.08713         0.05008       0.02399            0.021730   \n",
              "911685          0.10460         0.08228       0.05308            0.019690   \n",
              "\n",
              "          symmetryAvg  ...  radiusWorst  textureWorst  perimeterWorst  \\\n",
              "id                     ...                                              \n",
              "922577         0.1885  ...        11.25         21.77           71.12   \n",
              "925622         0.2128  ...        17.52         42.79          128.70   \n",
              "864018         0.1487  ...        13.01         29.15           83.99   \n",
              "9113156        0.1707  ...        15.40         31.98          100.40   \n",
              "871122         0.1590  ...        13.14         18.41           84.08   \n",
              "...               ...  ...          ...           ...             ...   \n",
              "8811842        0.2094  ...        25.73         28.64          170.30   \n",
              "885429         0.1733  ...        25.28         25.59          159.80   \n",
              "906539         0.2031  ...        13.07         26.98           86.43   \n",
              "89143601       0.2013  ...        12.36         26.14           79.29   \n",
              "911685         0.1779  ...        12.40         21.90           82.04   \n",
              "\n",
              "          areaWorst  smoothnessWorst  compactnessWorst  concavityWorst  \\\n",
              "id                                                                       \n",
              "922577        384.9           0.1285           0.08842         0.04384   \n",
              "925622        915.0           0.1417           0.79170         1.17000   \n",
              "864018        518.1           0.1699           0.21960         0.31200   \n",
              "9113156       734.6           0.1017           0.14600         0.14720   \n",
              "871122        532.8           0.1275           0.12320         0.08636   \n",
              "...             ...              ...               ...             ...   \n",
              "8811842      2009.0           0.1353           0.32350         0.36170   \n",
              "885429       1933.0           0.1710           0.59550         0.84890   \n",
              "906539        520.5           0.1249           0.19370         0.25600   \n",
              "89143601      459.3           0.1118           0.09708         0.07529   \n",
              "911685        467.6           0.1352           0.20100         0.25960   \n",
              "\n",
              "          concavityPointsWorst  symmetryWorst>  FractalDimensionWorst  \n",
              "id                                                                     \n",
              "922577                 0.02381          0.2681                0.07399  \n",
              "925622                 0.23560          0.4089                0.14090  \n",
              "864018                 0.08278          0.2829                0.08832  \n",
              "9113156                0.05563          0.2345                0.06464  \n",
              "871122                 0.07025          0.2514                0.07898  \n",
              "...                        ...             ...                    ...  \n",
              "8811842                0.18200          0.3070                0.08255  \n",
              "885429                 0.25070          0.2749                0.12970  \n",
              "906539                 0.06664          0.3035                0.08284  \n",
              "89143601               0.06203          0.3267                0.06994  \n",
              "911685                 0.07431          0.2941                0.09180  \n",
              "\n",
              "[114 rows x 31 columns]"
            ],
            "text/html": [
              "\n",
              "  <div id=\"df-846afbf7-f407-451f-82d1-91d69cca06e2\">\n",
              "    <div class=\"colab-df-container\">\n",
              "      <div>\n",
              "<style scoped>\n",
              "    .dataframe tbody tr th:only-of-type {\n",
              "        vertical-align: middle;\n",
              "    }\n",
              "\n",
              "    .dataframe tbody tr th {\n",
              "        vertical-align: top;\n",
              "    }\n",
              "\n",
              "    .dataframe thead th {\n",
              "        text-align: right;\n",
              "    }\n",
              "</style>\n",
              "<table border=\"1\" class=\"dataframe\">\n",
              "  <thead>\n",
              "    <tr style=\"text-align: right;\">\n",
              "      <th></th>\n",
              "      <th>diagnosis</th>\n",
              "      <th>radiusAvg</th>\n",
              "      <th>textureAvg</th>\n",
              "      <th>perimeterAvg</th>\n",
              "      <th>areaAvg</th>\n",
              "      <th>smoothnessAvg</th>\n",
              "      <th>compactnessAvg</th>\n",
              "      <th>concavityAvg</th>\n",
              "      <th>concavityPointsAvg</th>\n",
              "      <th>symmetryAvg</th>\n",
              "      <th>...</th>\n",
              "      <th>radiusWorst</th>\n",
              "      <th>textureWorst</th>\n",
              "      <th>perimeterWorst</th>\n",
              "      <th>areaWorst</th>\n",
              "      <th>smoothnessWorst</th>\n",
              "      <th>compactnessWorst</th>\n",
              "      <th>concavityWorst</th>\n",
              "      <th>concavityPointsWorst</th>\n",
              "      <th>symmetryWorst&gt;</th>\n",
              "      <th>FractalDimensionWorst</th>\n",
              "    </tr>\n",
              "    <tr>\n",
              "      <th>id</th>\n",
              "      <th></th>\n",
              "      <th></th>\n",
              "      <th></th>\n",
              "      <th></th>\n",
              "      <th></th>\n",
              "      <th></th>\n",
              "      <th></th>\n",
              "      <th></th>\n",
              "      <th></th>\n",
              "      <th></th>\n",
              "      <th></th>\n",
              "      <th></th>\n",
              "      <th></th>\n",
              "      <th></th>\n",
              "      <th></th>\n",
              "      <th></th>\n",
              "      <th></th>\n",
              "      <th></th>\n",
              "      <th></th>\n",
              "      <th></th>\n",
              "      <th></th>\n",
              "    </tr>\n",
              "  </thead>\n",
              "  <tbody>\n",
              "    <tr>\n",
              "      <th>922577</th>\n",
              "      <td>B</td>\n",
              "      <td>10.32</td>\n",
              "      <td>16.35</td>\n",
              "      <td>65.31</td>\n",
              "      <td>324.9</td>\n",
              "      <td>0.09434</td>\n",
              "      <td>0.04994</td>\n",
              "      <td>0.01012</td>\n",
              "      <td>0.005495</td>\n",
              "      <td>0.1885</td>\n",
              "      <td>...</td>\n",
              "      <td>11.25</td>\n",
              "      <td>21.77</td>\n",
              "      <td>71.12</td>\n",
              "      <td>384.9</td>\n",
              "      <td>0.1285</td>\n",
              "      <td>0.08842</td>\n",
              "      <td>0.04384</td>\n",
              "      <td>0.02381</td>\n",
              "      <td>0.2681</td>\n",
              "      <td>0.07399</td>\n",
              "    </tr>\n",
              "    <tr>\n",
              "      <th>925622</th>\n",
              "      <td>M</td>\n",
              "      <td>15.22</td>\n",
              "      <td>30.62</td>\n",
              "      <td>103.40</td>\n",
              "      <td>716.9</td>\n",
              "      <td>0.10480</td>\n",
              "      <td>0.20870</td>\n",
              "      <td>0.25500</td>\n",
              "      <td>0.094290</td>\n",
              "      <td>0.2128</td>\n",
              "      <td>...</td>\n",
              "      <td>17.52</td>\n",
              "      <td>42.79</td>\n",
              "      <td>128.70</td>\n",
              "      <td>915.0</td>\n",
              "      <td>0.1417</td>\n",
              "      <td>0.79170</td>\n",
              "      <td>1.17000</td>\n",
              "      <td>0.23560</td>\n",
              "      <td>0.4089</td>\n",
              "      <td>0.14090</td>\n",
              "    </tr>\n",
              "    <tr>\n",
              "      <th>864018</th>\n",
              "      <td>B</td>\n",
              "      <td>11.34</td>\n",
              "      <td>21.26</td>\n",
              "      <td>72.48</td>\n",
              "      <td>396.5</td>\n",
              "      <td>0.08759</td>\n",
              "      <td>0.06575</td>\n",
              "      <td>0.05133</td>\n",
              "      <td>0.018990</td>\n",
              "      <td>0.1487</td>\n",
              "      <td>...</td>\n",
              "      <td>13.01</td>\n",
              "      <td>29.15</td>\n",
              "      <td>83.99</td>\n",
              "      <td>518.1</td>\n",
              "      <td>0.1699</td>\n",
              "      <td>0.21960</td>\n",
              "      <td>0.31200</td>\n",
              "      <td>0.08278</td>\n",
              "      <td>0.2829</td>\n",
              "      <td>0.08832</td>\n",
              "    </tr>\n",
              "    <tr>\n",
              "      <th>9113156</th>\n",
              "      <td>B</td>\n",
              "      <td>14.40</td>\n",
              "      <td>26.99</td>\n",
              "      <td>92.25</td>\n",
              "      <td>646.1</td>\n",
              "      <td>0.06995</td>\n",
              "      <td>0.05223</td>\n",
              "      <td>0.03476</td>\n",
              "      <td>0.017370</td>\n",
              "      <td>0.1707</td>\n",
              "      <td>...</td>\n",
              "      <td>15.40</td>\n",
              "      <td>31.98</td>\n",
              "      <td>100.40</td>\n",
              "      <td>734.6</td>\n",
              "      <td>0.1017</td>\n",
              "      <td>0.14600</td>\n",
              "      <td>0.14720</td>\n",
              "      <td>0.05563</td>\n",
              "      <td>0.2345</td>\n",
              "      <td>0.06464</td>\n",
              "    </tr>\n",
              "    <tr>\n",
              "      <th>871122</th>\n",
              "      <td>B</td>\n",
              "      <td>12.06</td>\n",
              "      <td>12.74</td>\n",
              "      <td>76.84</td>\n",
              "      <td>448.6</td>\n",
              "      <td>0.09311</td>\n",
              "      <td>0.05241</td>\n",
              "      <td>0.01972</td>\n",
              "      <td>0.019630</td>\n",
              "      <td>0.1590</td>\n",
              "      <td>...</td>\n",
              "      <td>13.14</td>\n",
              "      <td>18.41</td>\n",
              "      <td>84.08</td>\n",
              "      <td>532.8</td>\n",
              "      <td>0.1275</td>\n",
              "      <td>0.12320</td>\n",
              "      <td>0.08636</td>\n",
              "      <td>0.07025</td>\n",
              "      <td>0.2514</td>\n",
              "      <td>0.07898</td>\n",
              "    </tr>\n",
              "    <tr>\n",
              "      <th>...</th>\n",
              "      <td>...</td>\n",
              "      <td>...</td>\n",
              "      <td>...</td>\n",
              "      <td>...</td>\n",
              "      <td>...</td>\n",
              "      <td>...</td>\n",
              "      <td>...</td>\n",
              "      <td>...</td>\n",
              "      <td>...</td>\n",
              "      <td>...</td>\n",
              "      <td>...</td>\n",
              "      <td>...</td>\n",
              "      <td>...</td>\n",
              "      <td>...</td>\n",
              "      <td>...</td>\n",
              "      <td>...</td>\n",
              "      <td>...</td>\n",
              "      <td>...</td>\n",
              "      <td>...</td>\n",
              "      <td>...</td>\n",
              "      <td>...</td>\n",
              "    </tr>\n",
              "    <tr>\n",
              "      <th>8811842</th>\n",
              "      <td>M</td>\n",
              "      <td>19.80</td>\n",
              "      <td>21.56</td>\n",
              "      <td>129.70</td>\n",
              "      <td>1230.0</td>\n",
              "      <td>0.09383</td>\n",
              "      <td>0.13060</td>\n",
              "      <td>0.12720</td>\n",
              "      <td>0.086910</td>\n",
              "      <td>0.2094</td>\n",
              "      <td>...</td>\n",
              "      <td>25.73</td>\n",
              "      <td>28.64</td>\n",
              "      <td>170.30</td>\n",
              "      <td>2009.0</td>\n",
              "      <td>0.1353</td>\n",
              "      <td>0.32350</td>\n",
              "      <td>0.36170</td>\n",
              "      <td>0.18200</td>\n",
              "      <td>0.3070</td>\n",
              "      <td>0.08255</td>\n",
              "    </tr>\n",
              "    <tr>\n",
              "      <th>885429</th>\n",
              "      <td>M</td>\n",
              "      <td>19.73</td>\n",
              "      <td>19.82</td>\n",
              "      <td>130.70</td>\n",
              "      <td>1206.0</td>\n",
              "      <td>0.10620</td>\n",
              "      <td>0.18490</td>\n",
              "      <td>0.24170</td>\n",
              "      <td>0.097400</td>\n",
              "      <td>0.1733</td>\n",
              "      <td>...</td>\n",
              "      <td>25.28</td>\n",
              "      <td>25.59</td>\n",
              "      <td>159.80</td>\n",
              "      <td>1933.0</td>\n",
              "      <td>0.1710</td>\n",
              "      <td>0.59550</td>\n",
              "      <td>0.84890</td>\n",
              "      <td>0.25070</td>\n",
              "      <td>0.2749</td>\n",
              "      <td>0.12970</td>\n",
              "    </tr>\n",
              "    <tr>\n",
              "      <th>906539</th>\n",
              "      <td>B</td>\n",
              "      <td>11.57</td>\n",
              "      <td>19.04</td>\n",
              "      <td>74.20</td>\n",
              "      <td>409.7</td>\n",
              "      <td>0.08546</td>\n",
              "      <td>0.07722</td>\n",
              "      <td>0.05485</td>\n",
              "      <td>0.014280</td>\n",
              "      <td>0.2031</td>\n",
              "      <td>...</td>\n",
              "      <td>13.07</td>\n",
              "      <td>26.98</td>\n",
              "      <td>86.43</td>\n",
              "      <td>520.5</td>\n",
              "      <td>0.1249</td>\n",
              "      <td>0.19370</td>\n",
              "      <td>0.25600</td>\n",
              "      <td>0.06664</td>\n",
              "      <td>0.3035</td>\n",
              "      <td>0.08284</td>\n",
              "    </tr>\n",
              "    <tr>\n",
              "      <th>89143601</th>\n",
              "      <td>B</td>\n",
              "      <td>11.37</td>\n",
              "      <td>18.89</td>\n",
              "      <td>72.17</td>\n",
              "      <td>396.0</td>\n",
              "      <td>0.08713</td>\n",
              "      <td>0.05008</td>\n",
              "      <td>0.02399</td>\n",
              "      <td>0.021730</td>\n",
              "      <td>0.2013</td>\n",
              "      <td>...</td>\n",
              "      <td>12.36</td>\n",
              "      <td>26.14</td>\n",
              "      <td>79.29</td>\n",
              "      <td>459.3</td>\n",
              "      <td>0.1118</td>\n",
              "      <td>0.09708</td>\n",
              "      <td>0.07529</td>\n",
              "      <td>0.06203</td>\n",
              "      <td>0.3267</td>\n",
              "      <td>0.06994</td>\n",
              "    </tr>\n",
              "    <tr>\n",
              "      <th>911685</th>\n",
              "      <td>B</td>\n",
              "      <td>11.49</td>\n",
              "      <td>14.59</td>\n",
              "      <td>73.99</td>\n",
              "      <td>404.9</td>\n",
              "      <td>0.10460</td>\n",
              "      <td>0.08228</td>\n",
              "      <td>0.05308</td>\n",
              "      <td>0.019690</td>\n",
              "      <td>0.1779</td>\n",
              "      <td>...</td>\n",
              "      <td>12.40</td>\n",
              "      <td>21.90</td>\n",
              "      <td>82.04</td>\n",
              "      <td>467.6</td>\n",
              "      <td>0.1352</td>\n",
              "      <td>0.20100</td>\n",
              "      <td>0.25960</td>\n",
              "      <td>0.07431</td>\n",
              "      <td>0.2941</td>\n",
              "      <td>0.09180</td>\n",
              "    </tr>\n",
              "  </tbody>\n",
              "</table>\n",
              "<p>114 rows × 31 columns</p>\n",
              "</div>\n",
              "      <button class=\"colab-df-convert\" onclick=\"convertToInteractive('df-846afbf7-f407-451f-82d1-91d69cca06e2')\"\n",
              "              title=\"Convert this dataframe to an interactive table.\"\n",
              "              style=\"display:none;\">\n",
              "        \n",
              "  <svg xmlns=\"http://www.w3.org/2000/svg\" height=\"24px\"viewBox=\"0 0 24 24\"\n",
              "       width=\"24px\">\n",
              "    <path d=\"M0 0h24v24H0V0z\" fill=\"none\"/>\n",
              "    <path d=\"M18.56 5.44l.94 2.06.94-2.06 2.06-.94-2.06-.94-.94-2.06-.94 2.06-2.06.94zm-11 1L8.5 8.5l.94-2.06 2.06-.94-2.06-.94L8.5 2.5l-.94 2.06-2.06.94zm10 10l.94 2.06.94-2.06 2.06-.94-2.06-.94-.94-2.06-.94 2.06-2.06.94z\"/><path d=\"M17.41 7.96l-1.37-1.37c-.4-.4-.92-.59-1.43-.59-.52 0-1.04.2-1.43.59L10.3 9.45l-7.72 7.72c-.78.78-.78 2.05 0 2.83L4 21.41c.39.39.9.59 1.41.59.51 0 1.02-.2 1.41-.59l7.78-7.78 2.81-2.81c.8-.78.8-2.07 0-2.86zM5.41 20L4 18.59l7.72-7.72 1.47 1.35L5.41 20z\"/>\n",
              "  </svg>\n",
              "      </button>\n",
              "      \n",
              "  <style>\n",
              "    .colab-df-container {\n",
              "      display:flex;\n",
              "      flex-wrap:wrap;\n",
              "      gap: 12px;\n",
              "    }\n",
              "\n",
              "    .colab-df-convert {\n",
              "      background-color: #E8F0FE;\n",
              "      border: none;\n",
              "      border-radius: 50%;\n",
              "      cursor: pointer;\n",
              "      display: none;\n",
              "      fill: #1967D2;\n",
              "      height: 32px;\n",
              "      padding: 0 0 0 0;\n",
              "      width: 32px;\n",
              "    }\n",
              "\n",
              "    .colab-df-convert:hover {\n",
              "      background-color: #E2EBFA;\n",
              "      box-shadow: 0px 1px 2px rgba(60, 64, 67, 0.3), 0px 1px 3px 1px rgba(60, 64, 67, 0.15);\n",
              "      fill: #174EA6;\n",
              "    }\n",
              "\n",
              "    [theme=dark] .colab-df-convert {\n",
              "      background-color: #3B4455;\n",
              "      fill: #D2E3FC;\n",
              "    }\n",
              "\n",
              "    [theme=dark] .colab-df-convert:hover {\n",
              "      background-color: #434B5C;\n",
              "      box-shadow: 0px 1px 3px 1px rgba(0, 0, 0, 0.15);\n",
              "      filter: drop-shadow(0px 1px 2px rgba(0, 0, 0, 0.3));\n",
              "      fill: #FFFFFF;\n",
              "    }\n",
              "  </style>\n",
              "\n",
              "      <script>\n",
              "        const buttonEl =\n",
              "          document.querySelector('#df-846afbf7-f407-451f-82d1-91d69cca06e2 button.colab-df-convert');\n",
              "        buttonEl.style.display =\n",
              "          google.colab.kernel.accessAllowed ? 'block' : 'none';\n",
              "\n",
              "        async function convertToInteractive(key) {\n",
              "          const element = document.querySelector('#df-846afbf7-f407-451f-82d1-91d69cca06e2');\n",
              "          const dataTable =\n",
              "            await google.colab.kernel.invokeFunction('convertToInteractive',\n",
              "                                                     [key], {});\n",
              "          if (!dataTable) return;\n",
              "\n",
              "          const docLinkHtml = 'Like what you see? Visit the ' +\n",
              "            '<a target=\"_blank\" href=https://colab.research.google.com/notebooks/data_table.ipynb>data table notebook</a>'\n",
              "            + ' to learn more about interactive tables.';\n",
              "          element.innerHTML = '';\n",
              "          dataTable['output_type'] = 'display_data';\n",
              "          await google.colab.output.renderOutput(dataTable, element);\n",
              "          const docLink = document.createElement('div');\n",
              "          docLink.innerHTML = docLinkHtml;\n",
              "          element.appendChild(docLink);\n",
              "        }\n",
              "      </script>\n",
              "    </div>\n",
              "  </div>\n",
              "  "
            ]
          },
          "metadata": {},
          "execution_count": 4
        }
      ],
      "source": [
        "import pandas as pd\n",
        "from sklearn.model_selection import train_test_split\n",
        "from sklearn.metrics import accuracy_score\n",
        "\n",
        "colNames = ['id', 'diagnosis', 'radiusAvg', 'textureAvg', 'perimeterAvg', 'areaAvg',\n",
        "            'smoothnessAvg', 'compactnessAvg', 'concavityAvg', 'concavityPointsAvg',\n",
        "            'symmetryAvg', 'FractalDimensionAvg', 'radiusSE', 'textureSE', 'perimeterSE',\n",
        "            'areaSE','smoothnessSE', 'compactnessSE', 'concavitySE', 'concavityPointsSE',\n",
        "            'symmetrySE', 'FractalDimensionSE', 'radiusWorst', 'textureWorst', 'perimeterWorst',\n",
        "            'areaWorst', 'smoothnessWorst', 'compactnessWorst', 'concavityWorst', 'concavityPointsWorst',\n",
        "            'symmetryWorst>', 'FractalDimensionWorst']\n",
        "len(colNames)\n",
        "\n",
        "data = pd.read_csv('https://raw.githubusercontent.com/zacharski/ml-class/master/data/wdbc.data', names=colNames)\n",
        "data.set_index('id', inplace=True)\n",
        "\n",
        "trainingdata, testdata = train_test_split(data, test_size = 0.2)\n",
        "testdata"
      ]
    },
    {
      "cell_type": "markdown",
      "metadata": {
        "id": "TEQMMnQEWb6b"
      },
      "source": [
        "Now divide up the data into the features and labels"
      ]
    },
    {
      "cell_type": "code",
      "execution_count": 5,
      "metadata": {
        "id": "BUFu_lp1Wb6b"
      },
      "outputs": [],
      "source": [
        "colNames.remove('id')\n",
        "colNames.remove('diagnosis')\n",
        "trainingDataFeatures = trainingdata[colNames]\n",
        "testDataFeatures = testdata[colNames]\n",
        "trainingDataLabels = trainingdata['diagnosis']\n",
        "testDataLabels = testdata['diagnosis']"
      ]
    },
    {
      "cell_type": "markdown",
      "metadata": {
        "id": "9jwhHLytWb6c"
      },
      "source": [
        "Let's get a base accuracy using a single decision tree classifier:"
      ]
    },
    {
      "cell_type": "code",
      "execution_count": 6,
      "metadata": {
        "id": "0451MpM0Wb6d",
        "colab": {
          "base_uri": "https://localhost:8080/"
        },
        "outputId": "6e0f3559-3685-46cc-8048-7de2918ebe12"
      },
      "outputs": [
        {
          "output_type": "execute_result",
          "data": {
            "text/plain": [
              "0.9210526315789473"
            ]
          },
          "metadata": {},
          "execution_count": 6
        }
      ],
      "source": [
        "from sklearn import tree\n",
        "clf = tree.DecisionTreeClassifier(criterion='entropy')\n",
        "clf.fit(trainingDataFeatures, trainingDataLabels)\n",
        "predictions = clf.predict(testDataFeatures)\n",
        "\n",
        "accuracy_score(testDataLabels, predictions)"
      ]
    },
    {
      "cell_type": "markdown",
      "metadata": {
        "id": "asjigQIyWb6d"
      },
      "source": [
        "Now we will see if we can improve on that accuracy.\n",
        "\n",
        "### Building a bagging classifier\n",
        "\n",
        "Let's build a collective of 20 decision tree classifiers (`n_estimators`). Let's train each one with 100 random samples from our dataset (`max_samples`) with replacement (`bootstrap=True`). `n_jobs` means how many jobs to run in parallel. `n_jobs=-1` means use all available CPU cores.   \n",
        "\n",
        "Just to reinforce the vocabulary we are learning, `n_estimators`, `max_samples`, `bootstrap` are among the **hyperparameters** of the bagging classifier."
      ]
    },
    {
      "cell_type": "code",
      "execution_count": 7,
      "metadata": {
        "id": "tL_K6UxpWb6d",
        "colab": {
          "base_uri": "https://localhost:8080/"
        },
        "outputId": "8f1609fb-625d-44bd-bb08-de57b4a2284b"
      },
      "outputs": [
        {
          "output_type": "execute_result",
          "data": {
            "text/plain": [
              "0.9385964912280702"
            ]
          },
          "metadata": {},
          "execution_count": 7
        }
      ],
      "source": [
        "from sklearn.ensemble import BaggingClassifier\n",
        "clf = tree.DecisionTreeClassifier(criterion='entropy')\n",
        "\n",
        "bagging_clf = BaggingClassifier(clf, n_estimators=20, max_samples=100, \n",
        "                                bootstrap=True, n_jobs=-1)\n",
        "bagging_clf.fit(trainingDataFeatures, trainingDataLabels)\n",
        "predictions = bagging_clf.predict(testDataFeatures)\n",
        "accuracy_score(testDataLabels, predictions)"
      ]
    },
    {
      "cell_type": "markdown",
      "metadata": {
        "id": "E1XYY6-2Wb6d"
      },
      "source": [
        "When I did this using a single decision tree classifier was 90.3% accurate, while the bagging classifier was 96.5% accurate--halving the error rate! that's pretty good!\n",
        "\n",
        "\n",
        "### Pasting\n",
        "Let's try the same thing with pasting (without replacement):\n",
        "\n",
        "For that we set the hyperparameter: `bootstrap=False`\n"
      ]
    },
    {
      "cell_type": "code",
      "execution_count": 8,
      "metadata": {
        "id": "YIwO0j1xWb6e",
        "colab": {
          "base_uri": "https://localhost:8080/"
        },
        "outputId": "782f392c-c205-4c5d-c277-57f40e15508e"
      },
      "outputs": [
        {
          "output_type": "execute_result",
          "data": {
            "text/plain": [
              "0.9649122807017544"
            ]
          },
          "metadata": {},
          "execution_count": 8
        }
      ],
      "source": [
        "pasting_clf = BaggingClassifier(clf, n_estimators=20, max_samples=100, \n",
        "                                bootstrap=False, n_jobs=-1)\n",
        "pasting_clf.fit(trainingDataFeatures, trainingDataLabels)\n",
        "predictions = pasting_clf.predict(testDataFeatures)\n",
        "accuracy_score(testDataLabels, predictions)"
      ]
    },
    {
      "cell_type": "markdown",
      "metadata": {
        "id": "EcCz_Gu_Wb6f"
      },
      "source": [
        "### Random Subspaces\n",
        "Again, random subspaces are when we randomly select feature subsets rather than subsets of the dataset instances. This time we will create 50 classifiers for our collective and each will train on a dataset with 7 features (`max_feature=7`)."
      ]
    },
    {
      "cell_type": "code",
      "execution_count": 9,
      "metadata": {
        "id": "iCf10iICWb6f",
        "colab": {
          "base_uri": "https://localhost:8080/"
        },
        "outputId": "24252eff-ae29-4a55-c603-fd9613fc85fd"
      },
      "outputs": [
        {
          "output_type": "execute_result",
          "data": {
            "text/plain": [
              "0.9473684210526315"
            ]
          },
          "metadata": {},
          "execution_count": 9
        }
      ],
      "source": [
        "subspace_clf = BaggingClassifier(clf, n_estimators=50, max_features=7, \n",
        "                                bootstrap=True, n_jobs=-1)\n",
        "subspace_clf.fit(trainingDataFeatures, trainingDataLabels)\n",
        "predictions = subspace_clf.predict(testDataFeatures)\n",
        "accuracy_score(testDataLabels, predictions)"
      ]
    },
    {
      "cell_type": "markdown",
      "metadata": {
        "id": "_-9qdIG-Wb6f"
      },
      "source": [
        "### Random Patches\n",
        "Finally, let's combine things and try random patches. In this example each classifier will be given a subset of 100 training instances with 7 features each.:"
      ]
    },
    {
      "cell_type": "code",
      "execution_count": 10,
      "metadata": {
        "id": "JCjPbM08Wb6g",
        "colab": {
          "base_uri": "https://localhost:8080/"
        },
        "outputId": "83184df2-a07e-4e70-baee-1f4f2432169b"
      },
      "outputs": [
        {
          "output_type": "execute_result",
          "data": {
            "text/plain": [
              "0.9473684210526315"
            ]
          },
          "metadata": {},
          "execution_count": 10
        }
      ],
      "source": [
        "subspace_clf = BaggingClassifier(clf, n_estimators=100, max_features=7, \n",
        "                                 max_samples=100, bootstrap=False, n_jobs=-1)\n",
        "subspace_clf.fit(trainingDataFeatures, trainingDataLabels)\n",
        "predictions = subspace_clf.predict(testDataFeatures)\n",
        "accuracy_score(testDataLabels, predictions)"
      ]
    },
    {
      "cell_type": "markdown",
      "metadata": {
        "id": "8bD3S8xDWb6g"
      },
      "source": [
        "While it is common to use a decision tree as the base classifier, we can use any classifier. Here we use kNN:"
      ]
    },
    {
      "cell_type": "code",
      "execution_count": 11,
      "metadata": {
        "id": "kuTZAjpIWb6g",
        "colab": {
          "base_uri": "https://localhost:8080/"
        },
        "outputId": "32a66b73-e239-479f-9953-293870835296"
      },
      "outputs": [
        {
          "output_type": "execute_result",
          "data": {
            "text/plain": [
              "0.8947368421052632"
            ]
          },
          "metadata": {},
          "execution_count": 11
        }
      ],
      "source": [
        "from sklearn.neighbors import KNeighborsClassifier\n",
        "kNN = KNeighborsClassifier()\n",
        "bagging_clf = BaggingClassifier(kNN, n_estimators=20, max_samples=100, \n",
        "                                bootstrap=True, n_jobs=-1)\n",
        "bagging_clf.fit(trainingDataFeatures, trainingDataLabels)\n",
        "predictions = bagging_clf.predict(testDataFeatures)\n",
        "accuracy_score(testDataLabels, predictions)"
      ]
    },
    {
      "cell_type": "markdown",
      "metadata": {
        "id": "4_av0jdqWb6g"
      },
      "source": [
        "#### Summary\n",
        "As you can see, any of these simple bagging algorithms typically outperforms using a single classifier. \n",
        "\n",
        "\n",
        "### Review\n",
        "\n",
        "We import the bagging classifier library with:\n",
        "\n",
        "```\n",
        "from sklearn.ensemble import BaggingClassifier\n",
        "```\n",
        "\n",
        "and create an instance of one with:\n",
        "\n",
        "```\n",
        "my_bagging_classifier = BaggingClassifier(baseClassifier, Hyperparameters,n_jobs=-1)\n",
        "```\n",
        "\n",
        "#### Base Classifier\n",
        "while any classifier can be used we typically use a decision tree\n",
        "\n",
        "#### Hyperparameters\n",
        "Here is a list of the hyperparameters (from the [sklearn documentation](https://scikit-learn.org/stable/modules/generated/sklearn.ensemble.BaggingClassifier.html#sklearn.ensemble.BaggingClassifier)):\n",
        "\n",
        "* `n_estimators`: integer, default value = 10, the number of classifiers (estimators) in the ensemble.\n",
        "* `max_samples`: integer or float, default value = 1.0(meaning use all the training instances), the number of samples (instances) to draw from the training dataset to train each base classifier.\n",
        "    * if integer, then draw max_features features.\n",
        "    * if float, then draw max_samples * X.shape[0] samples. For example if `max_samples` is 0.7 and there are 100 instances in the training dataset then draw 70 samples.\n",
        "* `max_features`, integer or float, default value =1.0,  \n",
        "the number of features to draw from the training dataset to train each base estimator \n",
        "    * if integers, then draw max_features features.\n",
        "    * if float, then draw max_features * X.shape[1] features.\n",
        "* `bootstrap` boolean, default value =True, whether samples and features are drawn with replacement. If False, sampling without replacement is performed.\n",
        "\n",
        "For other hyperparamters, consult the documentation.\n",
        "\n",
        "\n",
        "![](https://raw.githubusercontent.com/zacharski/datamining-guide/master/labs/pics/torchdivide.png)\n",
        "\n",
        "\n",
        "# <font color='#EE4C2C'>You Try ...</font> \n",
        "## <font color='#EE4C2C'>Predicting musical genres from audio file attributes</font> \n",
        "\n",
        "\n",
        "When you listen even to a few seconds of a song you can identify it as blues, country, classical, or any other genre. How do you do this? What attributes are you hearing in the audio file that helps you make this classification? And, more to the point, can we train a computer to do it?\n",
        "\n",
        "![](https://raw.githubusercontent.com/zacharski/ml-class/master/labs/pics/bluesClassical.png)\n",
        "\n",
        "We are going to be using  the [GTZAN Dataset for Music Genre Classification](https://www.kaggle.com/andradaolteanu/gtzan-dataset-music-genre-classification). It provides data of 100 songs for each of 10 genres. The data is in several formats:\n",
        "\n",
        "* 30 second audio files (wav)\n",
        "* spectral images of those 30 second clips (see image above)\n",
        "* a csv file containing acoustic attributes of the 30 second clip\n",
        "* a csv file containing acoustic attributes of 3 second clips (the 30 second clips were split into 3 second ones)\n",
        "\n",
        "We are going to use the 3 second csv file which is available at \n",
        "\n",
        "https://raw.githubusercontent.com/zacharski/ml-class/master/data/gtzan.csv\n",
        "\n",
        "Go ahead and load the data into a dataframe (the first row contains feature names)\n"
      ]
    },
    {
      "cell_type": "code",
      "execution_count": 12,
      "metadata": {
        "id": "IiF0cRc4Wb6h"
      },
      "outputs": [],
      "source": [
        "music = pd.read_csv(\"https://raw.githubusercontent.com/zacharski/ml-class/master/data/gtzan.csv\")"
      ]
    },
    {
      "cell_type": "markdown",
      "metadata": {
        "id": "yAAvRO8JWb6h"
      },
      "source": [
        "Let's examine the values of the label column (the genres):"
      ]
    },
    {
      "cell_type": "code",
      "execution_count": 13,
      "metadata": {
        "id": "0m3K-MgiWb6h",
        "colab": {
          "base_uri": "https://localhost:8080/"
        },
        "outputId": "4d71a33d-f5b4-45d8-adeb-6cd67df66940"
      },
      "outputs": [
        {
          "output_type": "execute_result",
          "data": {
            "text/plain": [
              "array(['blues', 'classical', 'country', 'disco', 'hiphop', 'jazz',\n",
              "       'metal', 'pop', 'reggae', 'rock'], dtype=object)"
            ]
          },
          "metadata": {},
          "execution_count": 13
        }
      ],
      "source": [
        "music.label.unique()"
      ]
    },
    {
      "cell_type": "markdown",
      "metadata": {
        "id": "AlKrZfoVWb6h"
      },
      "source": [
        "Those are the 10 genres we are trying to predict. So if we were just to guess without hearing the clip, we would be accurate 10% of the time. How accurate do you think you would be based on hearing a 3 second clip? I am pretty confident I could correctly label the 30 second clips, but I am much less confident about labeling 3 second ones. Since guessing randomly would give me 10% accuracy, I am estimating maybe 50-60% accuracy. Let's see how a computer does.\n",
        "\n",
        "#### Feature Names\n",
        "So the column we are trying to predict is `label`. Now let's get the names of the feature columns"
      ]
    },
    {
      "cell_type": "code",
      "execution_count": 14,
      "metadata": {
        "id": "D1bvL8bCWb6h",
        "scrolled": true,
        "colab": {
          "base_uri": "https://localhost:8080/"
        },
        "outputId": "539fce02-84ec-416e-e914-fc52967fd1d4"
      },
      "outputs": [
        {
          "output_type": "stream",
          "name": "stdout",
          "text": [
            "['length', 'chroma_stft_mean', 'chroma_stft_var', 'rms_mean', 'rms_var', 'spectral_centroid_mean', 'spectral_centroid_var', 'spectral_bandwidth_mean', 'spectral_bandwidth_var', 'rolloff_mean', 'rolloff_var', 'zero_crossing_rate_mean', 'zero_crossing_rate_var', 'harmony_mean', 'harmony_var', 'perceptr_mean', 'perceptr_var', 'tempo', 'mfcc1_mean', 'mfcc1_var', 'mfcc2_mean', 'mfcc2_var', 'mfcc3_mean', 'mfcc3_var', 'mfcc4_mean', 'mfcc4_var', 'mfcc5_mean', 'mfcc5_var', 'mfcc6_mean', 'mfcc6_var', 'mfcc7_mean', 'mfcc7_var', 'mfcc8_mean', 'mfcc8_var', 'mfcc9_mean', 'mfcc9_var', 'mfcc10_mean', 'mfcc10_var', 'mfcc11_mean', 'mfcc11_var', 'mfcc12_mean', 'mfcc12_var', 'mfcc13_mean', 'mfcc13_var', 'mfcc14_mean', 'mfcc14_var', 'mfcc15_mean', 'mfcc15_var', 'mfcc16_mean', 'mfcc16_var', 'mfcc17_mean', 'mfcc17_var', 'mfcc18_mean', 'mfcc18_var', 'mfcc19_mean', 'mfcc19_var', 'mfcc20_mean', 'mfcc20_var']\n",
            "58\n"
          ]
        }
      ],
      "source": [
        "featureNames = list(music.columns)\n",
        "featureNames.remove('filename')\n",
        "featureNames.remove('label')\n",
        "print(featureNames)\n",
        "print(len(featureNames))"
      ]
    },
    {
      "cell_type": "markdown",
      "metadata": {
        "id": "I-B5g-RAWb6h"
      },
      "source": [
        "So we have 58 features. \n",
        "\n",
        "#### Training and test sets\n",
        "Now it is time to construct the training and test sets:"
      ]
    },
    {
      "cell_type": "code",
      "execution_count": 15,
      "metadata": {
        "id": "1zqluOErWb6h",
        "colab": {
          "base_uri": "https://localhost:8080/"
        },
        "outputId": "3402ab82-328b-4385-8900-f11bd614b8a6"
      },
      "outputs": [
        {
          "output_type": "execute_result",
          "data": {
            "text/plain": [
              "8664       reggae\n",
              "8029       reggae\n",
              "7490          pop\n",
              "1759    classical\n",
              "1577    classical\n",
              "          ...    \n",
              "7359          pop\n",
              "3968        disco\n",
              "193         blues\n",
              "7892          pop\n",
              "6996          pop\n",
              "Name: label, Length: 1998, dtype: object"
            ]
          },
          "metadata": {},
          "execution_count": 15
        }
      ],
      "source": [
        "## divide the original data 80% going into the music_training dataset \n",
        "## the rest in music_test\n",
        "music_training, music_test = train_test_split(music, test_size=0.2)\n",
        "                              \n",
        "## now create the DataFrames for just the features (excluding the label column \n",
        "## filename column)                              \n",
        "music_training_features = music_training[featureNames]\n",
        "music_test_features = music_test[featureNames]\n",
        "                              \n",
        "## now create the labels data structure for both the training and test sets                              \n",
        "music_training_labels = music_training['label']\n",
        "music_test_labels = music_test['label']\n",
        "music_test_labels"
      ]
    },
    {
      "cell_type": "markdown",
      "metadata": {
        "id": "touv2_GAWb6h"
      },
      "source": [
        "### Building a single decision tree classifier\n",
        "Let's build a single decision tree classifier called `clf` using entropy, fit it to the data, make predictions and determine the accuracy:"
      ]
    },
    {
      "cell_type": "code",
      "execution_count": 16,
      "metadata": {
        "id": "1V3O5patWb6h",
        "colab": {
          "base_uri": "https://localhost:8080/"
        },
        "outputId": "81cb08b7-18f5-447e-fbc3-27f8439d41fc"
      },
      "outputs": [
        {
          "output_type": "execute_result",
          "data": {
            "text/plain": [
              "0.6941941941941941"
            ]
          },
          "metadata": {},
          "execution_count": 16
        }
      ],
      "source": [
        "## Create clf, an instance of the Decision Tree Classifier\n",
        "clf = tree.DecisionTreeClassifier(criterion='entropy')\n",
        "\n",
        "## Fit it to the data\n",
        "clf.fit(music_training_features, music_training_labels)\n",
        "\n",
        "## get the predictions for the test set\n",
        "fortune = clf.predict(music_test_features)\n",
        "\n",
        "## get the accuracy score\n",
        "accuracy_score(music_test_labels, fortune)"
      ]
    },
    {
      "cell_type": "markdown",
      "metadata": {
        "id": "DEcDPHNUWb6h"
      },
      "source": [
        "When I did this I got 66% accuracy. That doesn't sound great but keep in mind that random guessing would only be 10% accuracy. \n",
        "\n",
        "### Building a Random Patch Classifier\n",
        "\n",
        "Now we are going to build a random patch classifier.\n",
        "\n",
        "* the base classifier will be a decision tree using entropy\n",
        "* the ensemble will contain 20 base classifiers\n",
        "* each classifier will use a random sample of 70% of the training data\n",
        "* each classifier will use a random sample of 70% of the features\n",
        "* the sampling will be done with replacement\n",
        "* it will use all available cpu cores.\n",
        "\n",
        "We are going to\n",
        "\n",
        "1. build the classifier\n",
        "2. train the classifier on the data\n",
        "3. make predictions on the test set\n",
        "4. determine the accuracy"
      ]
    },
    {
      "cell_type": "code",
      "execution_count": 17,
      "metadata": {
        "id": "HjTNhPVdWb6h",
        "colab": {
          "base_uri": "https://localhost:8080/"
        },
        "outputId": "18b007b1-96f4-4f2c-9801-b05a2cc9a3c6"
      },
      "outputs": [
        {
          "output_type": "execute_result",
          "data": {
            "text/plain": [
              "0.8373373373373373"
            ]
          },
          "metadata": {},
          "execution_count": 17
        }
      ],
      "source": [
        "# Build Classifier\n",
        "clf2 = tree.DecisionTreeClassifier(criterion='entropy')\n",
        "bagging_clf2 = BaggingClassifier(clf2, n_estimators=20, max_samples=0.7, max_features=0.7, bootstrap=True, n_jobs=-1)\n",
        "# Train Classifier \n",
        "bagging_clf2.fit(music_training_features, music_training_labels)\n",
        "# Make Predictions\n",
        "luck = bagging_clf2.predict(music_test_features)\n",
        "#Accuracy Check\n",
        "accuracy_score(music_test_labels, luck)"
      ]
    },
    {
      "cell_type": "markdown",
      "metadata": {
        "id": "7W3cc2--Wb6h"
      },
      "source": [
        "What accuracy did you get? Was it better than using a single classifier?\n",
        "Keep your original code above. Make a copy of it below and \n",
        "experiment a bit with the hyperparameters. (try 3 or 4 different things) What is the best accuracy you can get?"
      ]
    },
    {
      "cell_type": "code",
      "execution_count": 18,
      "metadata": {
        "id": "FkuEN3GUWb6i",
        "colab": {
          "base_uri": "https://localhost:8080/"
        },
        "outputId": "5f9dd279-ae64-4918-d77c-5fc38114a93d"
      },
      "outputs": [
        {
          "output_type": "execute_result",
          "data": {
            "text/plain": [
              "0.8793793793793794"
            ]
          },
          "metadata": {},
          "execution_count": 18
        }
      ],
      "source": [
        "## Changed n_estimators to 200\n",
        "# Build Classifier\n",
        "clf2 = tree.DecisionTreeClassifier(criterion='entropy')\n",
        "bagging_clf2 = BaggingClassifier(clf2, n_estimators=200, max_samples=0.7, max_features=0.7, bootstrap=True, n_jobs=-1)\n",
        "# Train Classifier \n",
        "bagging_clf2.fit(music_training_features, music_training_labels)\n",
        "# Make Predictions\n",
        "luck = bagging_clf2.predict(music_test_features)\n",
        "#Accuracy Check\n",
        "accuracy_score(music_test_labels, luck)"
      ]
    },
    {
      "cell_type": "code",
      "source": [
        "## Changed n_estimators=200, max_samples=0.9\n",
        "# Build Classifier\n",
        "clf2 = tree.DecisionTreeClassifier(criterion='entropy')\n",
        "bagging_clf2 = BaggingClassifier(clf2, n_estimators=200, max_samples=0.9, max_features=0.7, bootstrap=True, n_jobs=-1)\n",
        "# Train Classifier \n",
        "bagging_clf2.fit(music_training_features, music_training_labels)\n",
        "# Make Predictions\n",
        "luck = bagging_clf2.predict(music_test_features)\n",
        "#Accuracy Check\n",
        "accuracy_score(music_test_labels, luck)"
      ],
      "metadata": {
        "colab": {
          "base_uri": "https://localhost:8080/"
        },
        "id": "yeokdbHOfz_Z",
        "outputId": "5aee12fa-5bed-478c-f963-f2d8123dca0f"
      },
      "execution_count": 19,
      "outputs": [
        {
          "output_type": "execute_result",
          "data": {
            "text/plain": [
              "0.8858858858858859"
            ]
          },
          "metadata": {},
          "execution_count": 19
        }
      ]
    },
    {
      "cell_type": "code",
      "source": [
        "## Changed n_estimators=200, max_samples=0.9, max_features=0.5\n",
        "# Build Classifier\n",
        "clf2 = tree.DecisionTreeClassifier(criterion='entropy')\n",
        "bagging_clf2 = BaggingClassifier(clf2, n_estimators=200, max_samples=0.9, max_features=0.6, bootstrap=True, n_jobs=-1)\n",
        "# Train Classifier \n",
        "bagging_clf2.fit(music_training_features, music_training_labels)\n",
        "# Make Predictions\n",
        "luck = bagging_clf2.predict(music_test_features)\n",
        "#Accuracy Check\n",
        "accuracy_score(music_test_labels, luck)"
      ],
      "metadata": {
        "colab": {
          "base_uri": "https://localhost:8080/"
        },
        "id": "tECcGW7Tjkgf",
        "outputId": "ad7744aa-22a4-439c-f988-d8239fcf4e56"
      },
      "execution_count": 20,
      "outputs": [
        {
          "output_type": "execute_result",
          "data": {
            "text/plain": [
              "0.8893893893893894"
            ]
          },
          "metadata": {},
          "execution_count": 20
        }
      ]
    },
    {
      "cell_type": "markdown",
      "metadata": {
        "id": "MP2mAHhTWb6i"
      },
      "source": [
        "\n",
        "##<font color='#52BE80'>NOTES</font>\n",
        "\n",
        "### Breast Cancer Database\n",
        "\n",
        "[back](#Wisconsin-Cancer-Dataset)\n",
        "\n",
        "  This breast cancer databases was obtained from the University of Wisconsin\n",
        "   Hospitals, Madison from Dr. William H. Wolberg.  If you publish results\n",
        "   when using this database, then please include this information in your\n",
        "   acknowledgements.  Also, please cite one or more of:\n",
        "\n",
        "   1. O. L. Mangasarian and W. H. Wolberg: \"Cancer diagnosis via linear \n",
        "      programming\", SIAM News, Volume 23, Number 5, September 1990, pp 1 & 18.\n",
        "\n",
        "   2. William H. Wolberg and O.L. Mangasarian: \"Multisurface method of \n",
        "      pattern separation for medical diagnosis applied to breast cytology\", \n",
        "      Proceedings of the National Academy of Sciences, U.S.A., Volume 87, \n",
        "      December 1990, pp 9193-9196.\n",
        "\n",
        "   3. O. L. Mangasarian, R. Setiono, and W.H. Wolberg: \"Pattern recognition \n",
        "      via linear programming: Theory and application to medical diagnosis\", \n",
        "      in: \"Large-scale numerical optimization\", Thomas F. Coleman and Yuying\n",
        "      Li, editors, SIAM Publications, Philadelphia 1990, pp 22-30.\n",
        "\n",
        "   4. K. P. Bennett & O. L. Mangasarian: \"Robust linear programming \n",
        "      discrimination of two linearly inseparable sets\", Optimization Methods\n",
        "      and Software 1, 1992, 23-34 (Gordon & Breach Science Publishers).\n",
        "\n",
        "Title: Wisconsin Breast Cancer Database (January 8, 1991)\n",
        "\n",
        "\n",
        "Sources:\n",
        "   -- Dr. WIlliam H. Wolberg (physician)\n",
        "      University of Wisconsin Hospitals\n",
        "      Madison, Wisconsin\n",
        "      USA\n",
        "   -- Donor: Olvi Mangasarian (mangasarian@cs.wisc.edu)\n",
        "      Received by David W. Aha (aha@cs.jhu.edu)\n",
        "   -- Date: 15 July 1992"
      ]
    },
    {
      "cell_type": "code",
      "execution_count": 20,
      "metadata": {
        "id": "Z4yT3Ci2Wb6i"
      },
      "outputs": [],
      "source": []
    }
  ],
  "metadata": {
    "colab": {
      "provenance": [],
      "collapsed_sections": [
        "MP2mAHhTWb6i"
      ]
    },
    "kernelspec": {
      "display_name": "Python 3 (ipykernel)",
      "language": "python",
      "name": "python3"
    },
    "language_info": {
      "codemirror_mode": {
        "name": "ipython",
        "version": 3
      },
      "file_extension": ".py",
      "mimetype": "text/x-python",
      "name": "python",
      "nbconvert_exporter": "python",
      "pygments_lexer": "ipython3",
      "version": "3.9.12"
    }
  },
  "nbformat": 4,
  "nbformat_minor": 0
}